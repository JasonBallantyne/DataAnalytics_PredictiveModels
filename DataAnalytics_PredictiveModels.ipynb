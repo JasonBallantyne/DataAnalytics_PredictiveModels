{
 "cells": [
  {
   "cell_type": "markdown",
   "metadata": {},
   "source": [
    "<h1><center>COMP47350: Data Analytics</center></h1>\n",
    "<h2><center>Homework 2</center></h2>"
   ]
  },
  {
   "cell_type": "code",
   "execution_count": 1,
   "metadata": {},
   "outputs": [],
   "source": [
    "import pandas as pd\n",
    "import numpy as np\n",
    "\n",
    "import matplotlib.pyplot as plt\n",
    "import matplotlib.patches as mpatches\n",
    "from patsy import dmatrices\n",
    "from sklearn.linear_model import LinearRegression\n",
    "from sklearn.linear_model import LogisticRegression\n",
    "from sklearn.tree import DecisionTreeClassifier\n",
    "from sklearn.ensemble import RandomForestClassifier\n",
    "from sklearn.model_selection import train_test_split\n",
    "from sklearn import metrics\n",
    "from sklearn.model_selection import cross_validate\n",
    "from sklearn.model_selection import cross_val_score\n",
    "from sklearn.tree import export_graphviz\n",
    "import graphviz\n",
    "from graphviz import Source\n",
    "from seaborn import relplot\n",
    "import seaborn as sn\n",
    "import scipy.stats as ss\n",
    "# ignore warnings\n",
    "import warnings\n",
    "warnings.filterwarnings('ignore')"
   ]
  },
  {
   "cell_type": "markdown",
   "metadata": {},
   "source": [
    "## ReCleaning Homework 1 Dataset"
   ]
  },
  {
   "cell_type": "code",
   "execution_count": 2,
   "metadata": {},
   "outputs": [],
   "source": [
    "# Read in the uncleaned csv\n",
    "df = pd.read_csv('covid19-cdc-13432788.csv', keep_default_na=True, sep=',\\s+', delimiter=',', skipinitialspace=True)"
   ]
  },
  {
   "cell_type": "code",
   "execution_count": 3,
   "metadata": {},
   "outputs": [
    {
     "data": {
      "text/plain": [
       "(10000, 12)"
      ]
     },
     "execution_count": 3,
     "metadata": {},
     "output_type": "execute_result"
    }
   ],
   "source": [
    "# Checking the rows and columns of this dataframe\n",
    "df.shape"
   ]
  },
  {
   "cell_type": "code",
   "execution_count": 4,
   "metadata": {},
   "outputs": [
    {
     "data": {
      "text/html": [
       "<div>\n",
       "<style scoped>\n",
       "    .dataframe tbody tr th:only-of-type {\n",
       "        vertical-align: middle;\n",
       "    }\n",
       "\n",
       "    .dataframe tbody tr th {\n",
       "        vertical-align: top;\n",
       "    }\n",
       "\n",
       "    .dataframe thead th {\n",
       "        text-align: right;\n",
       "    }\n",
       "</style>\n",
       "<table border=\"1\" class=\"dataframe\">\n",
       "  <thead>\n",
       "    <tr style=\"text-align: right;\">\n",
       "      <th></th>\n",
       "      <th>cdc_case_earliest_dt</th>\n",
       "      <th>cdc_report_dt</th>\n",
       "      <th>pos_spec_dt</th>\n",
       "      <th>onset_dt</th>\n",
       "      <th>current_status</th>\n",
       "      <th>sex</th>\n",
       "      <th>age_group</th>\n",
       "      <th>race_ethnicity_combined</th>\n",
       "      <th>hosp_yn</th>\n",
       "      <th>icu_yn</th>\n",
       "      <th>death_yn</th>\n",
       "      <th>medcond_yn</th>\n",
       "    </tr>\n",
       "  </thead>\n",
       "  <tbody>\n",
       "    <tr>\n",
       "      <th>0</th>\n",
       "      <td>2020/11/16</td>\n",
       "      <td>2020/11/16</td>\n",
       "      <td>NaN</td>\n",
       "      <td>2020/11/16</td>\n",
       "      <td>Laboratory-confirmed case</td>\n",
       "      <td>Female</td>\n",
       "      <td>30 - 39 Years</td>\n",
       "      <td>White, Non-Hispanic</td>\n",
       "      <td>No</td>\n",
       "      <td>Missing</td>\n",
       "      <td>No</td>\n",
       "      <td>Missing</td>\n",
       "    </tr>\n",
       "    <tr>\n",
       "      <th>1</th>\n",
       "      <td>2020/06/19</td>\n",
       "      <td>2021/01/24</td>\n",
       "      <td>2020/06/19</td>\n",
       "      <td>NaN</td>\n",
       "      <td>Laboratory-confirmed case</td>\n",
       "      <td>Male</td>\n",
       "      <td>60 - 69 Years</td>\n",
       "      <td>Unknown</td>\n",
       "      <td>Missing</td>\n",
       "      <td>Missing</td>\n",
       "      <td>No</td>\n",
       "      <td>Missing</td>\n",
       "    </tr>\n",
       "    <tr>\n",
       "      <th>2</th>\n",
       "      <td>2020/07/25</td>\n",
       "      <td>2020/09/30</td>\n",
       "      <td>NaN</td>\n",
       "      <td>2020/07/25</td>\n",
       "      <td>Laboratory-confirmed case</td>\n",
       "      <td>Male</td>\n",
       "      <td>60 - 69 Years</td>\n",
       "      <td>Unknown</td>\n",
       "      <td>No</td>\n",
       "      <td>Missing</td>\n",
       "      <td>No</td>\n",
       "      <td>Missing</td>\n",
       "    </tr>\n",
       "    <tr>\n",
       "      <th>3</th>\n",
       "      <td>2020/06/13</td>\n",
       "      <td>NaN</td>\n",
       "      <td>NaN</td>\n",
       "      <td>NaN</td>\n",
       "      <td>Laboratory-confirmed case</td>\n",
       "      <td>Male</td>\n",
       "      <td>30 - 39 Years</td>\n",
       "      <td>Black, Non-Hispanic</td>\n",
       "      <td>Unknown</td>\n",
       "      <td>Missing</td>\n",
       "      <td>No</td>\n",
       "      <td>Missing</td>\n",
       "    </tr>\n",
       "    <tr>\n",
       "      <th>4</th>\n",
       "      <td>2020/06/22</td>\n",
       "      <td>2020/08/15</td>\n",
       "      <td>2020/08/15</td>\n",
       "      <td>NaN</td>\n",
       "      <td>Laboratory-confirmed case</td>\n",
       "      <td>Female</td>\n",
       "      <td>50 - 59 Years</td>\n",
       "      <td>Black, Non-Hispanic</td>\n",
       "      <td>Yes</td>\n",
       "      <td>Missing</td>\n",
       "      <td>Yes</td>\n",
       "      <td>Missing</td>\n",
       "    </tr>\n",
       "  </tbody>\n",
       "</table>\n",
       "</div>"
      ],
      "text/plain": [
       "  cdc_case_earliest_dt cdc_report_dt pos_spec_dt    onset_dt  \\\n",
       "0           2020/11/16    2020/11/16         NaN  2020/11/16   \n",
       "1           2020/06/19    2021/01/24  2020/06/19         NaN   \n",
       "2           2020/07/25    2020/09/30         NaN  2020/07/25   \n",
       "3           2020/06/13           NaN         NaN         NaN   \n",
       "4           2020/06/22    2020/08/15  2020/08/15         NaN   \n",
       "\n",
       "              current_status     sex      age_group race_ethnicity_combined  \\\n",
       "0  Laboratory-confirmed case  Female  30 - 39 Years     White, Non-Hispanic   \n",
       "1  Laboratory-confirmed case    Male  60 - 69 Years                 Unknown   \n",
       "2  Laboratory-confirmed case    Male  60 - 69 Years                 Unknown   \n",
       "3  Laboratory-confirmed case    Male  30 - 39 Years     Black, Non-Hispanic   \n",
       "4  Laboratory-confirmed case  Female  50 - 59 Years     Black, Non-Hispanic   \n",
       "\n",
       "   hosp_yn   icu_yn death_yn medcond_yn  \n",
       "0       No  Missing       No    Missing  \n",
       "1  Missing  Missing       No    Missing  \n",
       "2       No  Missing       No    Missing  \n",
       "3  Unknown  Missing       No    Missing  \n",
       "4      Yes  Missing      Yes    Missing  "
      ]
     },
     "execution_count": 4,
     "metadata": {},
     "output_type": "execute_result"
    }
   ],
   "source": [
    "# Exploring the dataframe\n",
    "df.head()"
   ]
  },
  {
   "cell_type": "markdown",
   "metadata": {},
   "source": [
    "### cdc_case_earliest_dt:\n",
    "- We will carry out general integrity tests and adjust the cdc_case_earliest date if any of the dates (cdc_report_dt, pos_spec_dt, onset_dt) precede cdc_case_earliest_dt (not possible).\n",
    "- We will use information from integrity tests to do imputation on cdc_case_earliest_dt where values are wrong if needed."
   ]
  },
  {
   "cell_type": "code",
   "execution_count": 5,
   "metadata": {},
   "outputs": [
    {
     "data": {
      "text/plain": [
       "32"
      ]
     },
     "execution_count": 5,
     "metadata": {},
     "output_type": "execute_result"
    }
   ],
   "source": [
    "# Checking if cdc_report_dt is earlier than cdc_case_earliest_dt for any rows (not possible)\n",
    "(df['cdc_case_earliest_dt'] > df[\"cdc_report_dt\"]).sum()"
   ]
  },
  {
   "cell_type": "markdown",
   "metadata": {},
   "source": [
    "- This is not possible, we will now replace these dates as cdc_case_earliest_dt should not be greater than cdc_report_dt for any rows"
   ]
  },
  {
   "cell_type": "code",
   "execution_count": 6,
   "metadata": {},
   "outputs": [],
   "source": [
    "df['cdc_case_earliest_dt'].loc[(df['cdc_case_earliest_dt'] > df[\"cdc_report_dt\"])] = df[\"cdc_report_dt\"]"
   ]
  },
  {
   "cell_type": "code",
   "execution_count": 7,
   "metadata": {},
   "outputs": [
    {
     "data": {
      "text/plain": [
       "0"
      ]
     },
     "execution_count": 7,
     "metadata": {},
     "output_type": "execute_result"
    }
   ],
   "source": [
    "# Rechecking if cdc_report_dt is earlier than cdc_case_earliest_dt for any rows after replacing the values\n",
    "(df['cdc_case_earliest_dt'] > df[\"cdc_report_dt\"]).sum()"
   ]
  },
  {
   "cell_type": "code",
   "execution_count": 8,
   "metadata": {},
   "outputs": [
    {
     "data": {
      "text/plain": [
       "46"
      ]
     },
     "execution_count": 8,
     "metadata": {},
     "output_type": "execute_result"
    }
   ],
   "source": [
    "# Checking if pos_spec_dt is earlier than cdc_case_earliest_dt for any rows (not possible)\n",
    "(df['cdc_case_earliest_dt'] > df[\"pos_spec_dt\"]).sum()"
   ]
  },
  {
   "cell_type": "markdown",
   "metadata": {},
   "source": [
    "- This is not possible, we will now replace these dates as cdc_case_earliest_dt should not be greater than pos_spec_dt"
   ]
  },
  {
   "cell_type": "code",
   "execution_count": 9,
   "metadata": {},
   "outputs": [],
   "source": [
    "df['cdc_case_earliest_dt'].loc[(df['cdc_case_earliest_dt'] > df[\"pos_spec_dt\"])] = df[\"pos_spec_dt\"]"
   ]
  },
  {
   "cell_type": "code",
   "execution_count": 10,
   "metadata": {},
   "outputs": [
    {
     "data": {
      "text/plain": [
       "0"
      ]
     },
     "execution_count": 10,
     "metadata": {},
     "output_type": "execute_result"
    }
   ],
   "source": [
    "# Rechecking if pos_spec_dt is earlier than cdc_case_earliest_dt for any rows after replacing the values\n",
    "(df['cdc_case_earliest_dt'] > df[\"pos_spec_dt\"]).sum()"
   ]
  },
  {
   "cell_type": "code",
   "execution_count": 11,
   "metadata": {},
   "outputs": [
    {
     "data": {
      "text/plain": [
       "0"
      ]
     },
     "execution_count": 11,
     "metadata": {},
     "output_type": "execute_result"
    }
   ],
   "source": [
    "# Checking if onset_dt is earlier than cdc_case_earliest_dt for any rows (not possible)\n",
    "(df['cdc_case_earliest_dt'] > df[\"onset_dt\"]).sum()"
   ]
  },
  {
   "cell_type": "markdown",
   "metadata": {},
   "source": [
    "No dates for onset_dt are earlier than cdc_case_earliest_dt, no data needs to be replaced here"
   ]
  },
  {
   "cell_type": "markdown",
   "metadata": {},
   "source": [
    "### cdc_report_dt:\n",
    "We will firstly check for % null values on cdc_report_dt"
   ]
  },
  {
   "cell_type": "code",
   "execution_count": 12,
   "metadata": {},
   "outputs": [
    {
     "data": {
      "text/plain": [
       "22.61"
      ]
     },
     "execution_count": 12,
     "metadata": {},
     "output_type": "execute_result"
    }
   ],
   "source": [
    "cdc_report_dt_missing_data = 100 * (df['cdc_report_dt'].isnull().sum()/df.shape[0])\n",
    "cdc_report_dt_missing_data"
   ]
  },
  {
   "cell_type": "markdown",
   "metadata": {},
   "source": [
    "We have used this column for comparison in our integrity checks, this column can be dropped as it has been depreciated according to <b>CDC guidelines</b>."
   ]
  },
  {
   "cell_type": "code",
   "execution_count": 13,
   "metadata": {},
   "outputs": [],
   "source": [
    "df = df.drop(\"cdc_report_dt\", 1)"
   ]
  },
  {
   "cell_type": "markdown",
   "metadata": {},
   "source": [
    "### pos_spec_dt:\n",
    "We will check the % of null values for pos_spec_dt then decide how to proceed with this column."
   ]
  },
  {
   "cell_type": "code",
   "execution_count": 14,
   "metadata": {},
   "outputs": [
    {
     "data": {
      "text/plain": [
       "71.74000000000001"
      ]
     },
     "execution_count": 14,
     "metadata": {},
     "output_type": "execute_result"
    }
   ],
   "source": [
    "pos_spec_dt_missing_data = 100 * (df['pos_spec_dt'].isnull().sum()/df.shape[0])\n",
    "pos_spec_dt_missing_data"
   ]
  },
  {
   "cell_type": "markdown",
   "metadata": {},
   "source": [
    "- There is over 71% null values for this column. \n",
    "- We have already used this column for comparison in our integrity checks. \n",
    "- We will now drop this column."
   ]
  },
  {
   "cell_type": "code",
   "execution_count": 15,
   "metadata": {},
   "outputs": [],
   "source": [
    "df = df.drop(\"pos_spec_dt\", 1)"
   ]
  },
  {
   "cell_type": "markdown",
   "metadata": {},
   "source": [
    "### onset_dt:\n",
    "We will check the % of null values for onset_dt then decide how to proceed with this column."
   ]
  },
  {
   "cell_type": "code",
   "execution_count": 16,
   "metadata": {},
   "outputs": [
    {
     "data": {
      "text/plain": [
       "48.92"
      ]
     },
     "execution_count": 16,
     "metadata": {},
     "output_type": "execute_result"
    }
   ],
   "source": [
    "onset_dt_null_data = 100 * (df['onset_dt'].isnull().sum()/df.shape[0])\n",
    "onset_dt_null_data"
   ]
  },
  {
   "cell_type": "markdown",
   "metadata": {},
   "source": [
    "- There is over 48% null values for this column. \n",
    "- We have already used this column for comparison in our integrity checks. \n",
    "- We will now drop this column."
   ]
  },
  {
   "cell_type": "code",
   "execution_count": 17,
   "metadata": {},
   "outputs": [],
   "source": [
    "df = df.drop(\"onset_dt\", 1)"
   ]
  },
  {
   "cell_type": "markdown",
   "metadata": {},
   "source": [
    "### current_status:\n",
    "We will check the % of null values for current_status then decide how to proceed with this column."
   ]
  },
  {
   "cell_type": "code",
   "execution_count": 18,
   "metadata": {},
   "outputs": [
    {
     "data": {
      "text/plain": [
       "0.0"
      ]
     },
     "execution_count": 18,
     "metadata": {},
     "output_type": "execute_result"
    }
   ],
   "source": [
    "current_status_null_data = 100 * (df['current_status'].isnull().sum()/df.shape[0])\n",
    "current_status_null_data"
   ]
  },
  {
   "cell_type": "markdown",
   "metadata": {},
   "source": [
    "- There is no null data in the current_status column.\n",
    "- We will check the contents of the current_status column."
   ]
  },
  {
   "cell_type": "code",
   "execution_count": 19,
   "metadata": {},
   "outputs": [
    {
     "name": "stdout",
     "output_type": "stream",
     "text": [
      "Laboratory-confirmed case    92.95\n",
      "Probable Case                 7.05\n",
      "Name: current_status, dtype: float64\n"
     ]
    }
   ],
   "source": [
    "current_status_contents  = 100 * (df['current_status'].value_counts()/df.shape[0])\n",
    "print(current_status_contents)"
   ]
  },
  {
   "cell_type": "markdown",
   "metadata": {},
   "source": [
    "- There is no null data or no Unknown data, we will leave this column untouched."
   ]
  },
  {
   "cell_type": "markdown",
   "metadata": {},
   "source": [
    "### sex:\n",
    "We will check the % of null values for sex then decide how to proceed with this column."
   ]
  },
  {
   "cell_type": "code",
   "execution_count": 20,
   "metadata": {},
   "outputs": [
    {
     "data": {
      "text/plain": [
       "0.0"
      ]
     },
     "execution_count": 20,
     "metadata": {},
     "output_type": "execute_result"
    }
   ],
   "source": [
    "sex_null_data = 100 * (df['sex'].isnull().sum()/df.shape[0])\n",
    "sex_null_data"
   ]
  },
  {
   "cell_type": "markdown",
   "metadata": {},
   "source": [
    "- There is no null data in the sex column.\n",
    "- We will check the contents of the sex column."
   ]
  },
  {
   "cell_type": "code",
   "execution_count": 21,
   "metadata": {},
   "outputs": [
    {
     "name": "stdout",
     "output_type": "stream",
     "text": [
      "Female     51.91\n",
      "Male       47.13\n",
      "Unknown     0.84\n",
      "Missing     0.12\n",
      "Name: sex, dtype: float64\n"
     ]
    }
   ],
   "source": [
    "sex_contents  = 100 * (df['sex'].value_counts()/df.shape[0])\n",
    "print(sex_contents)"
   ]
  },
  {
   "cell_type": "markdown",
   "metadata": {},
   "source": [
    "- Very few rows have Missing or Unknown values, they combine for less than 1%\n",
    "- We will drop these rows"
   ]
  },
  {
   "cell_type": "code",
   "execution_count": 22,
   "metadata": {},
   "outputs": [],
   "source": [
    "df = df[~df['sex'].isin(['Missing','Unknown'])]"
   ]
  },
  {
   "cell_type": "code",
   "execution_count": 23,
   "metadata": {},
   "outputs": [
    {
     "name": "stdout",
     "output_type": "stream",
     "text": [
      "Female    52.413166\n",
      "Male      47.586834\n",
      "Name: sex, dtype: float64\n"
     ]
    }
   ],
   "source": [
    "# Rechecking to ensure the removal of these rows have taken place\n",
    "sex_contents  = 100 * (df['sex'].value_counts()/df.shape[0])\n",
    "print(sex_contents)"
   ]
  },
  {
   "cell_type": "markdown",
   "metadata": {},
   "source": [
    "### age_group\n",
    "We will check the % of null values for age_group then decide how to proceed with this column."
   ]
  },
  {
   "cell_type": "code",
   "execution_count": 24,
   "metadata": {},
   "outputs": [
    {
     "data": {
      "text/plain": [
       "0.0"
      ]
     },
     "execution_count": 24,
     "metadata": {},
     "output_type": "execute_result"
    }
   ],
   "source": [
    "age_group_data = 100 * (df['age_group'].isnull().sum()/df.shape[0])\n",
    "age_group_data"
   ]
  },
  {
   "cell_type": "markdown",
   "metadata": {},
   "source": [
    "- There is no null values in the age_group column.\n",
    "- We will check the contents of the age_group column."
   ]
  },
  {
   "cell_type": "code",
   "execution_count": 25,
   "metadata": {},
   "outputs": [
    {
     "name": "stdout",
     "output_type": "stream",
     "text": [
      "20 - 29 Years    18.638934\n",
      "30 - 39 Years    15.771405\n",
      "40 - 49 Years    15.125202\n",
      "50 - 59 Years    14.802100\n",
      "60 - 69 Years    10.591680\n",
      "10 - 19 Years     9.955574\n",
      "70 - 79 Years     6.017771\n",
      "80+ Years         4.584006\n",
      "0 - 9 Years       4.382068\n",
      "Missing           0.131260\n",
      "Name: age_group, dtype: float64\n"
     ]
    }
   ],
   "source": [
    "age_group_contents  = 100 * (df['age_group'].value_counts()/df.shape[0])\n",
    "print(age_group_contents)"
   ]
  },
  {
   "cell_type": "markdown",
   "metadata": {},
   "source": [
    "- As very few rows have Missing values (0.14%) we will drop these rows"
   ]
  },
  {
   "cell_type": "code",
   "execution_count": 26,
   "metadata": {},
   "outputs": [],
   "source": [
    "df = df[~df['age_group'].isin(['Missing'])]"
   ]
  },
  {
   "cell_type": "code",
   "execution_count": 27,
   "metadata": {},
   "outputs": [
    {
     "name": "stdout",
     "output_type": "stream",
     "text": [
      "20 - 29 Years    18.663431\n",
      "30 - 39 Years    15.792134\n",
      "40 - 49 Years    15.145081\n",
      "50 - 59 Years    14.821555\n",
      "60 - 69 Years    10.605601\n",
      "10 - 19 Years     9.968658\n",
      "70 - 79 Years     6.025680\n",
      "80+ Years         4.590031\n",
      "0 - 9 Years       4.387827\n",
      "Name: age_group, dtype: float64\n"
     ]
    }
   ],
   "source": [
    "# Rechecking to ensure the removal of the rows has taken place\n",
    "age_group_contents  = 100 * (df['age_group'].value_counts()/df.shape[0])\n",
    "print(age_group_contents)"
   ]
  },
  {
   "cell_type": "markdown",
   "metadata": {},
   "source": [
    "### race_ethnicity_combined\n",
    "We will check the % of null values for age_group then decide how to proceed with this column."
   ]
  },
  {
   "cell_type": "code",
   "execution_count": 28,
   "metadata": {},
   "outputs": [
    {
     "data": {
      "text/plain": [
       "0.0"
      ]
     },
     "execution_count": 28,
     "metadata": {},
     "output_type": "execute_result"
    }
   ],
   "source": [
    "race_ethnicity_data = 100 * (df['age_group'].isnull().sum()/df.shape[0])\n",
    "race_ethnicity_data"
   ]
  },
  {
   "cell_type": "markdown",
   "metadata": {},
   "source": [
    "- There are no null values in the race_ethnicity_combined column.\n",
    "- We will check the contents of the race_ethnicity_combined column."
   ]
  },
  {
   "cell_type": "code",
   "execution_count": 29,
   "metadata": {},
   "outputs": [
    {
     "name": "stdout",
     "output_type": "stream",
     "text": [
      "Unknown                                                 39.915074\n",
      "White, Non-Hispanic                                     33.828733\n",
      "Hispanic/Latino                                          9.948438\n",
      "Black, Non-Hispanic                                      6.794055\n",
      "Multiple/Other, Non-Hispanic                             5.095541\n",
      "Asian, Non-Hispanic                                      2.557881\n",
      "Missing                                                  0.940249\n",
      "American Indian/Alaska Native, Non-Hispanic              0.677383\n",
      "Native Hawaiian/Other Pacific Islander, Non-Hispanic     0.242645\n",
      "Name: race_ethnicity_combined, dtype: float64\n"
     ]
    }
   ],
   "source": [
    "race_ethnicity_contents  = 100 * (df['race_ethnicity_combined'].value_counts()/df.shape[0])\n",
    "print(race_ethnicity_contents)"
   ]
  },
  {
   "cell_type": "markdown",
   "metadata": {},
   "source": [
    "- There is a large number of Unknown and Missing values, we will combine these into a single Unknown value and keep"
   ]
  },
  {
   "cell_type": "code",
   "execution_count": 30,
   "metadata": {},
   "outputs": [],
   "source": [
    "df['race_ethnicity_combined'] = df['race_ethnicity_combined'].replace(\"Missing\", \"Unknown\")"
   ]
  },
  {
   "cell_type": "code",
   "execution_count": 31,
   "metadata": {},
   "outputs": [
    {
     "name": "stdout",
     "output_type": "stream",
     "text": [
      "Unknown                                                 40.855323\n",
      "White, Non-Hispanic                                     33.828733\n",
      "Hispanic/Latino                                          9.948438\n",
      "Black, Non-Hispanic                                      6.794055\n",
      "Multiple/Other, Non-Hispanic                             5.095541\n",
      "Asian, Non-Hispanic                                      2.557881\n",
      "American Indian/Alaska Native, Non-Hispanic              0.677383\n",
      "Native Hawaiian/Other Pacific Islander, Non-Hispanic     0.242645\n",
      "Name: race_ethnicity_combined, dtype: float64\n"
     ]
    }
   ],
   "source": [
    "# Rechecking to ensure the replacing of the value has taken effect\n",
    "race_ethnicity_contents  = 100 * (df['race_ethnicity_combined'].value_counts()/df.shape[0])\n",
    "print(race_ethnicity_contents)"
   ]
  },
  {
   "cell_type": "markdown",
   "metadata": {},
   "source": [
    "### hosp_yn:\n",
    "We will check the % of null values for hosp_yn then decide how to proceed with this column."
   ]
  },
  {
   "cell_type": "code",
   "execution_count": 32,
   "metadata": {},
   "outputs": [
    {
     "data": {
      "text/plain": [
       "0.0"
      ]
     },
     "execution_count": 32,
     "metadata": {},
     "output_type": "execute_result"
    }
   ],
   "source": [
    "hosp_data = 100 * (df['hosp_yn'].isnull().sum()/df.shape[0])\n",
    "hosp_data"
   ]
  },
  {
   "cell_type": "markdown",
   "metadata": {},
   "source": [
    "- There are no null values in the hosp_yn column.\n",
    "- We will check the contents of the hosp_yn column."
   ]
  },
  {
   "cell_type": "code",
   "execution_count": 33,
   "metadata": {},
   "outputs": [
    {
     "name": "stdout",
     "output_type": "stream",
     "text": [
      "No         52.512385\n",
      "Missing    23.496108\n",
      "Unknown    17.308664\n",
      "Yes         6.662623\n",
      "OTH         0.020220\n",
      "Name: hosp_yn, dtype: float64\n"
     ]
    }
   ],
   "source": [
    "hosp_contents  = 100 * (df['hosp_yn'].value_counts()/df.shape[0])\n",
    "print(hosp_contents)"
   ]
  },
  {
   "cell_type": "markdown",
   "metadata": {},
   "source": [
    "- There is a large number of Unknown and Missing values, we will combine these into a single Unknown value and keep"
   ]
  },
  {
   "cell_type": "code",
   "execution_count": 34,
   "metadata": {},
   "outputs": [],
   "source": [
    "df['hosp_yn'] = df['hosp_yn'].replace(\"Missing\", \"Unknown\")"
   ]
  },
  {
   "cell_type": "code",
   "execution_count": 35,
   "metadata": {},
   "outputs": [
    {
     "name": "stdout",
     "output_type": "stream",
     "text": [
      "No         52.512385\n",
      "Unknown    40.804772\n",
      "Yes         6.662623\n",
      "OTH         0.020220\n",
      "Name: hosp_yn, dtype: float64\n"
     ]
    }
   ],
   "source": [
    "# Rechecking to ensure the replacing of the value has taken effect\n",
    "hosp_contents  = 100 * (df['hosp_yn'].value_counts()/df.shape[0])\n",
    "print(hosp_contents)"
   ]
  },
  {
   "cell_type": "markdown",
   "metadata": {},
   "source": [
    "### icu_yn:\n",
    "- We will infer values from hosp_yn where possible as icu cannot equal yes while hospital equals no\n",
    "- A patient cannot attend the icu without attending the hospital"
   ]
  },
  {
   "cell_type": "code",
   "execution_count": 36,
   "metadata": {},
   "outputs": [
    {
     "data": {
      "text/html": [
       "<div>\n",
       "<style scoped>\n",
       "    .dataframe tbody tr th:only-of-type {\n",
       "        vertical-align: middle;\n",
       "    }\n",
       "\n",
       "    .dataframe tbody tr th {\n",
       "        vertical-align: top;\n",
       "    }\n",
       "\n",
       "    .dataframe thead th {\n",
       "        text-align: right;\n",
       "    }\n",
       "</style>\n",
       "<table border=\"1\" class=\"dataframe\">\n",
       "  <thead>\n",
       "    <tr style=\"text-align: right;\">\n",
       "      <th></th>\n",
       "      <th>hosp_yn</th>\n",
       "      <th>icu_yn</th>\n",
       "    </tr>\n",
       "  </thead>\n",
       "  <tbody>\n",
       "    <tr>\n",
       "      <th>8070</th>\n",
       "      <td>No</td>\n",
       "      <td>Yes</td>\n",
       "    </tr>\n",
       "  </tbody>\n",
       "</table>\n",
       "</div>"
      ],
      "text/plain": [
       "     hosp_yn icu_yn\n",
       "8070      No    Yes"
      ]
     },
     "execution_count": 36,
     "metadata": {},
     "output_type": "execute_result"
    }
   ],
   "source": [
    "df_infer = df.loc[(df['hosp_yn'] != df['icu_yn']) & (df['icu_yn']=='Yes'), ['hosp_yn', 'icu_yn']]\n",
    "df_infer"
   ]
  },
  {
   "cell_type": "markdown",
   "metadata": {},
   "source": [
    "- There is one row that has hosp_yn as \"No\" while icu_yn is \"Yes\"\n",
    "- This is not possible, we will infer \"Yes\" for the hosp_yn"
   ]
  },
  {
   "cell_type": "code",
   "execution_count": 37,
   "metadata": {},
   "outputs": [],
   "source": [
    "df.loc[(df['hosp_yn'] != df['icu_yn']) & (df['icu_yn']=='Yes'), ['hosp_yn', 'icu_yn']] = \"Yes\""
   ]
  },
  {
   "cell_type": "code",
   "execution_count": 38,
   "metadata": {},
   "outputs": [
    {
     "data": {
      "text/html": [
       "<div>\n",
       "<style scoped>\n",
       "    .dataframe tbody tr th:only-of-type {\n",
       "        vertical-align: middle;\n",
       "    }\n",
       "\n",
       "    .dataframe tbody tr th {\n",
       "        vertical-align: top;\n",
       "    }\n",
       "\n",
       "    .dataframe thead th {\n",
       "        text-align: right;\n",
       "    }\n",
       "</style>\n",
       "<table border=\"1\" class=\"dataframe\">\n",
       "  <thead>\n",
       "    <tr style=\"text-align: right;\">\n",
       "      <th></th>\n",
       "      <th>hosp_yn</th>\n",
       "      <th>icu_yn</th>\n",
       "    </tr>\n",
       "  </thead>\n",
       "  <tbody>\n",
       "  </tbody>\n",
       "</table>\n",
       "</div>"
      ],
      "text/plain": [
       "Empty DataFrame\n",
       "Columns: [hosp_yn, icu_yn]\n",
       "Index: []"
      ]
     },
     "execution_count": 38,
     "metadata": {},
     "output_type": "execute_result"
    }
   ],
   "source": [
    "# Rechecking to ensure the infer has taken place\n",
    "df_infer = df.loc[(df['hosp_yn'] != df['icu_yn']) & (df['icu_yn']=='Yes'), ['hosp_yn', 'icu_yn']]\n",
    "df_infer"
   ]
  },
  {
   "cell_type": "markdown",
   "metadata": {},
   "source": [
    "- We will check the % of null values for icu_yn"
   ]
  },
  {
   "cell_type": "code",
   "execution_count": 39,
   "metadata": {},
   "outputs": [
    {
     "data": {
      "text/plain": [
       "0.0"
      ]
     },
     "execution_count": 39,
     "metadata": {},
     "output_type": "execute_result"
    }
   ],
   "source": [
    "icu_data = 100 * (df['icu_yn'].isnull().sum()/df.shape[0])\n",
    "icu_data"
   ]
  },
  {
   "cell_type": "markdown",
   "metadata": {},
   "source": [
    "- There are no null values in the icu_yn column.\n",
    "- We will check the contents of the icu_yn column."
   ]
  },
  {
   "cell_type": "code",
   "execution_count": 40,
   "metadata": {},
   "outputs": [
    {
     "name": "stdout",
     "output_type": "stream",
     "text": [
      "Missing    76.352239\n",
      "Unknown    13.143262\n",
      "No          9.715903\n",
      "Yes         0.788596\n",
      "Name: icu_yn, dtype: float64\n"
     ]
    }
   ],
   "source": [
    "icu_contents  = 100 * (df['icu_yn'].value_counts()/df.shape[0])\n",
    "print(icu_contents)"
   ]
  },
  {
   "cell_type": "markdown",
   "metadata": {},
   "source": [
    "- There is a large number of Unknown and Missing values, we will combine these into a single Unknown value and keep"
   ]
  },
  {
   "cell_type": "code",
   "execution_count": 41,
   "metadata": {},
   "outputs": [],
   "source": [
    "df['icu_yn'] = df['icu_yn'].replace(\"Missing\", \"Unknown\")"
   ]
  },
  {
   "cell_type": "code",
   "execution_count": 42,
   "metadata": {},
   "outputs": [
    {
     "name": "stdout",
     "output_type": "stream",
     "text": [
      "Unknown    89.495501\n",
      "No          9.715903\n",
      "Yes         0.788596\n",
      "Name: icu_yn, dtype: float64\n"
     ]
    }
   ],
   "source": [
    "# Rechecking to ensure the replacing of the value has taken effect\n",
    "icu_contents  = 100 * (df['icu_yn'].value_counts()/df.shape[0])\n",
    "print(icu_contents)"
   ]
  },
  {
   "cell_type": "markdown",
   "metadata": {},
   "source": [
    "### medcond_yn:\n",
    "We will check the % of null values for hosp_yn then decide how to proceed with this column."
   ]
  },
  {
   "cell_type": "code",
   "execution_count": 43,
   "metadata": {},
   "outputs": [
    {
     "data": {
      "text/plain": [
       "0.0"
      ]
     },
     "execution_count": 43,
     "metadata": {},
     "output_type": "execute_result"
    }
   ],
   "source": [
    "medcond_data = 100 * (df['medcond_yn'].isnull().sum()/df.shape[0])\n",
    "medcond_data"
   ]
  },
  {
   "cell_type": "markdown",
   "metadata": {},
   "source": [
    "- There are no null values in the hosp_yn column.\n",
    "- We will check the contents of the hosp_yn column."
   ]
  },
  {
   "cell_type": "code",
   "execution_count": 44,
   "metadata": {},
   "outputs": [
    {
     "name": "stdout",
     "output_type": "stream",
     "text": [
      "Missing    74.643615\n",
      "No          9.240724\n",
      "Yes         8.320696\n",
      "Unknown     7.794965\n",
      "Name: medcond_yn, dtype: float64\n"
     ]
    }
   ],
   "source": [
    "medcond_contents  = 100 * (df['medcond_yn'].value_counts()/df.shape[0])\n",
    "print(medcond_contents)"
   ]
  },
  {
   "cell_type": "markdown",
   "metadata": {},
   "source": [
    "- There is a large number of Unknown and Missing values, we will combine these into a single Unknown value and keep"
   ]
  },
  {
   "cell_type": "code",
   "execution_count": 45,
   "metadata": {},
   "outputs": [],
   "source": [
    "df['medcond_yn'] = df['medcond_yn'].replace(\"Missing\", \"Unknown\")"
   ]
  },
  {
   "cell_type": "code",
   "execution_count": 46,
   "metadata": {},
   "outputs": [
    {
     "name": "stdout",
     "output_type": "stream",
     "text": [
      "Unknown    82.438581\n",
      "No          9.240724\n",
      "Yes         8.320696\n",
      "Name: medcond_yn, dtype: float64\n"
     ]
    }
   ],
   "source": [
    "# Rechecking contents to ensure the replacing of the value has taken effect\n",
    "medcond_contents  = 100 * (df['medcond_yn'].value_counts()/df.shape[0])\n",
    "print(medcond_contents)"
   ]
  },
  {
   "cell_type": "markdown",
   "metadata": {},
   "source": [
    "### death_yn:\n",
    "We will check the % of null values for death_yn then decide how to proceed with this column."
   ]
  },
  {
   "cell_type": "code",
   "execution_count": 47,
   "metadata": {},
   "outputs": [
    {
     "data": {
      "text/plain": [
       "0.0"
      ]
     },
     "execution_count": 47,
     "metadata": {},
     "output_type": "execute_result"
    }
   ],
   "source": [
    "death_data = 100 * (df['death_yn'].isnull().sum()/df.shape[0])\n",
    "death_data"
   ]
  },
  {
   "cell_type": "markdown",
   "metadata": {},
   "source": [
    "- There are no null values in the death_yn column.\n",
    "- We will check the contents of the death_yn column."
   ]
  },
  {
   "cell_type": "code",
   "execution_count": 48,
   "metadata": {},
   "outputs": [
    {
     "name": "stdout",
     "output_type": "stream",
     "text": [
      "No     96.724295\n",
      "Yes     3.275705\n",
      "Name: death_yn, dtype: float64\n"
     ]
    }
   ],
   "source": [
    "death_contents  = 100 * (df['death_yn'].value_counts()/df.shape[0])\n",
    "print(death_contents)"
   ]
  },
  {
   "cell_type": "markdown",
   "metadata": {},
   "source": [
    "- There is no Unknown, Missing or null values.\n",
    "- This data will be left untouched."
   ]
  },
  {
   "cell_type": "code",
   "execution_count": 49,
   "metadata": {},
   "outputs": [
    {
     "data": {
      "text/html": [
       "<div>\n",
       "<style scoped>\n",
       "    .dataframe tbody tr th:only-of-type {\n",
       "        vertical-align: middle;\n",
       "    }\n",
       "\n",
       "    .dataframe tbody tr th {\n",
       "        vertical-align: top;\n",
       "    }\n",
       "\n",
       "    .dataframe thead th {\n",
       "        text-align: right;\n",
       "    }\n",
       "</style>\n",
       "<table border=\"1\" class=\"dataframe\">\n",
       "  <thead>\n",
       "    <tr style=\"text-align: right;\">\n",
       "      <th></th>\n",
       "      <th>cdc_case_earliest_dt</th>\n",
       "      <th>current_status</th>\n",
       "      <th>sex</th>\n",
       "      <th>age_group</th>\n",
       "      <th>race_ethnicity_combined</th>\n",
       "      <th>hosp_yn</th>\n",
       "      <th>icu_yn</th>\n",
       "      <th>death_yn</th>\n",
       "      <th>medcond_yn</th>\n",
       "    </tr>\n",
       "  </thead>\n",
       "  <tbody>\n",
       "    <tr>\n",
       "      <th>0</th>\n",
       "      <td>2020/11/16</td>\n",
       "      <td>Laboratory-confirmed case</td>\n",
       "      <td>Female</td>\n",
       "      <td>30 - 39 Years</td>\n",
       "      <td>White, Non-Hispanic</td>\n",
       "      <td>No</td>\n",
       "      <td>Unknown</td>\n",
       "      <td>No</td>\n",
       "      <td>Unknown</td>\n",
       "    </tr>\n",
       "    <tr>\n",
       "      <th>1</th>\n",
       "      <td>2020/06/19</td>\n",
       "      <td>Laboratory-confirmed case</td>\n",
       "      <td>Male</td>\n",
       "      <td>60 - 69 Years</td>\n",
       "      <td>Unknown</td>\n",
       "      <td>Unknown</td>\n",
       "      <td>Unknown</td>\n",
       "      <td>No</td>\n",
       "      <td>Unknown</td>\n",
       "    </tr>\n",
       "    <tr>\n",
       "      <th>2</th>\n",
       "      <td>2020/07/25</td>\n",
       "      <td>Laboratory-confirmed case</td>\n",
       "      <td>Male</td>\n",
       "      <td>60 - 69 Years</td>\n",
       "      <td>Unknown</td>\n",
       "      <td>No</td>\n",
       "      <td>Unknown</td>\n",
       "      <td>No</td>\n",
       "      <td>Unknown</td>\n",
       "    </tr>\n",
       "    <tr>\n",
       "      <th>3</th>\n",
       "      <td>2020/06/13</td>\n",
       "      <td>Laboratory-confirmed case</td>\n",
       "      <td>Male</td>\n",
       "      <td>30 - 39 Years</td>\n",
       "      <td>Black, Non-Hispanic</td>\n",
       "      <td>Unknown</td>\n",
       "      <td>Unknown</td>\n",
       "      <td>No</td>\n",
       "      <td>Unknown</td>\n",
       "    </tr>\n",
       "    <tr>\n",
       "      <th>4</th>\n",
       "      <td>2020/06/22</td>\n",
       "      <td>Laboratory-confirmed case</td>\n",
       "      <td>Female</td>\n",
       "      <td>50 - 59 Years</td>\n",
       "      <td>Black, Non-Hispanic</td>\n",
       "      <td>Yes</td>\n",
       "      <td>Unknown</td>\n",
       "      <td>Yes</td>\n",
       "      <td>Unknown</td>\n",
       "    </tr>\n",
       "  </tbody>\n",
       "</table>\n",
       "</div>"
      ],
      "text/plain": [
       "  cdc_case_earliest_dt             current_status     sex      age_group  \\\n",
       "0           2020/11/16  Laboratory-confirmed case  Female  30 - 39 Years   \n",
       "1           2020/06/19  Laboratory-confirmed case    Male  60 - 69 Years   \n",
       "2           2020/07/25  Laboratory-confirmed case    Male  60 - 69 Years   \n",
       "3           2020/06/13  Laboratory-confirmed case    Male  30 - 39 Years   \n",
       "4           2020/06/22  Laboratory-confirmed case  Female  50 - 59 Years   \n",
       "\n",
       "  race_ethnicity_combined  hosp_yn   icu_yn death_yn medcond_yn  \n",
       "0     White, Non-Hispanic       No  Unknown       No    Unknown  \n",
       "1                 Unknown  Unknown  Unknown       No    Unknown  \n",
       "2                 Unknown       No  Unknown       No    Unknown  \n",
       "3     Black, Non-Hispanic  Unknown  Unknown       No    Unknown  \n",
       "4     Black, Non-Hispanic      Yes  Unknown      Yes    Unknown  "
      ]
     },
     "execution_count": 49,
     "metadata": {},
     "output_type": "execute_result"
    }
   ],
   "source": [
    "# Write the dataframe to a new csv file\n",
    "df.to_csv('CleanedCovidData.csv', index=False)\n",
    "df.head()"
   ]
  },
  {
   "cell_type": "markdown",
   "metadata": {},
   "source": [
    "## 1. Data Understanding and Preparation"
   ]
  },
  {
   "cell_type": "markdown",
   "metadata": {},
   "source": [
    "The dataset from CDC has now been cleaned, we will import this dataset as a starting point for this work.\n",
    "1. A summary of the cleaning can be found in the Data Quality Plan below.\n",
    "2. The PDF of this plan can be found in this folder, labelled \"DataQualityPlan\"."
   ]
  },
  {
   "cell_type": "markdown",
   "metadata": {},
   "source": [
    "### Summary of data quality plan:\n",
    "\n",
    "| Variable Names                     | Data Quality Issue            | Handling Strategy              |\n",
    "|------------------------------------|-------------------------------|--------------------------------|\n",
    "| cdc_case_earliest_dt               | Some dates earlier than earliest date, including cdc_report_dt (32 rows) and pos_spec_dt (46 rows)| Carry out general integrity tests and imputted data when cdc_case_earliest_dt was not the earliest date                   |\n",
    "| cdc_report_dt              | Missing Values (22.61%) and Depreciated column   | We used this column for comparison in integrity checks and then dropped as depreciated column according to CDC guidelines           |\n",
    "| pos_spec_dt          | Missing Values (71.74%)                 | We used this column for comparison in integrity checks and then dropped due to large missing values                     |\n",
    "| onset_dt                     | Missing Values(48.92%)                   | Used column for general integrity checks. Not useful for target class, dropped due to large missing values                    |\n",
    "| current_status              | None                      | Do Nothing                     |\n",
    "| sex        | Missing (0.12%) Unknown (0.84%)                      | Since very few Missing & Unknowns, rows were removed                     |\n",
    "| age_group        | Missing (0.13%)                      | Since very few Missing, rows were removed                     |\n",
    "| race_ethnicity_combined             |    Missing (0.94%) Unknown (39.91%)              | Combined into single Unknown value and keep                     |\n",
    "| hosp_yn               | Missing(23.5%) Unknown (17.3%)   | Combine into single Unknown value and keep           |\n",
    "| icu_yn               | Missing (76.35%) Unknown (13.14%) | Infer values from hosp_yn where possible (1 row), combine into single Unknown value and keep               |\n",
    "| medcond_yn               | Missing (74.64%) Unknown (7.8%)                      | Combine into single Unknown value and keep                     |\n",
    "| death_yn       | None                         | Do Nothing |\n",
    "         |"
   ]
  },
  {
   "cell_type": "markdown",
   "metadata": {},
   "source": [
    "### 1.1 Review, prepare and split the dataset into two datasets: 70% training and 30% test"
   ]
  },
  {
   "cell_type": "code",
   "execution_count": 50,
   "metadata": {},
   "outputs": [
    {
     "data": {
      "text/html": [
       "<div>\n",
       "<style scoped>\n",
       "    .dataframe tbody tr th:only-of-type {\n",
       "        vertical-align: middle;\n",
       "    }\n",
       "\n",
       "    .dataframe tbody tr th {\n",
       "        vertical-align: top;\n",
       "    }\n",
       "\n",
       "    .dataframe thead th {\n",
       "        text-align: right;\n",
       "    }\n",
       "</style>\n",
       "<table border=\"1\" class=\"dataframe\">\n",
       "  <thead>\n",
       "    <tr style=\"text-align: right;\">\n",
       "      <th></th>\n",
       "      <th>cdc_case_earliest_dt</th>\n",
       "      <th>current_status</th>\n",
       "      <th>sex</th>\n",
       "      <th>age_group</th>\n",
       "      <th>race_ethnicity_combined</th>\n",
       "      <th>hosp_yn</th>\n",
       "      <th>icu_yn</th>\n",
       "      <th>death_yn</th>\n",
       "      <th>medcond_yn</th>\n",
       "    </tr>\n",
       "  </thead>\n",
       "  <tbody>\n",
       "    <tr>\n",
       "      <th>0</th>\n",
       "      <td>2020/11/16</td>\n",
       "      <td>Laboratory-confirmed case</td>\n",
       "      <td>Female</td>\n",
       "      <td>30 - 39 Years</td>\n",
       "      <td>White, Non-Hispanic</td>\n",
       "      <td>No</td>\n",
       "      <td>Unknown</td>\n",
       "      <td>No</td>\n",
       "      <td>Unknown</td>\n",
       "    </tr>\n",
       "    <tr>\n",
       "      <th>1</th>\n",
       "      <td>2020/06/19</td>\n",
       "      <td>Laboratory-confirmed case</td>\n",
       "      <td>Male</td>\n",
       "      <td>60 - 69 Years</td>\n",
       "      <td>Unknown</td>\n",
       "      <td>Unknown</td>\n",
       "      <td>Unknown</td>\n",
       "      <td>No</td>\n",
       "      <td>Unknown</td>\n",
       "    </tr>\n",
       "    <tr>\n",
       "      <th>2</th>\n",
       "      <td>2020/07/25</td>\n",
       "      <td>Laboratory-confirmed case</td>\n",
       "      <td>Male</td>\n",
       "      <td>60 - 69 Years</td>\n",
       "      <td>Unknown</td>\n",
       "      <td>No</td>\n",
       "      <td>Unknown</td>\n",
       "      <td>No</td>\n",
       "      <td>Unknown</td>\n",
       "    </tr>\n",
       "    <tr>\n",
       "      <th>3</th>\n",
       "      <td>2020/06/13</td>\n",
       "      <td>Laboratory-confirmed case</td>\n",
       "      <td>Male</td>\n",
       "      <td>30 - 39 Years</td>\n",
       "      <td>Black, Non-Hispanic</td>\n",
       "      <td>Unknown</td>\n",
       "      <td>Unknown</td>\n",
       "      <td>No</td>\n",
       "      <td>Unknown</td>\n",
       "    </tr>\n",
       "    <tr>\n",
       "      <th>4</th>\n",
       "      <td>2020/06/22</td>\n",
       "      <td>Laboratory-confirmed case</td>\n",
       "      <td>Female</td>\n",
       "      <td>50 - 59 Years</td>\n",
       "      <td>Black, Non-Hispanic</td>\n",
       "      <td>Yes</td>\n",
       "      <td>Unknown</td>\n",
       "      <td>Yes</td>\n",
       "      <td>Unknown</td>\n",
       "    </tr>\n",
       "  </tbody>\n",
       "</table>\n",
       "</div>"
      ],
      "text/plain": [
       "  cdc_case_earliest_dt             current_status     sex      age_group  \\\n",
       "0           2020/11/16  Laboratory-confirmed case  Female  30 - 39 Years   \n",
       "1           2020/06/19  Laboratory-confirmed case    Male  60 - 69 Years   \n",
       "2           2020/07/25  Laboratory-confirmed case    Male  60 - 69 Years   \n",
       "3           2020/06/13  Laboratory-confirmed case    Male  30 - 39 Years   \n",
       "4           2020/06/22  Laboratory-confirmed case  Female  50 - 59 Years   \n",
       "\n",
       "  race_ethnicity_combined  hosp_yn   icu_yn death_yn medcond_yn  \n",
       "0     White, Non-Hispanic       No  Unknown       No    Unknown  \n",
       "1                 Unknown  Unknown  Unknown       No    Unknown  \n",
       "2                 Unknown       No  Unknown       No    Unknown  \n",
       "3     Black, Non-Hispanic  Unknown  Unknown       No    Unknown  \n",
       "4     Black, Non-Hispanic      Yes  Unknown      Yes    Unknown  "
      ]
     },
     "execution_count": 50,
     "metadata": {},
     "output_type": "execute_result"
    }
   ],
   "source": [
    "# read in the cleaned csv\n",
    "df = pd.read_csv(\"CleanedCovidData.csv\", keep_default_na=True, sep=',\\s+', delimiter=',', skipinitialspace=True)\n",
    "df.head(5)"
   ]
  },
  {
   "cell_type": "markdown",
   "metadata": {},
   "source": [
    "After importing the cleaned csv, as a reminder we will check the shape, inspect the datatypes and check for any remaining null values"
   ]
  },
  {
   "cell_type": "code",
   "execution_count": 51,
   "metadata": {},
   "outputs": [
    {
     "data": {
      "text/plain": [
       "(9891, 9)"
      ]
     },
     "execution_count": 51,
     "metadata": {},
     "output_type": "execute_result"
    }
   ],
   "source": [
    "df.shape"
   ]
  },
  {
   "cell_type": "code",
   "execution_count": 52,
   "metadata": {},
   "outputs": [
    {
     "data": {
      "text/plain": [
       "cdc_case_earliest_dt       object\n",
       "current_status             object\n",
       "sex                        object\n",
       "age_group                  object\n",
       "race_ethnicity_combined    object\n",
       "hosp_yn                    object\n",
       "icu_yn                     object\n",
       "death_yn                   object\n",
       "medcond_yn                 object\n",
       "dtype: object"
      ]
     },
     "execution_count": 52,
     "metadata": {},
     "output_type": "execute_result"
    }
   ],
   "source": [
    "df.dtypes"
   ]
  },
  {
   "cell_type": "code",
   "execution_count": 53,
   "metadata": {},
   "outputs": [
    {
     "data": {
      "text/plain": [
       "cdc_case_earliest_dt       0\n",
       "current_status             0\n",
       "sex                        0\n",
       "age_group                  0\n",
       "race_ethnicity_combined    0\n",
       "hosp_yn                    0\n",
       "icu_yn                     0\n",
       "death_yn                   0\n",
       "medcond_yn                 0\n",
       "dtype: int64"
      ]
     },
     "execution_count": 53,
     "metadata": {},
     "output_type": "execute_result"
    }
   ],
   "source": [
    "df.isna().sum()"
   ]
  },
  {
   "cell_type": "markdown",
   "metadata": {},
   "source": [
    "#### Convert datatypes for plotting later\n",
    "We will now review the datatypes and convert if needed. This will help avoid plotting errors later in the notebook\n",
    "- The target feature \"death_yn\" is type object, with values \"Yes\" & \"No\". These will be mapped 'Yes': 1, \"No\": 0 and stored as \"int64\""
   ]
  },
  {
   "cell_type": "code",
   "execution_count": 54,
   "metadata": {},
   "outputs": [],
   "source": [
    "# convert death_yn to 0,1\n",
    "df['death_yn'] = df['death_yn'].map({'Yes': 1, \"No\": 0})"
   ]
  },
  {
   "cell_type": "markdown",
   "metadata": {},
   "source": [
    "#### NaN values\n",
    "- There are no NaN values that remain as these have been dealt with in our initial cleaning.\n",
    "- Please refer to the DataQualityPlan for the full breakdown of how we dealt with each column."
   ]
  },
  {
   "cell_type": "code",
   "execution_count": 55,
   "metadata": {},
   "outputs": [
    {
     "data": {
      "text/plain": [
       "(9891, 9)"
      ]
     },
     "execution_count": 55,
     "metadata": {},
     "output_type": "execute_result"
    }
   ],
   "source": [
    "df.shape"
   ]
  },
  {
   "cell_type": "code",
   "execution_count": 56,
   "metadata": {},
   "outputs": [
    {
     "data": {
      "text/plain": [
       "cdc_case_earliest_dt       object\n",
       "current_status             object\n",
       "sex                        object\n",
       "age_group                  object\n",
       "race_ethnicity_combined    object\n",
       "hosp_yn                    object\n",
       "icu_yn                     object\n",
       "death_yn                    int64\n",
       "medcond_yn                 object\n",
       "dtype: object"
      ]
     },
     "execution_count": 56,
     "metadata": {},
     "output_type": "execute_result"
    }
   ],
   "source": [
    "df.dtypes"
   ]
  },
  {
   "cell_type": "code",
   "execution_count": 57,
   "metadata": {},
   "outputs": [
    {
     "data": {
      "text/plain": [
       "cdc_case_earliest_dt       0\n",
       "current_status             0\n",
       "sex                        0\n",
       "age_group                  0\n",
       "race_ethnicity_combined    0\n",
       "hosp_yn                    0\n",
       "icu_yn                     0\n",
       "death_yn                   0\n",
       "medcond_yn                 0\n",
       "dtype: int64"
      ]
     },
     "execution_count": 57,
     "metadata": {},
     "output_type": "execute_result"
    }
   ],
   "source": [
    "df.isna().sum()"
   ]
  },
  {
   "cell_type": "markdown",
   "metadata": {},
   "source": [
    "#### Setup Column types\n",
    "We will now setup the continuous, categorical, target features\n",
    "\n",
    "##### Select all categorical columns and convert to categorical type\n",
    " - This will be needed later when it will be required to convert categorical features into dummy features for modeling"
   ]
  },
  {
   "cell_type": "code",
   "execution_count": 58,
   "metadata": {},
   "outputs": [
    {
     "data": {
      "text/plain": [
       "current_status             category\n",
       "sex                        category\n",
       "age_group                  category\n",
       "race_ethnicity_combined    category\n",
       "hosp_yn                    category\n",
       "icu_yn                     category\n",
       "death_yn                   category\n",
       "medcond_yn                 category\n",
       "dtype: object"
      ]
     },
     "execution_count": 58,
     "metadata": {},
     "output_type": "execute_result"
    }
   ],
   "source": [
    "# Select columns containing categorical data\n",
    "categorical_columns = df[[\"current_status\",\"sex\",\"age_group\",\"race_ethnicity_combined\",\"hosp_yn\", 'icu_yn', 'death_yn',\n",
    "       'medcond_yn']].columns\n",
    "\n",
    "# Convert data type to category for these columns\n",
    "for column in categorical_columns:\n",
    "    df[column] = df[column].astype('category')\n",
    "\n",
    "df[categorical_columns].dtypes"
   ]
  },
  {
   "cell_type": "markdown",
   "metadata": {},
   "source": [
    "##### Setup continuous columns and convert to datetime format"
   ]
  },
  {
   "cell_type": "code",
   "execution_count": 59,
   "metadata": {},
   "outputs": [
    {
     "data": {
      "text/plain": [
       "cdc_case_earliest_dt    datetime64[ns]\n",
       "dtype: object"
      ]
     },
     "execution_count": 59,
     "metadata": {},
     "output_type": "execute_result"
    }
   ],
   "source": [
    "# Converting cdc_case_earliest_dt to datetime\n",
    "df['cdc_case_earliest_dt'] = pd.to_datetime(df['cdc_case_earliest_dt'], infer_datetime_format=True)\n",
    "\n",
    "continuous_columns = df.select_dtypes(['datetime64[ns]']).columns\n",
    "df[continuous_columns].dtypes"
   ]
  },
  {
   "cell_type": "markdown",
   "metadata": {},
   "source": [
    "##### Finally set the target feature \"death_yn\" to int64 \n",
    "- death_yn is a categorical feature but it is also the target feature\n",
    "- It will need to be int64 to plot against the target\n",
    "- We will also remove it from the list of categorical columns"
   ]
  },
  {
   "cell_type": "code",
   "execution_count": 60,
   "metadata": {},
   "outputs": [],
   "source": [
    "# convert \"death_yn\" to int64\n",
    "df['death_yn'] = df['death_yn'].astype('int64')\n",
    "# categorical_columns are now....\n",
    "categorical_columns = df[[\"current_status\",\"sex\",\"age_group\",\"race_ethnicity_combined\",\"hosp_yn\", 'icu_yn', 'medcond_yn']].columns"
   ]
  },
  {
   "cell_type": "markdown",
   "metadata": {},
   "source": [
    "- Displaying the current status of the data types:"
   ]
  },
  {
   "cell_type": "code",
   "execution_count": 61,
   "metadata": {},
   "outputs": [
    {
     "data": {
      "text/plain": [
       "cdc_case_earliest_dt       datetime64[ns]\n",
       "current_status                   category\n",
       "sex                              category\n",
       "age_group                        category\n",
       "race_ethnicity_combined          category\n",
       "hosp_yn                          category\n",
       "icu_yn                           category\n",
       "death_yn                            int64\n",
       "medcond_yn                       category\n",
       "dtype: object"
      ]
     },
     "execution_count": 61,
     "metadata": {},
     "output_type": "execute_result"
    }
   ],
   "source": [
    "df.dtypes"
   ]
  },
  {
   "cell_type": "markdown",
   "metadata": {},
   "source": [
    "##### We will now shuffle the dataframe before splitting the dataset\n",
    "- This step is not essential as as performing train/test split will also shuffle the dataframe"
   ]
  },
  {
   "cell_type": "code",
   "execution_count": 62,
   "metadata": {},
   "outputs": [
    {
     "data": {
      "text/html": [
       "<div>\n",
       "<style scoped>\n",
       "    .dataframe tbody tr th:only-of-type {\n",
       "        vertical-align: middle;\n",
       "    }\n",
       "\n",
       "    .dataframe tbody tr th {\n",
       "        vertical-align: top;\n",
       "    }\n",
       "\n",
       "    .dataframe thead th {\n",
       "        text-align: right;\n",
       "    }\n",
       "</style>\n",
       "<table border=\"1\" class=\"dataframe\">\n",
       "  <thead>\n",
       "    <tr style=\"text-align: right;\">\n",
       "      <th></th>\n",
       "      <th>cdc_case_earliest_dt</th>\n",
       "      <th>current_status</th>\n",
       "      <th>sex</th>\n",
       "      <th>age_group</th>\n",
       "      <th>race_ethnicity_combined</th>\n",
       "      <th>hosp_yn</th>\n",
       "      <th>icu_yn</th>\n",
       "      <th>death_yn</th>\n",
       "      <th>medcond_yn</th>\n",
       "    </tr>\n",
       "  </thead>\n",
       "  <tbody>\n",
       "    <tr>\n",
       "      <th>0</th>\n",
       "      <td>2020-11-16</td>\n",
       "      <td>Laboratory-confirmed case</td>\n",
       "      <td>Female</td>\n",
       "      <td>30 - 39 Years</td>\n",
       "      <td>White, Non-Hispanic</td>\n",
       "      <td>No</td>\n",
       "      <td>Unknown</td>\n",
       "      <td>0</td>\n",
       "      <td>Unknown</td>\n",
       "    </tr>\n",
       "    <tr>\n",
       "      <th>1</th>\n",
       "      <td>2020-06-19</td>\n",
       "      <td>Laboratory-confirmed case</td>\n",
       "      <td>Male</td>\n",
       "      <td>60 - 69 Years</td>\n",
       "      <td>Unknown</td>\n",
       "      <td>Unknown</td>\n",
       "      <td>Unknown</td>\n",
       "      <td>0</td>\n",
       "      <td>Unknown</td>\n",
       "    </tr>\n",
       "    <tr>\n",
       "      <th>2</th>\n",
       "      <td>2020-07-25</td>\n",
       "      <td>Laboratory-confirmed case</td>\n",
       "      <td>Male</td>\n",
       "      <td>60 - 69 Years</td>\n",
       "      <td>Unknown</td>\n",
       "      <td>No</td>\n",
       "      <td>Unknown</td>\n",
       "      <td>0</td>\n",
       "      <td>Unknown</td>\n",
       "    </tr>\n",
       "    <tr>\n",
       "      <th>3</th>\n",
       "      <td>2020-06-13</td>\n",
       "      <td>Laboratory-confirmed case</td>\n",
       "      <td>Male</td>\n",
       "      <td>30 - 39 Years</td>\n",
       "      <td>Black, Non-Hispanic</td>\n",
       "      <td>Unknown</td>\n",
       "      <td>Unknown</td>\n",
       "      <td>0</td>\n",
       "      <td>Unknown</td>\n",
       "    </tr>\n",
       "    <tr>\n",
       "      <th>4</th>\n",
       "      <td>2020-06-22</td>\n",
       "      <td>Laboratory-confirmed case</td>\n",
       "      <td>Female</td>\n",
       "      <td>50 - 59 Years</td>\n",
       "      <td>Black, Non-Hispanic</td>\n",
       "      <td>Yes</td>\n",
       "      <td>Unknown</td>\n",
       "      <td>1</td>\n",
       "      <td>Unknown</td>\n",
       "    </tr>\n",
       "  </tbody>\n",
       "</table>\n",
       "</div>"
      ],
      "text/plain": [
       "  cdc_case_earliest_dt             current_status     sex      age_group  \\\n",
       "0           2020-11-16  Laboratory-confirmed case  Female  30 - 39 Years   \n",
       "1           2020-06-19  Laboratory-confirmed case    Male  60 - 69 Years   \n",
       "2           2020-07-25  Laboratory-confirmed case    Male  60 - 69 Years   \n",
       "3           2020-06-13  Laboratory-confirmed case    Male  30 - 39 Years   \n",
       "4           2020-06-22  Laboratory-confirmed case  Female  50 - 59 Years   \n",
       "\n",
       "  race_ethnicity_combined  hosp_yn   icu_yn  death_yn medcond_yn  \n",
       "0     White, Non-Hispanic       No  Unknown         0    Unknown  \n",
       "1                 Unknown  Unknown  Unknown         0    Unknown  \n",
       "2                 Unknown       No  Unknown         0    Unknown  \n",
       "3     Black, Non-Hispanic  Unknown  Unknown         0    Unknown  \n",
       "4     Black, Non-Hispanic      Yes  Unknown         1    Unknown  "
      ]
     },
     "execution_count": 62,
     "metadata": {},
     "output_type": "execute_result"
    }
   ],
   "source": [
    "# randomly generate sequence based on dataframe index and set to be new index\n",
    "df.set_index(np.random.permutation(df.index))\n",
    "# sort the resulting random index\n",
    "df.sort_index(inplace=True)\n",
    "df.head(5)"
   ]
  },
  {
   "cell_type": "markdown",
   "metadata": {},
   "source": [
    "##### The dataset will now be split into two datasets: 70% training and 30% test\n",
    "- First we will set the target feature \"y\" to be risk performance\n",
    "- Then we will set \"X\" to be the remaining features in the dataframe i.e. we drop \"RiskPerformance\" from the dataframe"
   ]
  },
  {
   "cell_type": "code",
   "execution_count": 63,
   "metadata": {},
   "outputs": [],
   "source": [
    "y = pd.DataFrame(df[\"death_yn\"])\n",
    "X = df.drop([\"death_yn\"],1)"
   ]
  },
  {
   "cell_type": "markdown",
   "metadata": {},
   "source": [
    "##### The data set can now be split\n",
    "- The train test split will randomly split the dataset as per the test size\n",
    "- We will set the random state=1 to allow the random shuffle to be repeated within this notebook only"
   ]
  },
  {
   "cell_type": "code",
   "execution_count": 64,
   "metadata": {},
   "outputs": [
    {
     "data": {
      "text/plain": [
       "cdc_case_earliest_dt       datetime64[ns]\n",
       "current_status                   category\n",
       "sex                              category\n",
       "age_group                        category\n",
       "race_ethnicity_combined          category\n",
       "hosp_yn                          category\n",
       "icu_yn                           category\n",
       "death_yn                            int64\n",
       "medcond_yn                       category\n",
       "dtype: object"
      ]
     },
     "execution_count": 64,
     "metadata": {},
     "output_type": "execute_result"
    }
   ],
   "source": [
    "df.dtypes"
   ]
  },
  {
   "cell_type": "code",
   "execution_count": 65,
   "metadata": {},
   "outputs": [
    {
     "name": "stdout",
     "output_type": "stream",
     "text": [
      "original range is:  9891\n",
      "training range (70%):\t rows 0 to 6923\n",
      "test range (30%): \t rows 6923 to 9891\n"
     ]
    }
   ],
   "source": [
    "# Split the dataset into two datasets: 70% training and 30% test\n",
    "X_train, X_test, y_train, y_test = train_test_split(X, y, test_size=0.3,random_state=1)\n",
    "\n",
    "print(\"original range is: \",df.shape[0])\n",
    "print(\"training range (70%):\\t rows 0 to\", round(X_train.shape[0]))\n",
    "print(\"test range (30%): \\t rows\", round(X_train.shape[0]), \"to\", round(X_train.shape[0]) + X_test.shape[0])"
   ]
  },
  {
   "cell_type": "markdown",
   "metadata": {},
   "source": [
    "The dataset is now ready for plotting"
   ]
  },
  {
   "cell_type": "markdown",
   "metadata": {},
   "source": [
    "### 1.2 On the training set we will now carry out a series of plots comparing all features to help make decisions on what features to keep for the model \n",
    "\n",
    "- All plots will be using the training subset of dataset: X_train, y_train\n",
    "\n",
    "#### 1.2.1 Plot the correlations between all the continuous features.\n",
    "\n",
    "- We only have one continuous feature (cdc_case_earliest_dt), moving on to 1.2.2"
   ]
  },
  {
   "cell_type": "markdown",
   "metadata": {},
   "source": [
    "### 1.2.2 Plot interaction between continuous features and target feature\n",
    "- We will now graph our only continuous feature, \"cdc_case_earliest_dt\" against our target feature \"death_yn\"\n",
    "- We will then observe the correlation between these two features"
   ]
  },
  {
   "cell_type": "code",
   "execution_count": 66,
   "metadata": {},
   "outputs": [
    {
     "data": {
      "text/plain": [
       "<seaborn.axisgrid.FacetGrid at 0x1ed5e2c9d30>"
      ]
     },
     "execution_count": 66,
     "metadata": {},
     "output_type": "execute_result"
    },
    {
     "data": {
      "image/png": "[encoded data removed]",
      "text/plain": [
       "<Figure size 1008x504 with 1 Axes>"
      ]
     },
     "metadata": {
      "needs_background": "light"
     },
     "output_type": "display_data"
    }
   ],
   "source": [
    "# Creating a new df from copying our original df\n",
    "df_local = df.copy()\n",
    "\n",
    "# Adding a dateSplit column to our new local_df based off the training dataest\n",
    "df_local['dateSplit'] = X_train['cdc_case_earliest_dt'].dt.strftime('%Y-%m')\n",
    "\n",
    "# Making a new df by grouping our dateSplit and adding death column\n",
    "df_target = df_local[df_local['death_yn'] == 1].groupby('dateSplit', as_index=False).size().to_frame('death')\n",
    "\n",
    "# Graphing the correlation between our continuous feature, \"cdc_case_earliest_dt\" and our target feature, \"death_yn\".\n",
    "sn.relplot(x=\"dateSplit\", y = 'death', data=df_target.reset_index(), height=7, aspect=2, kind='line')"
   ]
  },
  {
   "cell_type": "code",
   "execution_count": 67,
   "metadata": {},
   "outputs": [
    {
     "data": {
      "text/html": [
       "<div>\n",
       "<style scoped>\n",
       "    .dataframe tbody tr th:only-of-type {\n",
       "        vertical-align: middle;\n",
       "    }\n",
       "\n",
       "    .dataframe tbody tr th {\n",
       "        vertical-align: top;\n",
       "    }\n",
       "\n",
       "    .dataframe thead th {\n",
       "        text-align: right;\n",
       "    }\n",
       "</style>\n",
       "<table border=\"1\" class=\"dataframe\">\n",
       "  <thead>\n",
       "    <tr style=\"text-align: right;\">\n",
       "      <th></th>\n",
       "      <th>cdc_case_earliest_dt</th>\n",
       "      <th>death_yn</th>\n",
       "    </tr>\n",
       "  </thead>\n",
       "  <tbody>\n",
       "    <tr>\n",
       "      <th>cdc_case_earliest_dt</th>\n",
       "      <td>1.00000</td>\n",
       "      <td>-0.08482</td>\n",
       "    </tr>\n",
       "    <tr>\n",
       "      <th>death_yn</th>\n",
       "      <td>-0.08482</td>\n",
       "      <td>1.00000</td>\n",
       "    </tr>\n",
       "  </tbody>\n",
       "</table>\n",
       "</div>"
      ],
      "text/plain": [
       "                      cdc_case_earliest_dt  death_yn\n",
       "cdc_case_earliest_dt               1.00000  -0.08482\n",
       "death_yn                          -0.08482   1.00000"
      ]
     },
     "execution_count": 67,
     "metadata": {},
     "output_type": "execute_result"
    }
   ],
   "source": [
    "# Observing the correlation between continuous feature and target feature using our training subset.\n",
    "\n",
    "X_train.cdc_case_earliest_dt = pd.to_numeric(X_train.cdc_case_earliest_dt)\n",
    "df_continuous = pd.concat([X_train['cdc_case_earliest_dt'], y_train], axis=1)\n",
    "continuous_correlation = df_continuous[[\"cdc_case_earliest_dt\", \"death_yn\"]].corr(method='pearson')\n",
    "continuous_correlation"
   ]
  },
  {
   "cell_type": "markdown",
   "metadata": {},
   "source": [
    "#### 1.2.3 Interpretation of the results"
   ]
  },
  {
   "cell_type": "markdown",
   "metadata": {},
   "source": [
    "- From observing our graph, it is hard to deduce that there is any clearly defined correlation between our continuous feature and the target feature.\n",
    "- There is an obvious spike in data around March 2020 and November 2020. However, because our dataset only spans over the course of approximately a year, it is hard to come to any real conclusion from this.\n",
    "- The initial spike in data falls roughly in line with the initial introduction of Covid-19 whereas the the second spike in data could be due to numerous external factors.\n",
    "- As mentioned, our dataset is too small to make rational conclusion from this feature.\n",
    "- Due to there being no trend of positivity between cdc_case_earliest_dt and death_yn, we will determine that this feature has a low correlation."
   ]
  },
  {
   "cell_type": "markdown",
   "metadata": {},
   "source": [
    "We will add our only continuous feature, \"cdc_case_earliest_dt\" to low correlation continuous features"
   ]
  },
  {
   "cell_type": "code",
   "execution_count": 68,
   "metadata": {},
   "outputs": [],
   "source": [
    "low_correlation_continuous_features = [\"cdc_case_earliest_dt\"]"
   ]
  },
  {
   "cell_type": "markdown",
   "metadata": {},
   "source": [
    "### 1.2.3 Plot interaction between categorical features and target feature"
   ]
  },
  {
   "cell_type": "markdown",
   "metadata": {},
   "source": [
    "##### Cramer's V, a measure of association between two nominal variables. Based on Pearson’s Chi-Square statistic"
   ]
  },
  {
   "cell_type": "code",
   "execution_count": 69,
   "metadata": {},
   "outputs": [],
   "source": [
    "def cramers_v(x, y):\n",
    "    confusion_matrix = pd.crosstab(x,y)\n",
    "    chi2 = ss.chi2_contingency(confusion_matrix)[0]\n",
    "    n = confusion_matrix.sum().sum()\n",
    "    phi2 = chi2/n\n",
    "    r,k = confusion_matrix.shape\n",
    "    phi2corr = max(0, phi2-((k-1)*(r-1))/(n-1))\n",
    "    rcorr = r-((r-1)**2)/(n-1)\n",
    "    kcorr = k-((k-1)**2)/(n-1)\n",
    "    return np.sqrt(phi2corr/min((kcorr-1),(rcorr-1)))"
   ]
  },
  {
   "cell_type": "code",
   "execution_count": 70,
   "metadata": {},
   "outputs": [],
   "source": [
    "trainingSubset = pd.concat([X_train, y_train], axis=1)\n",
    "#creating a 8x8 matrix because we have 9 features, and I want to see the relationship between all of the features using the cramers function above\n",
    "matrix = [[cramers_v(trainingSubset[column], trainingSubset[column2])for column2 in trainingSubset] for column in trainingSubset]"
   ]
  },
  {
   "cell_type": "code",
   "execution_count": 71,
   "metadata": {},
   "outputs": [],
   "source": [
    "#selecting the columns of the merged training set \n",
    "trainingSubsetColumns = trainingSubset.columns\n",
    "\n",
    "#making a panda dataframe of the matrix above\n",
    "matrix_correlation = pd.DataFrame(matrix, columns=trainingSubsetColumns, index=trainingSubsetColumns)"
   ]
  },
  {
   "cell_type": "code",
   "execution_count": 72,
   "metadata": {},
   "outputs": [
    {
     "data": {
      "image/png": "[encoded data removed]",
      "text/plain": [
       "<Figure size 1224x576 with 2 Axes>"
      ]
     },
     "metadata": {
      "needs_background": "light"
     },
     "output_type": "display_data"
    }
   ],
   "source": [
    "# Visualising of the correlation between the catergorical features vs categorical features. \n",
    "\n",
    "# We will now generate a mask for the upper triangle\n",
    "mask = np.zeros_like(matrix, dtype=np.bool)\n",
    "mask[np.triu_indices_from(mask)] = True\n",
    "\n",
    "plt.figure(figsize = (17,8))\n",
    "sn.heatmap(matrix_correlation, annot=True, mask=mask, vmax = 1)\n",
    "plt.show()"
   ]
  },
  {
   "cell_type": "markdown",
   "metadata": {},
   "source": [
    "##### Create stacked bar plots for categorical features"
   ]
  },
  {
   "cell_type": "code",
   "execution_count": 73,
   "metadata": {},
   "outputs": [
    {
     "name": "stdout",
     "output_type": "stream",
     "text": [
      "\n",
      " current_status\n",
      "Index \t Count\n",
      "Laboratory-confirmed case \t 6419\n",
      "Probable Case \t 504\n",
      "\n",
      " sex\n",
      "Index \t Count\n",
      "Female \t 3626\n",
      "Male \t 3297\n",
      "\n",
      " age_group\n",
      "Index \t Count\n",
      "20 - 29 Years \t 1310\n",
      "10 - 19 Years \t 683\n",
      "50 - 59 Years \t 1007\n",
      "40 - 49 Years \t 1048\n",
      "60 - 69 Years \t 782\n",
      "80+ Years \t 311\n",
      "30 - 39 Years \t 1055\n",
      "0 - 9 Years \t 306\n",
      "70 - 79 Years \t 421\n",
      "\n",
      " race_ethnicity_combined\n",
      "Index \t Count\n",
      "White, Non-Hispanic \t 2368\n",
      "Hispanic/Latino \t 670\n",
      "Multiple/Other, Non-Hispanic \t 345\n",
      "Unknown \t 2798\n",
      "Asian, Non-Hispanic \t 185\n",
      "Black, Non-Hispanic \t 494\n",
      "American Indian/Alaska Native, Non-Hispanic \t 46\n",
      "Native Hawaiian/Other Pacific Islander, Non-Hispanic \t 17\n",
      "\n",
      " hosp_yn\n",
      "Index \t Count\n",
      "No \t 3652\n",
      "Unknown \t 2814\n",
      "Yes \t 455\n",
      "OTH \t 2\n",
      "\n",
      " icu_yn\n",
      "Index \t Count\n",
      "Unknown \t 6192\n",
      "No \t 676\n",
      "Yes \t 55\n",
      "\n",
      " medcond_yn\n",
      "Index \t Count\n",
      "Unknown \t 5670\n",
      "Yes \t 601\n",
      "No \t 652\n"
     ]
    },
    {
     "data": {
      "image/png": "[encoded data removed]",
      "text/plain": [
       "<Figure size 1080x504 with 1 Axes>"
      ]
     },
     "metadata": {
      "needs_background": "light"
     },
     "output_type": "display_data"
    },
    {
     "data": {
      "image/png": "[encoded data removed]",
      "text/plain": [
       "<Figure size 1080x504 with 1 Axes>"
      ]
     },
     "metadata": {
      "needs_background": "light"
     },
     "output_type": "display_data"
    },
    {
     "data": {
      "image/png": "[encoded data removed]",
      "text/plain": [
       "<Figure size 1080x504 with 1 Axes>"
      ]
     },
     "metadata": {
      "needs_background": "light"
     },
     "output_type": "display_data"
    },
    {
     "data": {
      "image/png": "[encoded data removed]",
      "text/plain": [
       "<Figure size 1080x504 with 1 Axes>"
      ]
     },
     "metadata": {
      "needs_background": "light"
     },
     "output_type": "display_data"
    },
    {
     "data": {
      "image/png": "[encoded data removed]",
      "text/plain": [
       "<Figure size 1080x504 with 1 Axes>"
      ]
     },
     "metadata": {
      "needs_background": "light"
     },
     "output_type": "display_data"
    },
    {
     "data": {
      "image/png": "[encoded data removed]",
      "text/plain": [
       "<Figure size 1080x504 with 1 Axes>"
      ]
     },
     "metadata": {
      "needs_background": "light"
     },
     "output_type": "display_data"
    },
    {
     "data": {
      "image/png": "[encoded data removed]",
      "text/plain": [
       "<Figure size 1080x504 with 1 Axes>"
      ]
     },
     "metadata": {
      "needs_background": "light"
     },
     "output_type": "display_data"
    }
   ],
   "source": [
    "# for the comparison we will convert the target back to categorical\n",
    "y_train = y_train.astype(\"category\")\n",
    "#X_train[categorical_columns].columns\n",
    "\n",
    "# we will create temp dataframe for these plots, mergeing X_train and y_train\n",
    "df_temp= pd.concat([X_train, y_train], axis=1)\n",
    "\n",
    "for categorical_feature in categorical_columns:\n",
    "    \n",
    "    maxDelqEver = pd.unique(df_temp[categorical_feature].ravel())\n",
    "\n",
    "    # add new column and set values to zero\n",
    "    df_temp['percent'] = 0\n",
    "\n",
    "    #print header\n",
    "    print(\"\\n\", categorical_feature)\n",
    "    print(\"Index \\t Count\")\n",
    "    \n",
    "    # for each delinquency category\n",
    "    for i in maxDelqEver:\n",
    "\n",
    "        count = df_temp[df_temp[categorical_feature] == i].count()['death_yn']\n",
    "        count_percentage = (1 / count) * 100\n",
    "\n",
    "        # print out index vs count\n",
    "        print(i, \"\\t\", count)\n",
    "\n",
    "        index_list = df_temp[df_temp[categorical_feature] == i].index.tolist()\n",
    "        for ind in index_list:\n",
    "            df_temp.loc[ind, 'percent'] = count_percentage\n",
    "\n",
    "    group = df_temp[['percent',categorical_feature,'death_yn']].groupby([categorical_feature,'death_yn']).sum()\n",
    "\n",
    "    my_plot = group.unstack().plot(kind='bar', stacked=True, title=f\"Death_yn vs {categorical_feature}\", figsize=(15,7), grid=True)\n",
    "\n",
    "    # add legend\n",
    "    red_patch = mpatches.Patch(color='orange', label='Yes')\n",
    "    blue_patch = mpatches.Patch(color='blue', label='No')\n",
    "    my_plot.legend(handles=[red_patch, blue_patch], frameon = True)\n",
    "\n",
    "    # add gridlines\n",
    "    plt.grid(b=True, which='major', color='#666666', linestyle='-')\n",
    "    plt.minorticks_on()\n",
    "    plt.grid(b=True, which='minor', color='#999999', linestyle='-', alpha=0.2)\n",
    "\n",
    "    # add labels\n",
    "    my_plot.set_xlabel(\"Feature values\")\n",
    "    my_plot.set_ylabel(\"% of rows\")\n",
    "    my_plot.set_ylim([0,100])\n",
    "    \n",
    "# drop 'percent' that was used only for stacked bar plot\n",
    "df_temp = df_temp.drop(\"percent\", 1)"
   ]
  },
  {
   "cell_type": "markdown",
   "metadata": {},
   "source": [
    "#### Interpretation of the results\n",
    "\n",
    "I will discuss each feature and how much value it may hold in predicting the target feature, death. This discussion will be based soley from my observation of the heatmap and stacked bar charts for each categorical feature.\n",
    "\n",
    "##### Death vs Current Status\n",
    "- From looking at the charts, we can see that current status has no real impact on our target feature, death.\n",
    "- The figures for laboratory-confirmed case and probable case are relatively similar in percentage.\n",
    "- The heatmap tells us that there is 0 correlation between current_status and death_yn which is the lowest of the categorical features.\n",
    "- It is likely that this feature does not have any impact on death.\n",
    "\n",
    "##### Death vs Sex\n",
    "- Upon observing the charts, it once again appears that this feature, sex, has no impact on death.\n",
    "- The results are eerily similar for both male and female, with male having a slightly higher death percentage (roughly 97% survival for woman and 96% survival for men in the barchart)\n",
    "- These charts tells us that there is no real correlation between this feature and our target feature, death.\n",
    "\n",
    "##### Death vs Age Group\n",
    "- From observing the barcharts, it is clear there is definitive correlation between age group and death.\n",
    "- This tells us that this feature has a high impact on our target feature.\n",
    "- On the barchart, there is approximately 30% chance of death in age groups 80+ vs a below 1% chance in age groups 30-39 years old.\n",
    "- The heatmap tells a similar story where it is tied the highest correlation feature alongside hosp_yn with a score of 0.39.\n",
    "\n",
    "##### Death vs Race Ethnicity Combined\n",
    "\n",
    "- From observing the charts, there is no real correlation between race & ethnicity in our target feature, death.\n",
    "- The percentage of death is scattered and does not illustrate that one group in this feature is any more likely of death than another group.\n",
    "- This feature does not hold value in predicting death.\n",
    "\n",
    "##### Death vs Hospital \n",
    "\n",
    "- There is definitely a correlation between whether a patient attends hospital vs one who does not.\n",
    "- This barchart reveals that patients have approximately 30% death while being hospitalised vs a less than 1% chance of death if they are not hospitalised.\n",
    "- The heatmap also illustrates the correlation here as it has a tied highest correlation alongside age_group with a score of 0.39.\n",
    "- This feature holds a lot of merit for predicting our target feature, death.\n",
    "\n",
    "##### Death vs ICU\n",
    "- From looking at the charts, it is clear that ICU heavily impacts the prediction of our target feature.\n",
    "- Based on the barchart, patients in the ICU have approximately 50% chance of death vs approximately 2% chance of death of those who did not go to the ICU.\n",
    "- This feature heavily impacts the prediction of our target feature.\n",
    "\n",
    "##### Death vs Medical Condition\n",
    "- Again, this feature is highly reflective of the outcome of our target feature.\n",
    "- From the barchart, those with a medical condition have approximately a 8% chance of death vs those without a medical condition who have less than 2% chance of death.\n",
    "- This feature holds value in predicting death.\n",
    "\n",
    "Therefore, the subset of categorical features I find <b>promising</b> for predicting our target feature are:\n",
    "\n",
    "- Age Group\n",
    "- Hospital\n",
    "- ICU\n",
    "- Medical Condition\n",
    "\n",
    "The features that I find do <b>not hold much merit</b> in predicting the target features are:\n",
    "- Current Status\n",
    "- Sex\n",
    "- Race Ethnicity Combined\n"
   ]
  },
  {
   "cell_type": "markdown",
   "metadata": {},
   "source": [
    "###### Listing the low correlation features"
   ]
  },
  {
   "cell_type": "code",
   "execution_count": 74,
   "metadata": {},
   "outputs": [],
   "source": [
    "low_information_gain = ['current_status','sex','race_ethnicity_combined']"
   ]
  },
  {
   "cell_type": "markdown",
   "metadata": {},
   "source": [
    "###### Listing the high correlation features"
   ]
  },
  {
   "cell_type": "code",
   "execution_count": 75,
   "metadata": {},
   "outputs": [],
   "source": [
    "high_information_gain = ['age_group','hosp_yn','icu_yn', 'medcond_yn']"
   ]
  },
  {
   "cell_type": "markdown",
   "metadata": {},
   "source": [
    "### 1.2.4 Summary & Drop Features\n",
    "\n",
    "1. From Continuous vs Target plots (1.2.2) we identified the following to be dropped"
   ]
  },
  {
   "cell_type": "code",
   "execution_count": 76,
   "metadata": {},
   "outputs": [
    {
     "data": {
      "text/plain": [
       "['cdc_case_earliest_dt']"
      ]
     },
     "execution_count": 76,
     "metadata": {},
     "output_type": "execute_result"
    }
   ],
   "source": [
    "low_correlation_continuous_features"
   ]
  },
  {
   "cell_type": "markdown",
   "metadata": {},
   "source": [
    "2. From Categorical vs Target (1.2.3) we identified the following to be dropped"
   ]
  },
  {
   "cell_type": "code",
   "execution_count": 77,
   "metadata": {},
   "outputs": [
    {
     "data": {
      "text/plain": [
       "['current_status', 'sex', 'race_ethnicity_combined']"
      ]
     },
     "execution_count": 77,
     "metadata": {},
     "output_type": "execute_result"
    }
   ],
   "source": [
    "low_information_gain"
   ]
  },
  {
   "cell_type": "markdown",
   "metadata": {},
   "source": [
    "We will now drop these features\n",
    "- Before dropping, we will duplicate the original dataframe, df and label it dfhighfeatuers. This will store the high correlation features for future use.\n",
    "- We will also duplicate the original dataframe, df, and label it df_rev1\n",
    "- We will drop features from this copy only (df_rev1)\n",
    "- This will allow us to revert to the original dataset later if we decide to compare the performance of the reduced dataset (df_rev1) with the original dataset (df)\n",
    "- However, cdc_case_earliest_dt will also be dropped from the original dataset (df) as we do not have enough dates to justify keeping this information. We would need data from 5+ years to make any kind of correlation between cdc_case_earliest_dt and death_yn."
   ]
  },
  {
   "cell_type": "code",
   "execution_count": 78,
   "metadata": {},
   "outputs": [],
   "source": [
    "# Before dropping, making a copy of original that contains the high correlation features\n",
    "dfhighfeatuers = df.copy()\n",
    "# Dropping all the low correlation features\n",
    "dfhighfeatuers = dfhighfeatuers.drop(['current_status','sex','race_ethnicity_combined','cdc_case_earliest_dt'],1)"
   ]
  },
  {
   "cell_type": "code",
   "execution_count": 79,
   "metadata": {},
   "outputs": [
    {
     "name": "stdout",
     "output_type": "stream",
     "text": [
      "\n",
      "Remaining columns: Index(['age_group', 'hosp_yn', 'icu_yn', 'death_yn', 'medcond_yn'], dtype='object')\n",
      "\n",
      "New shape: (9891, 5)\n"
     ]
    }
   ],
   "source": [
    "# drop all low correlation features\n",
    "low_value_continuous_features = list(set(low_correlation_continuous_features))\n",
    "low_value_categorical_features = list(set(low_information_gain))\n",
    "\n",
    "# before dropping make copy of original\n",
    "df_rev1 = df.copy()\n",
    "\n",
    "# dropping cdc_case_earliest_dt from original df as this is not needed for our predictive modelling based on explanation above\n",
    "df = df.drop(['cdc_case_earliest_dt'], 1)\n",
    "\n",
    "# drop low value features\n",
    "df_rev1.drop(low_value_continuous_features, 1, inplace=True)\n",
    "df_rev1.drop(low_value_categorical_features, 1, inplace=True)\n",
    "\n",
    "print('\\nRemaining columns:', df_rev1.columns)\n",
    "print('\\nNew shape:', df_rev1.shape)"
   ]
  },
  {
   "cell_type": "markdown",
   "metadata": {},
   "source": [
    "## 1.2.5 Prepare dataset for modeling\n",
    "Now we have picked our descriptive features for the whole dataset, a number of additional steps will need to be taken to prepare the dataset for modeling \n",
    "- We will now convert the categorical variables into dummies variable to allow modeling\n",
    "- We will then set up the train test split again based on the dataset with the dummies included"
   ]
  },
  {
   "cell_type": "code",
   "execution_count": 80,
   "metadata": {},
   "outputs": [
    {
     "data": {
      "text/plain": [
       "age_group_10 - 19 Years    uint8\n",
       "age_group_20 - 29 Years    uint8\n",
       "age_group_30 - 39 Years    uint8\n",
       "age_group_40 - 49 Years    uint8\n",
       "age_group_50 - 59 Years    uint8\n",
       "age_group_60 - 69 Years    uint8\n",
       "age_group_70 - 79 Years    uint8\n",
       "age_group_80+ Years        uint8\n",
       "hosp_yn_OTH                uint8\n",
       "hosp_yn_Unknown            uint8\n",
       "hosp_yn_Yes                uint8\n",
       "icu_yn_Unknown             uint8\n",
       "icu_yn_Yes                 uint8\n",
       "death_yn_1                 uint8\n",
       "medcond_yn_Unknown         uint8\n",
       "medcond_yn_Yes             uint8\n",
       "dtype: object"
      ]
     },
     "execution_count": 80,
     "metadata": {},
     "output_type": "execute_result"
    }
   ],
   "source": [
    "# set up dummies features\n",
    "df_rev1 = pd.get_dummies(df_rev1, columns=['age_group', 'hosp_yn','icu_yn', 'death_yn','medcond_yn'], drop_first=True)\n",
    "df_rev1.dtypes"
   ]
  },
  {
   "cell_type": "markdown",
   "metadata": {},
   "source": [
    "#### Continuous columns are:"
   ]
  },
  {
   "cell_type": "markdown",
   "metadata": {},
   "source": [
    "- There are no continuous columns remaining as 'cdc_case_earliest_dt' has been dropped"
   ]
  },
  {
   "cell_type": "markdown",
   "metadata": {},
   "source": [
    "#### Categorical columns are:"
   ]
  },
  {
   "cell_type": "code",
   "execution_count": 81,
   "metadata": {},
   "outputs": [
    {
     "data": {
      "text/plain": [
       "['age_group_10 - 19 Years',\n",
       " 'age_group_20 - 29 Years',\n",
       " 'age_group_30 - 39 Years',\n",
       " 'age_group_40 - 49 Years',\n",
       " 'age_group_50 - 59 Years',\n",
       " 'age_group_60 - 69 Years',\n",
       " 'age_group_70 - 79 Years',\n",
       " 'age_group_80+ Years',\n",
       " 'hosp_yn_OTH',\n",
       " 'hosp_yn_Unknown',\n",
       " 'hosp_yn_Yes',\n",
       " 'icu_yn_Unknown',\n",
       " 'icu_yn_Yes',\n",
       " 'death_yn_1',\n",
       " 'medcond_yn_Unknown',\n",
       " 'medcond_yn_Yes']"
      ]
     },
     "execution_count": 81,
     "metadata": {},
     "output_type": "execute_result"
    }
   ],
   "source": [
    "categorical_columns = df_rev1.select_dtypes(include=['uint8']).columns.tolist()\n",
    "categorical_columns"
   ]
  },
  {
   "cell_type": "markdown",
   "metadata": {},
   "source": [
    "#### Total features are:"
   ]
  },
  {
   "cell_type": "code",
   "execution_count": 82,
   "metadata": {},
   "outputs": [
    {
     "data": {
      "text/plain": [
       "['age_group_10 - 19 Years',\n",
       " 'age_group_20 - 29 Years',\n",
       " 'age_group_30 - 39 Years',\n",
       " 'age_group_40 - 49 Years',\n",
       " 'age_group_50 - 59 Years',\n",
       " 'age_group_60 - 69 Years',\n",
       " 'age_group_70 - 79 Years',\n",
       " 'age_group_80+ Years',\n",
       " 'hosp_yn_OTH',\n",
       " 'hosp_yn_Unknown',\n",
       " 'hosp_yn_Yes',\n",
       " 'icu_yn_Unknown',\n",
       " 'icu_yn_Yes',\n",
       " 'death_yn_1',\n",
       " 'medcond_yn_Unknown',\n",
       " 'medcond_yn_Yes']"
      ]
     },
     "execution_count": 82,
     "metadata": {},
     "output_type": "execute_result"
    }
   ],
   "source": [
    "features = categorical_columns\n",
    "features"
   ]
  },
  {
   "cell_type": "markdown",
   "metadata": {},
   "source": [
    "### Setting up the train/test split\n",
    "- This is based on the dataset with dummy values\n",
    "- The target feature is stored in dataframe \"y\"\n",
    "- The remaining features are stored in dataframe \"X\"\n",
    "- Both are split into training and test subsets"
   ]
  },
  {
   "cell_type": "code",
   "execution_count": 83,
   "metadata": {},
   "outputs": [
    {
     "name": "stdout",
     "output_type": "stream",
     "text": [
      "The original range is:  9891\n",
      "training range (70%):\t rows 0 to 6923\n",
      "test range (30%): \t rows 6923 to 9891\n"
     ]
    }
   ],
   "source": [
    "# y is the target\n",
    "y = df_rev1[\"death_yn_1\"]\n",
    "# X is everything else\n",
    "X = df_rev1.drop([\"death_yn_1\"],1)\n",
    "# Split the dataset into two datasets: 70% training and 30% test\n",
    "X_train, X_test, y_train, y_test = train_test_split(X, y, random_state=1,  test_size=0.3)\n",
    "\n",
    "print(\"The original range is: \",df_rev1.shape[0])\n",
    "print(\"training range (70%):\\t rows 0 to\", round(X_train.shape[0]))\n",
    "print(\"test range (30%): \\t rows\", round(X_train.shape[0]), \"to\", round(X_train.shape[0]) + X_test.shape[0])"
   ]
  },
  {
   "cell_type": "code",
   "execution_count": 84,
   "metadata": {},
   "outputs": [
    {
     "name": "stdout",
     "output_type": "stream",
     "text": [
      "\n",
      "Descriptive features in X:\n",
      "       age_group_10 - 19 Years  age_group_20 - 29 Years  \\\n",
      "6597                        0                        1   \n",
      "4876                        0                        1   \n",
      "3775                        0                        1   \n",
      "4995                        1                        0   \n",
      "1817                        1                        0   \n",
      "\n",
      "      age_group_30 - 39 Years  age_group_40 - 49 Years  \\\n",
      "6597                        0                        0   \n",
      "4876                        0                        0   \n",
      "3775                        0                        0   \n",
      "4995                        0                        0   \n",
      "1817                        0                        0   \n",
      "\n",
      "      age_group_50 - 59 Years  age_group_60 - 69 Years  \\\n",
      "6597                        0                        0   \n",
      "4876                        0                        0   \n",
      "3775                        0                        0   \n",
      "4995                        0                        0   \n",
      "1817                        0                        0   \n",
      "\n",
      "      age_group_70 - 79 Years  age_group_80+ Years  hosp_yn_OTH  \\\n",
      "6597                        0                    0            0   \n",
      "4876                        0                    0            0   \n",
      "3775                        0                    0            0   \n",
      "4995                        0                    0            0   \n",
      "1817                        0                    0            0   \n",
      "\n",
      "      hosp_yn_Unknown  hosp_yn_Yes  icu_yn_Unknown  icu_yn_Yes  \\\n",
      "6597                0            0               1           0   \n",
      "4876                0            0               1           0   \n",
      "3775                1            0               1           0   \n",
      "4995                1            0               1           0   \n",
      "1817                0            0               1           0   \n",
      "\n",
      "      medcond_yn_Unknown  medcond_yn_Yes  \n",
      "6597                   1               0  \n",
      "4876                   1               0  \n",
      "3775                   1               0  \n",
      "4995                   1               0  \n",
      "1817                   1               0  \n",
      "\n",
      "Target feature in y:\n",
      " 6597    0\n",
      "4876    0\n",
      "3775    0\n",
      "4995    0\n",
      "1817    0\n",
      "Name: death_yn_1, dtype: uint8\n"
     ]
    }
   ],
   "source": [
    "print(\"\\nDescriptive features in X:\\n\", X_train.head(5))\n",
    "print(\"\\nTarget feature in y:\\n\", y_train.head(5))"
   ]
  },
  {
   "cell_type": "markdown",
   "metadata": {},
   "source": [
    "#### Reset the indexes of the training and test splits\n",
    "- We can see from the X_train printout below that the indexes are no longer consecutive\n",
    "- This is the same for y_train, X_test, y_test\n",
    "- This will need to be dealt with next as it will effect merging of dataframes in the coming sections"
   ]
  },
  {
   "cell_type": "code",
   "execution_count": 85,
   "metadata": {},
   "outputs": [
    {
     "data": {
      "text/html": [
       "<div>\n",
       "<style scoped>\n",
       "    .dataframe tbody tr th:only-of-type {\n",
       "        vertical-align: middle;\n",
       "    }\n",
       "\n",
       "    .dataframe tbody tr th {\n",
       "        vertical-align: top;\n",
       "    }\n",
       "\n",
       "    .dataframe thead th {\n",
       "        text-align: right;\n",
       "    }\n",
       "</style>\n",
       "<table border=\"1\" class=\"dataframe\">\n",
       "  <thead>\n",
       "    <tr style=\"text-align: right;\">\n",
       "      <th></th>\n",
       "      <th>age_group_10 - 19 Years</th>\n",
       "      <th>age_group_20 - 29 Years</th>\n",
       "      <th>age_group_30 - 39 Years</th>\n",
       "      <th>age_group_40 - 49 Years</th>\n",
       "      <th>age_group_50 - 59 Years</th>\n",
       "      <th>age_group_60 - 69 Years</th>\n",
       "      <th>age_group_70 - 79 Years</th>\n",
       "      <th>age_group_80+ Years</th>\n",
       "      <th>hosp_yn_OTH</th>\n",
       "      <th>hosp_yn_Unknown</th>\n",
       "      <th>hosp_yn_Yes</th>\n",
       "      <th>icu_yn_Unknown</th>\n",
       "      <th>icu_yn_Yes</th>\n",
       "      <th>medcond_yn_Unknown</th>\n",
       "      <th>medcond_yn_Yes</th>\n",
       "    </tr>\n",
       "  </thead>\n",
       "  <tbody>\n",
       "    <tr>\n",
       "      <th>6597</th>\n",
       "      <td>0</td>\n",
       "      <td>1</td>\n",
       "      <td>0</td>\n",
       "      <td>0</td>\n",
       "      <td>0</td>\n",
       "      <td>0</td>\n",
       "      <td>0</td>\n",
       "      <td>0</td>\n",
       "      <td>0</td>\n",
       "      <td>0</td>\n",
       "      <td>0</td>\n",
       "      <td>1</td>\n",
       "      <td>0</td>\n",
       "      <td>1</td>\n",
       "      <td>0</td>\n",
       "    </tr>\n",
       "    <tr>\n",
       "      <th>4876</th>\n",
       "      <td>0</td>\n",
       "      <td>1</td>\n",
       "      <td>0</td>\n",
       "      <td>0</td>\n",
       "      <td>0</td>\n",
       "      <td>0</td>\n",
       "      <td>0</td>\n",
       "      <td>0</td>\n",
       "      <td>0</td>\n",
       "      <td>0</td>\n",
       "      <td>0</td>\n",
       "      <td>1</td>\n",
       "      <td>0</td>\n",
       "      <td>1</td>\n",
       "      <td>0</td>\n",
       "    </tr>\n",
       "    <tr>\n",
       "      <th>3775</th>\n",
       "      <td>0</td>\n",
       "      <td>1</td>\n",
       "      <td>0</td>\n",
       "      <td>0</td>\n",
       "      <td>0</td>\n",
       "      <td>0</td>\n",
       "      <td>0</td>\n",
       "      <td>0</td>\n",
       "      <td>0</td>\n",
       "      <td>1</td>\n",
       "      <td>0</td>\n",
       "      <td>1</td>\n",
       "      <td>0</td>\n",
       "      <td>1</td>\n",
       "      <td>0</td>\n",
       "    </tr>\n",
       "    <tr>\n",
       "      <th>4995</th>\n",
       "      <td>1</td>\n",
       "      <td>0</td>\n",
       "      <td>0</td>\n",
       "      <td>0</td>\n",
       "      <td>0</td>\n",
       "      <td>0</td>\n",
       "      <td>0</td>\n",
       "      <td>0</td>\n",
       "      <td>0</td>\n",
       "      <td>1</td>\n",
       "      <td>0</td>\n",
       "      <td>1</td>\n",
       "      <td>0</td>\n",
       "      <td>1</td>\n",
       "      <td>0</td>\n",
       "    </tr>\n",
       "    <tr>\n",
       "      <th>1817</th>\n",
       "      <td>1</td>\n",
       "      <td>0</td>\n",
       "      <td>0</td>\n",
       "      <td>0</td>\n",
       "      <td>0</td>\n",
       "      <td>0</td>\n",
       "      <td>0</td>\n",
       "      <td>0</td>\n",
       "      <td>0</td>\n",
       "      <td>0</td>\n",
       "      <td>0</td>\n",
       "      <td>1</td>\n",
       "      <td>0</td>\n",
       "      <td>1</td>\n",
       "      <td>0</td>\n",
       "    </tr>\n",
       "  </tbody>\n",
       "</table>\n",
       "</div>"
      ],
      "text/plain": [
       "      age_group_10 - 19 Years  age_group_20 - 29 Years  \\\n",
       "6597                        0                        1   \n",
       "4876                        0                        1   \n",
       "3775                        0                        1   \n",
       "4995                        1                        0   \n",
       "1817                        1                        0   \n",
       "\n",
       "      age_group_30 - 39 Years  age_group_40 - 49 Years  \\\n",
       "6597                        0                        0   \n",
       "4876                        0                        0   \n",
       "3775                        0                        0   \n",
       "4995                        0                        0   \n",
       "1817                        0                        0   \n",
       "\n",
       "      age_group_50 - 59 Years  age_group_60 - 69 Years  \\\n",
       "6597                        0                        0   \n",
       "4876                        0                        0   \n",
       "3775                        0                        0   \n",
       "4995                        0                        0   \n",
       "1817                        0                        0   \n",
       "\n",
       "      age_group_70 - 79 Years  age_group_80+ Years  hosp_yn_OTH  \\\n",
       "6597                        0                    0            0   \n",
       "4876                        0                    0            0   \n",
       "3775                        0                    0            0   \n",
       "4995                        0                    0            0   \n",
       "1817                        0                    0            0   \n",
       "\n",
       "      hosp_yn_Unknown  hosp_yn_Yes  icu_yn_Unknown  icu_yn_Yes  \\\n",
       "6597                0            0               1           0   \n",
       "4876                0            0               1           0   \n",
       "3775                1            0               1           0   \n",
       "4995                1            0               1           0   \n",
       "1817                0            0               1           0   \n",
       "\n",
       "      medcond_yn_Unknown  medcond_yn_Yes  \n",
       "6597                   1               0  \n",
       "4876                   1               0  \n",
       "3775                   1               0  \n",
       "4995                   1               0  \n",
       "1817                   1               0  "
      ]
     },
     "execution_count": 85,
     "metadata": {},
     "output_type": "execute_result"
    }
   ],
   "source": [
    "X_train.head(5)"
   ]
  },
  {
   "cell_type": "code",
   "execution_count": 86,
   "metadata": {},
   "outputs": [
    {
     "data": {
      "text/html": [
       "<div>\n",
       "<style scoped>\n",
       "    .dataframe tbody tr th:only-of-type {\n",
       "        vertical-align: middle;\n",
       "    }\n",
       "\n",
       "    .dataframe tbody tr th {\n",
       "        vertical-align: top;\n",
       "    }\n",
       "\n",
       "    .dataframe thead th {\n",
       "        text-align: right;\n",
       "    }\n",
       "</style>\n",
       "<table border=\"1\" class=\"dataframe\">\n",
       "  <thead>\n",
       "    <tr style=\"text-align: right;\">\n",
       "      <th></th>\n",
       "      <th>age_group_10 - 19 Years</th>\n",
       "      <th>age_group_20 - 29 Years</th>\n",
       "      <th>age_group_30 - 39 Years</th>\n",
       "      <th>age_group_40 - 49 Years</th>\n",
       "      <th>age_group_50 - 59 Years</th>\n",
       "      <th>age_group_60 - 69 Years</th>\n",
       "      <th>age_group_70 - 79 Years</th>\n",
       "      <th>age_group_80+ Years</th>\n",
       "      <th>hosp_yn_OTH</th>\n",
       "      <th>hosp_yn_Unknown</th>\n",
       "      <th>hosp_yn_Yes</th>\n",
       "      <th>icu_yn_Unknown</th>\n",
       "      <th>icu_yn_Yes</th>\n",
       "      <th>medcond_yn_Unknown</th>\n",
       "      <th>medcond_yn_Yes</th>\n",
       "    </tr>\n",
       "  </thead>\n",
       "  <tbody>\n",
       "    <tr>\n",
       "      <th>0</th>\n",
       "      <td>0</td>\n",
       "      <td>1</td>\n",
       "      <td>0</td>\n",
       "      <td>0</td>\n",
       "      <td>0</td>\n",
       "      <td>0</td>\n",
       "      <td>0</td>\n",
       "      <td>0</td>\n",
       "      <td>0</td>\n",
       "      <td>0</td>\n",
       "      <td>0</td>\n",
       "      <td>1</td>\n",
       "      <td>0</td>\n",
       "      <td>1</td>\n",
       "      <td>0</td>\n",
       "    </tr>\n",
       "    <tr>\n",
       "      <th>1</th>\n",
       "      <td>0</td>\n",
       "      <td>1</td>\n",
       "      <td>0</td>\n",
       "      <td>0</td>\n",
       "      <td>0</td>\n",
       "      <td>0</td>\n",
       "      <td>0</td>\n",
       "      <td>0</td>\n",
       "      <td>0</td>\n",
       "      <td>0</td>\n",
       "      <td>0</td>\n",
       "      <td>1</td>\n",
       "      <td>0</td>\n",
       "      <td>1</td>\n",
       "      <td>0</td>\n",
       "    </tr>\n",
       "    <tr>\n",
       "      <th>2</th>\n",
       "      <td>0</td>\n",
       "      <td>1</td>\n",
       "      <td>0</td>\n",
       "      <td>0</td>\n",
       "      <td>0</td>\n",
       "      <td>0</td>\n",
       "      <td>0</td>\n",
       "      <td>0</td>\n",
       "      <td>0</td>\n",
       "      <td>1</td>\n",
       "      <td>0</td>\n",
       "      <td>1</td>\n",
       "      <td>0</td>\n",
       "      <td>1</td>\n",
       "      <td>0</td>\n",
       "    </tr>\n",
       "    <tr>\n",
       "      <th>3</th>\n",
       "      <td>1</td>\n",
       "      <td>0</td>\n",
       "      <td>0</td>\n",
       "      <td>0</td>\n",
       "      <td>0</td>\n",
       "      <td>0</td>\n",
       "      <td>0</td>\n",
       "      <td>0</td>\n",
       "      <td>0</td>\n",
       "      <td>1</td>\n",
       "      <td>0</td>\n",
       "      <td>1</td>\n",
       "      <td>0</td>\n",
       "      <td>1</td>\n",
       "      <td>0</td>\n",
       "    </tr>\n",
       "    <tr>\n",
       "      <th>4</th>\n",
       "      <td>1</td>\n",
       "      <td>0</td>\n",
       "      <td>0</td>\n",
       "      <td>0</td>\n",
       "      <td>0</td>\n",
       "      <td>0</td>\n",
       "      <td>0</td>\n",
       "      <td>0</td>\n",
       "      <td>0</td>\n",
       "      <td>0</td>\n",
       "      <td>0</td>\n",
       "      <td>1</td>\n",
       "      <td>0</td>\n",
       "      <td>1</td>\n",
       "      <td>0</td>\n",
       "    </tr>\n",
       "  </tbody>\n",
       "</table>\n",
       "</div>"
      ],
      "text/plain": [
       "   age_group_10 - 19 Years  age_group_20 - 29 Years  age_group_30 - 39 Years  \\\n",
       "0                        0                        1                        0   \n",
       "1                        0                        1                        0   \n",
       "2                        0                        1                        0   \n",
       "3                        1                        0                        0   \n",
       "4                        1                        0                        0   \n",
       "\n",
       "   age_group_40 - 49 Years  age_group_50 - 59 Years  age_group_60 - 69 Years  \\\n",
       "0                        0                        0                        0   \n",
       "1                        0                        0                        0   \n",
       "2                        0                        0                        0   \n",
       "3                        0                        0                        0   \n",
       "4                        0                        0                        0   \n",
       "\n",
       "   age_group_70 - 79 Years  age_group_80+ Years  hosp_yn_OTH  hosp_yn_Unknown  \\\n",
       "0                        0                    0            0                0   \n",
       "1                        0                    0            0                0   \n",
       "2                        0                    0            0                1   \n",
       "3                        0                    0            0                1   \n",
       "4                        0                    0            0                0   \n",
       "\n",
       "   hosp_yn_Yes  icu_yn_Unknown  icu_yn_Yes  medcond_yn_Unknown  medcond_yn_Yes  \n",
       "0            0               1           0                   1               0  \n",
       "1            0               1           0                   1               0  \n",
       "2            0               1           0                   1               0  \n",
       "3            0               1           0                   1               0  \n",
       "4            0               1           0                   1               0  "
      ]
     },
     "execution_count": 86,
     "metadata": {},
     "output_type": "execute_result"
    }
   ],
   "source": [
    "# Need to reset the index to allow contatenation with predicted values otherwise not joining on same index...\n",
    "X_train.reset_index(drop=True, inplace=True)\n",
    "y_train.reset_index(drop=True, inplace=True)\n",
    "X_test.reset_index(drop=True, inplace=True)\n",
    "y_test.reset_index(drop=True, inplace=True)\n",
    "X_train.head(5)"
   ]
  },
  {
   "cell_type": "markdown",
   "metadata": {},
   "source": [
    "We are now ready to model the datasets."
   ]
  },
  {
   "cell_type": "markdown",
   "metadata": {},
   "source": [
    "## 2. Predictive Modeling: Linear Regression"
   ]
  },
  {
   "cell_type": "markdown",
   "metadata": {},
   "source": [
    "#### 2.1 Train a linear regression model using only the descriptive features selected from part 1 above"
   ]
  },
  {
   "cell_type": "markdown",
   "metadata": {},
   "source": [
    "- In the cell below we will use features selected above to train a linear regression model. \n",
    "- For training, we will use only the train split from the train/test split performed above."
   ]
  },
  {
   "cell_type": "code",
   "execution_count": 87,
   "metadata": {},
   "outputs": [],
   "source": [
    "# Train aka fit, a model using all continuous and categorical features.\n",
    "multiple_linreg = LinearRegression().fit(X_train, y_train)"
   ]
  },
  {
   "cell_type": "markdown",
   "metadata": {},
   "source": [
    "#### 2.2 Print out the coefficients learned by the model"
   ]
  },
  {
   "cell_type": "code",
   "execution_count": 88,
   "metadata": {},
   "outputs": [
    {
     "name": "stdout",
     "output_type": "stream",
     "text": [
      "\n",
      "Features are: \n",
      " Index(['age_group_10 - 19 Years', 'age_group_20 - 29 Years',\n",
      "       'age_group_30 - 39 Years', 'age_group_40 - 49 Years',\n",
      "       'age_group_50 - 59 Years', 'age_group_60 - 69 Years',\n",
      "       'age_group_70 - 79 Years', 'age_group_80+ Years', 'hosp_yn_OTH',\n",
      "       'hosp_yn_Unknown', 'hosp_yn_Yes', 'icu_yn_Unknown', 'icu_yn_Yes',\n",
      "       'medcond_yn_Unknown', 'medcond_yn_Yes'],\n",
      "      dtype='object')\n",
      "\n",
      "Coeficients are: \n",
      " [ 0.00113065  0.00133949 -0.00038946 -0.00236196 -0.00314893  0.02531091\n",
      "  0.10287653  0.23745245 -0.0693107   0.00812723  0.19389625  0.04037971\n",
      "  0.2704465  -0.0125425   0.00944255]\n",
      "\n",
      "Intercept is: \n",
      " -0.03175510540207646\n",
      "\n",
      "Features and coeficients: \n",
      " [('age_group_10 - 19 Years', 0.001130653340106506), ('age_group_20 - 29 Years', 0.00133948975002316), ('age_group_30 - 39 Years', -0.00038945538296718713), ('age_group_40 - 49 Years', -0.002361964246467602), ('age_group_50 - 59 Years', -0.0031489307835364556), ('age_group_60 - 69 Years', 0.025310905748253457), ('age_group_70 - 79 Years', 0.10287653072085304), ('age_group_80+ Years', 0.23745245393248848), ('hosp_yn_OTH', -0.06931069787515635), ('hosp_yn_Unknown', 0.00812722930084267), ('hosp_yn_Yes', 0.1938962489257704), ('icu_yn_Unknown', 0.040379714269279714), ('icu_yn_Yes', 0.27044650451727703), ('medcond_yn_Unknown', -0.012542498011488191), ('medcond_yn_Yes', 0.00944255133901173)]\n"
     ]
    }
   ],
   "source": [
    "# Print the weights learned for each feature.\n",
    "print(\"\\nFeatures are: \\n\", X_train.columns)\n",
    "print(\"\\nCoeficients are: \\n\", multiple_linreg.coef_)\n",
    "print(\"\\nIntercept is: \\n\", multiple_linreg.intercept_)\n",
    "print(\"\\nFeatures and coeficients: \\n\", list(zip(X_train.columns, multiple_linreg.coef_)))"
   ]
  },
  {
   "cell_type": "markdown",
   "metadata": {},
   "source": [
    "#### 2.3 Interpreting the linear regression model"
   ]
  },
  {
   "cell_type": "markdown",
   "metadata": {},
   "source": [
    "Before discussing coefficients learned by the model, we will firstly discuss linear regression.\n",
    "\n",
    "Linear regression is a commonly used type of predictive analysis which is used to make predictions based on a linear relationship. It examines two things: \n",
    "- Does a set of predictor variables do a good job in predicting an outcome (dependent) variable\n",
    "- Which variables in particular are significant predictors of the outcome variable, and in what way do they–indicated by the magnitude and sign of the beta estimates–impact the outcome variable\n",
    "\n",
    "It finds the line of best fit that describes the relationship between the target and predictors.\n",
    "\n",
    "To create the predictive model using linear regression, these coefficients must be \"learned\".\n",
    "As seen in the image below, this is done using the least squares criterion. This means we find the line of best fit that describes the relationship between the target and predictors which minimises the sum of squared residuals (also known as sum of squared errors).\n",
    "\n",
    "<img src=\"LinearRegression.png\">\n",
    "<b>Fig showing least squares criterion</b>\n",
    "\n",
    "\n",
    "<b>Discussion of coefficients learned by the model</b>\n",
    "\n",
    "- The regression coefficient tells us whether there is a positive or negative correlation between each independent variable the dependent variable. A positive coefficient indicates that as the value of the independent variable increases, the mean of the dependent variable also tends to increase. A negative coefficient suggests that as the independent variable increases, the dependent variable tends to decrease.\n",
    "- From the values above can see the calculated intercept is -0.0318\n",
    "    - This is the starting point. i.e. if all other coefficients were zero then the value for 'x' would be -0.0318.\n",
    "- We can see all the coefficients for each features. These are zipped together in a single list for ease of inspection.The effect of these on the value 'x' is the same as for linear\n",
    "\n",
    "<b>Benefits of Linear Regression</b>\n",
    "- A benefit or advantage of using linear regression is that it has a considerable lower time complexity and lower computational power when compared to the other machine learning algorithms.\n",
    "- Another benefit of linear regression is it's performance on linearly seperable datasets. Linear regression fits linearly seperable datasets almost perfectly and is often used to find the nature of the relationship between variables.\n",
    "\n",
    "<b>Negatives of Linear Regression</b>\n",
    "- A negative of linear regression is that it is prone to underfitting. Since linear regression assumes a linear relationship between the input and output varaibles, it fails to fit complex datasets properly.\n",
    "- Another negative of linear regression is that it is sensitive to outliers. Outliers can significantly skew what values that fall within each threshold point.The outliers will have huge effects on valuess near the threshold\n",
    "\n"
   ]
  },
  {
   "cell_type": "markdown",
   "metadata": {},
   "source": [
    "#### 2.4 Printing 100 predicted target features and evaluate the prediction\n",
    "- Here we will print the predicted target feature value for the first 100 training examples. \n",
    "- We will threshold the predicted target feature value given by the linear regression model at 0.5, to get the predicted class for each example. \n",
    "    - If value is >= 0.5 it is cast to 1, if < 0.5 it is cast to 0"
   ]
  },
  {
   "cell_type": "code",
   "execution_count": 89,
   "metadata": {},
   "outputs": [
    {
     "name": "stdout",
     "output_type": "stream",
     "text": [
      "\n",
      "Predictions with multiple linear regression: \n",
      "\n",
      "    death_yn_1  Predicted\n",
      "0            0        0.0\n",
      "1            0        0.0\n",
      "2            0        0.0\n",
      "3            0        0.0\n",
      "4            0        0.0\n",
      "..         ...        ...\n",
      "95           0        0.0\n",
      "96           0        0.0\n",
      "97           0        0.0\n",
      "98           0        0.0\n",
      "99           0        0.0\n",
      "\n",
      "[100 rows x 2 columns]\n"
     ]
    }
   ],
   "source": [
    "# calculate the prediction and threshold the value. If >= 0.5 its true\n",
    "multiple_linreg_predictions_train = (multiple_linreg.predict(X_train) >= 0.5) * 1.0\n",
    "\n",
    "print(\"\\nPredictions with multiple linear regression: \\n\")\n",
    "actual_vs_predicted_multiplelinreg = pd.concat([y_train, pd.DataFrame(multiple_linreg_predictions_train, columns=['Predicted'])], axis=1)\n",
    "print(actual_vs_predicted_multiplelinreg.head(100))"
   ]
  },
  {
   "cell_type": "markdown",
   "metadata": {},
   "source": [
    "#### 2.5 Evaluation metrics based on training data\n",
    "- We will print the classification evaluation measures computed on the training set (e.g. Accuracy, Confusion matrix, Precision, Recall, F1)\n",
    "- We will discuss findings based on these measures"
   ]
  },
  {
   "cell_type": "code",
   "execution_count": 90,
   "metadata": {},
   "outputs": [
    {
     "name": "stdout",
     "output_type": "stream",
     "text": [
      "==================== Train Data =======================\n",
      "Accuracy:  0.9685107612306804\n",
      "Confusion matrix: \n",
      " [[6690    9]\n",
      " [ 209   15]]\n",
      "Classification report:\n",
      "                precision    recall  f1-score   support\n",
      "\n",
      "           0       0.97      1.00      0.98      6699\n",
      "           1       0.62      0.07      0.12       224\n",
      "\n",
      "    accuracy                           0.97      6923\n",
      "   macro avg       0.80      0.53      0.55      6923\n",
      "weighted avg       0.96      0.97      0.96      6923\n",
      "\n",
      "======================================================\n"
     ]
    }
   ],
   "source": [
    "# Some more evaluation metrics.\n",
    "print(\"==================== Train Data =======================\")\n",
    "print(\"Accuracy: \", metrics.accuracy_score(y_train, multiple_linreg_predictions_train))\n",
    "print(\"Confusion matrix: \\n\", metrics.confusion_matrix(y_train, multiple_linreg_predictions_train))\n",
    "print(\"Classification report:\\n \", metrics.classification_report(y_train, multiple_linreg_predictions_train))\n",
    "print(\"======================================================\")"
   ]
  },
  {
   "cell_type": "markdown",
   "metadata": {},
   "source": [
    "##### Interpretation of results\n",
    "- Accuracy\n",
    "    - We have an accuracy of 97%. This is simply stating how often the model is correct. \n",
    "- Confusion Matrix\n",
    "    - [0][0] TRUE NEGATIVE - The number that is predicted 0 that was actually 0\n",
    "    - [0][1] FALSE POSITIVE - The number that is predicted 1 that is actually 0\n",
    "    - [1][0] FALSE NEGATIVE - The number that is predicted 0 that is actually 1\n",
    "    - [1][1] TRUE POSITIVE - The number that is predicted 1 that is actually 1\n",
    "    \n",
    "    - We can see <b>209 false negatives</b> from our confusion matrix. In real-world terms, this means we predicted 209 to live, where they actually died. This is quite high and is perhaps the most significant number of this confusion matrix.\n",
    "    \n",
    "    - In addition to this, the <b>misclassification rate</b> is approximately 3.15% ((False Positive + False Negative/ Total) *100) \n",
    "    - The prevalence (How often does the yes condition actually occur) is  3.24% ((Actual Yes/ Total) * 100)\n",
    "- Precision - How good the model is at predicting the positive class\n",
    "    - What % of the predicted positive are actually positive\n",
    "    - It is the number values correctly predicted positive over the total number of  positive values\n",
    "    - In other words, it is true positives/(true positives + false negatives).\n",
    "    - Precision Positive is 0.62\n",
    "    - Precision Negative is 0.97\n",
    "- Recall\n",
    "    - What % of the positive values did we predict\n",
    "    - This relates to the the number of values which were correctly predicted positive over the total number of positive predictions that could have been made.\n",
    "    - In other words, it is true positives/(true positives + false negatives).\n",
    "    - Recall Positive is 0.07\n",
    "    - Recall Negative is 1.00\n",
    "- F1 Score\n",
    "    - Is an a weighted average of Precision and recall\n",
    "    - F1 Score Positive is 0.12\n",
    "    - F1 Score Negative is 0.98\n",
    "\n",
    "Summary\n",
    "- Some of these results are reasonable.\n",
    "- However, the positive recall and f1-score are very low. We can see the model is far better at predicting the negative class. \n",
    "- This makes sense as the model has more negative data to learn from as it is the majority class.\n",
    "- This will help with predicting the chances of survival rates in patients. \n",
    "- The down side being that if we try to make an assessment on the liklihood of death being yes, the model will not make a great prediction based off of the low recall score."
   ]
  },
  {
   "cell_type": "markdown",
   "metadata": {},
   "source": [
    "#### 2.6 Evaluate the model using the hold-out (30% examples) test set\n",
    "- The results from the test data will be compared the results from the training data.\n",
    "- In addition they will be compared to the results from a cross-validated model (i.e. a new model trained and evaluated using cross-validation on the full dataset)."
   ]
  },
  {
   "cell_type": "markdown",
   "metadata": {},
   "source": [
    "Printing Actual Death vs predicted based on test data"
   ]
  },
  {
   "cell_type": "code",
   "execution_count": 91,
   "metadata": {},
   "outputs": [
    {
     "name": "stdout",
     "output_type": "stream",
     "text": [
      "\n",
      "Predictions with multiple linear regression: \n",
      "\n",
      "    death_yn_1  Predicted\n",
      "0            0        0.0\n",
      "1            0        0.0\n",
      "2            0        0.0\n",
      "3            0        0.0\n",
      "4            0        0.0\n",
      "..         ...        ...\n",
      "95           0        0.0\n",
      "96           0        0.0\n",
      "97           0        0.0\n",
      "98           0        0.0\n",
      "99           0        0.0\n",
      "\n",
      "[100 rows x 2 columns]\n"
     ]
    }
   ],
   "source": [
    "# calculate the prediction and threshold the value. If >= 0.5 its true\n",
    "multiple_linreg_predictions_test = (multiple_linreg.predict(X_test) >= 0.5) * 1.0\n",
    "\n",
    "print(\"\\nPredictions with multiple linear regression: \\n\")\n",
    "actual_vs_predicted_multiplelinreg = pd.concat([y_test, pd.DataFrame(multiple_linreg_predictions_test, columns=['Predicted'])], axis=1)\n",
    "print(actual_vs_predicted_multiplelinreg.head(100))"
   ]
  },
  {
   "cell_type": "markdown",
   "metadata": {},
   "source": [
    "##### Evaluation metrics based on test data"
   ]
  },
  {
   "cell_type": "code",
   "execution_count": 92,
   "metadata": {},
   "outputs": [
    {
     "name": "stdout",
     "output_type": "stream",
     "text": [
      "==================== Test Data =======================\n",
      "Accuracy:  0.9659703504043127\n",
      "Confusion matrix: \n",
      " [[2863    5]\n",
      " [  96    4]]\n",
      "Classification report - Test data:\n",
      "                precision    recall  f1-score   support\n",
      "\n",
      "           0       0.97      1.00      0.98      2868\n",
      "           1       0.44      0.04      0.07       100\n",
      "\n",
      "    accuracy                           0.97      2968\n",
      "   macro avg       0.71      0.52      0.53      2968\n",
      "weighted avg       0.95      0.97      0.95      2968\n",
      "\n",
      "\n",
      "==================== Train Data ======================\n",
      "Accuracy:  0.9685107612306804\n",
      "Confusion matrix: \n",
      " [[6690    9]\n",
      " [ 209   15]]\n",
      "\n",
      "Classification report: - Training data\n",
      "                precision    recall  f1-score   support\n",
      "\n",
      "           0       0.97      1.00      0.98      6699\n",
      "           1       0.62      0.07      0.12       224\n",
      "\n",
      "    accuracy                           0.97      6923\n",
      "   macro avg       0.80      0.53      0.55      6923\n",
      "weighted avg       0.96      0.97      0.96      6923\n",
      "\n"
     ]
    }
   ],
   "source": [
    "# Some more evaluation metrics.\n",
    "print(\"==================== Test Data =======================\")\n",
    "print(\"Accuracy: \", metrics.accuracy_score(y_test, multiple_linreg_predictions_test))\n",
    "print(\"Confusion matrix: \\n\", metrics.confusion_matrix(y_test, multiple_linreg_predictions_test))\n",
    "print(\"Classification report - Test data:\\n \", metrics.classification_report(y_test, multiple_linreg_predictions_test))\n",
    "print(\"\\n==================== Train Data ======================\")\n",
    "print(\"Accuracy: \", metrics.accuracy_score(y_train, multiple_linreg_predictions_train))\n",
    "print(\"Confusion matrix: \\n\", metrics.confusion_matrix(y_train, multiple_linreg_predictions_train))\n",
    "print(\"\\nClassification report: - Training data\\n \", metrics.classification_report(y_train, multiple_linreg_predictions_train))"
   ]
  },
  {
   "cell_type": "markdown",
   "metadata": {},
   "source": [
    "**Interpretation of test results and comparison with training results**\n",
    "- Accuracy\n",
    "    - The accuracy of the test data is marginally lower 96.6% vs 96.9%. \n",
    "- Precision\n",
    "    - The precision score for predicting the positive case has reduced drastically from 62% to 44%.\n",
    "    - The precision score for predicting the negative case has remained the same at 97%.\n",
    "- Recall\n",
    "    - The recall score for predicting the positive case has decreased from 7% to 4%.\n",
    "    - The recall score for predicting the negative case has remained the same at 100%.\n",
    "- F1\n",
    "    - The f1 score for predicting the positive case has decreased from 12% to 7%.\n",
    "    - The f1 score for predicting the negative case has reamined the same at 98%.\n",
    "\n",
    "**Summary**\n",
    "- We are satisfied with these results as we are now testing the predictive model on data that has not been seen before.\n",
    "- We can see marginal decreases in some scores, and drastic decreases in others (positive precision).\n",
    "- These results are still ok and are a sign that the model is generalising.\n",
    "- We will now explore this even further using cross validation."
   ]
  },
  {
   "cell_type": "markdown",
   "metadata": {},
   "source": [
    "#### 2.7 Cross validation\n",
    "- We will now perform cross validation on the linear regression model. \n",
    "- Using cross validation we do repeated train/test splits and average the error on the test datasets. Therefore, it can result in a less biased result than a simple train/test split.\n",
    "- To perform cross-validation we will randomly split the dataset into 10 equal partitions. \n",
    "- We will then use one partition as the test set and the union of all other partitions as the training set. \n",
    "- We then evaluate the results of the test set and then repeat these steps using a different partition as the test set for each iteration. \n",
    "- Finally, we will take the average of all results.\n",
    "- During this validation, we will use 10-fold as increasing this number would increase computation time.\n",
    "- We will store the results in a dictionary for later use\n",
    "\n",
    "\n",
    "We will begin by creating a function to perform cross-validation as this is not provided by Scikit-Learn.\n",
    "- Cross validation Function can be seen below"
   ]
  },
  {
   "cell_type": "code",
   "execution_count": 93,
   "metadata": {},
   "outputs": [],
   "source": [
    "def cross_val_LinReg(X, y, cv=3, scoring='accuracy'):\n",
    "    \"\"\"Functions to carry out cross validation on the linear regression model\n",
    "    Default number of validations is 3. The randon state will be updated \n",
    "    at each iteration to allow our results to be repeated\"\"\"\n",
    "    \n",
    "    # store results\n",
    "    results = []\n",
    "    # evaluate cv times and append to results\n",
    "    for i in range(cv):\n",
    "        # set up train test split\n",
    "        X_train, X_test, y_train, y_test = train_test_split(X, y, random_state=i , test_size=0.3)\n",
    "        # generate model\n",
    "        multiple_linreg = LinearRegression().fit(X_train, y_train)\n",
    "        # threshold\n",
    "        multiple_linreg_predictions = (multiple_linreg.predict(X_test) >= 0.5) * 1.0\n",
    "        # calc score\n",
    "        if scoring=='accuracy':\n",
    "            score = metrics.accuracy_score(y_test, multiple_linreg_predictions)\n",
    "        elif scoring=='precision':\n",
    "            score = metrics.precision_score(y_test, multiple_linreg_predictions)\n",
    "        elif scoring=='f1':\n",
    "            score = metrics.f1_score(y_test, multiple_linreg_predictions)\n",
    "        elif scoring=='recall':\n",
    "            score = metrics.recall_score(y_test, multiple_linreg_predictions)\n",
    "        # append to results\n",
    "        results.append(score)\n",
    "    return results"
   ]
  },
  {
   "cell_type": "markdown",
   "metadata": {},
   "source": [
    "- We will now create an additional function to perform 10 fold cross validation and store results into a dataframe\n",
    "- This will be used to simplify further analysis the dataset, looking at accuracy, precision, recall, f1."
   ]
  },
  {
   "cell_type": "code",
   "execution_count": 94,
   "metadata": {},
   "outputs": [],
   "source": [
    "def cross_val_LinReg_DF(X,y):\n",
    "    \"\"\"Function to perform cross validation and store results \n",
    "    in dataframe. Cross validation looks at accuracy, precision, \n",
    "    recall, f1. Returns a dataframe with results\"\"\"\n",
    "\n",
    "    linRegResults = {}\n",
    "    # metrics to test against\n",
    "    test_metrics = ['accuracy','precision','recall', 'f1']\n",
    "    \n",
    "    for metric in test_metrics:\n",
    "        # generate test results\n",
    "        result = cross_val_LinReg(X, y, cv=10, scoring=metric)\n",
    "        length = len(result)\n",
    "        # store result in dict\n",
    "        linRegResults[metric] = sum(result)/length\n",
    "\n",
    "    # create dataframe with results\n",
    "    LinRegDF = pd.DataFrame.from_dict(linRegResults, orient='index', columns=['Linear_Regression'])\n",
    "    \n",
    "    return LinRegDF"
   ]
  },
  {
   "cell_type": "markdown",
   "metadata": {},
   "source": [
    "Preform 10 fold cross validation using cross_val_LinReg_DF function\n",
    "- Results summarised below"
   ]
  },
  {
   "cell_type": "code",
   "execution_count": 95,
   "metadata": {},
   "outputs": [
    {
     "name": "stdout",
     "output_type": "stream",
     "text": [
      "Mean results from 10 fold cross validation are:\n"
     ]
    },
    {
     "data": {
      "text/html": [
       "<div>\n",
       "<style scoped>\n",
       "    .dataframe tbody tr th:only-of-type {\n",
       "        vertical-align: middle;\n",
       "    }\n",
       "\n",
       "    .dataframe tbody tr th {\n",
       "        vertical-align: top;\n",
       "    }\n",
       "\n",
       "    .dataframe thead th {\n",
       "        text-align: right;\n",
       "    }\n",
       "</style>\n",
       "<table border=\"1\" class=\"dataframe\">\n",
       "  <thead>\n",
       "    <tr style=\"text-align: right;\">\n",
       "      <th></th>\n",
       "      <th>Linear_Regression</th>\n",
       "    </tr>\n",
       "  </thead>\n",
       "  <tbody>\n",
       "    <tr>\n",
       "      <th>accuracy</th>\n",
       "      <td>0.966846</td>\n",
       "    </tr>\n",
       "    <tr>\n",
       "      <th>precision</th>\n",
       "      <td>0.450612</td>\n",
       "    </tr>\n",
       "    <tr>\n",
       "      <th>recall</th>\n",
       "      <td>0.042582</td>\n",
       "    </tr>\n",
       "    <tr>\n",
       "      <th>f1</th>\n",
       "      <td>0.077026</td>\n",
       "    </tr>\n",
       "  </tbody>\n",
       "</table>\n",
       "</div>"
      ],
      "text/plain": [
       "           Linear_Regression\n",
       "accuracy            0.966846\n",
       "precision           0.450612\n",
       "recall              0.042582\n",
       "f1                  0.077026"
      ]
     },
     "execution_count": 95,
     "metadata": {},
     "output_type": "execute_result"
    }
   ],
   "source": [
    "linRegDF = cross_val_LinReg_DF(X,y)\n",
    "print(f\"Mean results from 10 fold cross validation are:\")\n",
    "linRegDF"
   ]
  },
  {
   "cell_type": "markdown",
   "metadata": {},
   "source": [
    "- These are the average of 10-fold cross-validations.\n",
    "\n",
    "If we compare these to the the test results obtained above:\n",
    "- Accuracy has remained relatively the same with the test results showing 96.6% while 10 fold cross validation shows 96.7%\n",
    "- Precision has increased marginally by 1%, from 44% to 45%\n",
    "- Recall has remained the same at 4%\n",
    "- f1 score has increased slightly from 7% to 7.7%\n",
    "\n",
    "These results are very similar to our test data result data obtained above. We are pleased with these results, Although the recall score is very low, it is identical to that of the test data so we can see that the model is generalising well."
   ]
  },
  {
   "cell_type": "markdown",
   "metadata": {},
   "source": [
    "## 3. Predictive Modeling: Logistic Regression"
   ]
  },
  {
   "cell_type": "markdown",
   "metadata": {},
   "source": [
    "#### 3.1 Train a logistic regression model using only the descriptive features selected from part 1 above\n",
    "We will now use the same feature set from above to perform logistic regression using only these features."
   ]
  },
  {
   "cell_type": "code",
   "execution_count": 96,
   "metadata": {},
   "outputs": [],
   "source": [
    "# Train aka fit, a model using all continuous and categorical features.\n",
    "multiple_logisticreg = LogisticRegression().fit(X_train, y_train)"
   ]
  },
  {
   "cell_type": "markdown",
   "metadata": {},
   "source": [
    "#### 3.2 Print out the coefficients learned by the model"
   ]
  },
  {
   "cell_type": "code",
   "execution_count": 97,
   "metadata": {},
   "outputs": [
    {
     "name": "stdout",
     "output_type": "stream",
     "text": [
      "\n",
      "Features are: \n",
      " Index(['age_group_10 - 19 Years', 'age_group_20 - 29 Years',\n",
      "       'age_group_30 - 39 Years', 'age_group_40 - 49 Years',\n",
      "       'age_group_50 - 59 Years', 'age_group_60 - 69 Years',\n",
      "       'age_group_70 - 79 Years', 'age_group_80+ Years', 'hosp_yn_OTH',\n",
      "       'hosp_yn_Unknown', 'hosp_yn_Yes', 'icu_yn_Unknown', 'icu_yn_Yes',\n",
      "       'medcond_yn_Unknown', 'medcond_yn_Yes'],\n",
      "      dtype='object')\n",
      "\n",
      "Coeficients are: \n",
      " [-1.04604561 -1.05712821 -0.99004795 -0.50863459 -0.17212119  1.14050924\n",
      "  2.10298886  3.01948162 -0.07881543  0.79416473  2.74681589  1.27490029\n",
      "  1.98811877  0.09579056  0.79568424]\n",
      "\n",
      "Intercept is: \n",
      " [-6.5881802]\n",
      "\n",
      "Features and coeficients: \n",
      " [('age_group_10 - 19 Years', -1.046045612494519), ('age_group_20 - 29 Years', -1.0571282072938972), ('age_group_30 - 39 Years', -0.990047952940407), ('age_group_40 - 49 Years', -0.5086345859827749), ('age_group_50 - 59 Years', -0.17212118565469411), ('age_group_60 - 69 Years', 1.140509238549349), ('age_group_70 - 79 Years', 2.1029888637970218), ('age_group_80+ Years', 3.0194816195423004), ('hosp_yn_OTH', -0.07881542972375989), ('hosp_yn_Unknown', 0.7941647309333247), ('hosp_yn_Yes', 2.7468158856948515), ('icu_yn_Unknown', 1.2749002887985386), ('icu_yn_Yes', 1.9881187746685223), ('medcond_yn_Unknown', 0.09579055823021977), ('medcond_yn_Yes', 0.79568423909404)]\n"
     ]
    }
   ],
   "source": [
    "# Print the weights learned for each feature.\n",
    "print(\"\\nFeatures are: \\n\", X_train.columns)\n",
    "print(\"\\nCoeficients are: \\n\", multiple_logisticreg.coef_[0])\n",
    "print(\"\\nIntercept is: \\n\", multiple_logisticreg.intercept_)\n",
    "print(\"\\nFeatures and coeficients: \\n\", list(zip(X_train.columns, multiple_logisticreg.coef_[0])))"
   ]
  },
  {
   "cell_type": "markdown",
   "metadata": {},
   "source": [
    "#### 3.3 Interpreting the results \n",
    "\n",
    "Before we discuss the results of the coefficients above, we will firstly introduce logistic regression.\n",
    "\n",
    "- Similar to linear regression, with logistic regression, we find the line of best fit.\n",
    "- Logistic regression is the appropriate regression analysis to conduct when the dependent variable is dichotomous (binary). \n",
    "- However, we have seen above that the output of linear regression in a continious value and is not a probability. Instead, we manually thresholded the value in order to convert it into a binary classification.\n",
    "- The probability is between 0 and 1.\n",
    "We will briefly describe the the steps involved in the function:\n",
    "    - The line of best fit is found.\n",
    "    - The equation of the line is passed through a function called the sigmoid function.\n",
    "    - The sigmoid function outputs a probability between 0 and 1.\n",
    "    - The model then applies a threshold to the probability. By default, values < 0.5 are cast to 0 and values >= 0.5 are cast to 1.\n",
    "    \n",
    "The logistic regression function is a little different than the linear regression function. The model estimated in logistic regression is given by the logistic function: \n",
    "\n",
    "<br>\n",
    "$probability(target=1|descriptive\\_features)=logistic(w_0 + w_1 * feature_1 + w_2*feature_2 + ...+ w_n*feature_n)$ <br>\n",
    "where $logistic(x)$ is defined as: $logistic(x) = \\frac{e ^ x}{1 + e ^ x} = \\frac{1}{1+e^{-x}}$\n",
    "\n",
    "\n",
    "\n",
    "<b>Discussing the coefficients learned by the model</b>\n",
    "- We can see above that the intercept is -6.588 (this is w_0 is the above formula). This is the value of y when x is zero. In other words it is where the model intercepts the x axis.\n",
    "- If all other coefficients were zero, the model result would be -6.588.\n",
    "- This is the input to the logistic function and the logistic function will then calculate the probability and threshold based on this.\n",
    "- We can see the coefficients for each feature above. They are zipped together in a single list for ease of visualisation and interpretation.\n",
    "- The value of each dummy is in relation to the reference value for that feature.\n",
    "- The effect of each of these coefficients is the same as for linear regression.\n",
    "\n",
    "<b>Benefits of Logistic Regression</b>\n",
    "- We mentioned above that linear regression is sensitive to outliers. Logistic regression on the other hand is good at dealing with outliers.\n",
    "- Logistic regression is less inclined to over-fitting but it can overfit in high dimensional datasets.\n",
    "\n",
    "<b>Negatives of Logistic Regression</b>\n",
    "- The major disadvantage of Logistic Regression is the assumption of linearity between the dependent variable and the independent variables.\n",
    "- It can only be used to predict discrete functions. Hence, the dependent variable of Logistic Regression is bound to the discrete number set.\n",
    "\n",
    "- The image below highlights our point about the minimal effect outliers can have on logistic regression model. \n",
    "\n",
    "<img src=\"LogisticRegression.png\"> <br>\n"
   ]
  },
  {
   "cell_type": "markdown",
   "metadata": {},
   "source": [
    "#### 3.4 Printing 100 predicted target features and evaluate the prediction\n",
    "- Here we will print the predicted target feature value for the first 100 training examples based on training data"
   ]
  },
  {
   "cell_type": "code",
   "execution_count": 98,
   "metadata": {
    "scrolled": true
   },
   "outputs": [
    {
     "name": "stdout",
     "output_type": "stream",
     "text": [
      "\n",
      "Predictions with multiple linear regression: \n",
      "\n",
      "    death_yn_1  Predicted\n",
      "0            0          0\n",
      "1            0          0\n",
      "2            0          0\n",
      "3            0          0\n",
      "4            0          0\n",
      "..         ...        ...\n",
      "95           0          0\n",
      "96           0          0\n",
      "97           0          0\n",
      "98           0          0\n",
      "99           0          0\n",
      "\n",
      "[100 rows x 2 columns]\n"
     ]
    }
   ],
   "source": [
    "# calculate the prediction and threshold the value. If >= 0.5 its true\n",
    "multiple_logisticreg_predictions_train = multiple_logisticreg.predict(X_train)\n",
    "\n",
    "print(\"\\nPredictions with multiple linear regression: \\n\")\n",
    "actual_vs_predicted_multiplelogisticreg = pd.concat([y_train, pd.DataFrame(multiple_logisticreg_predictions_train, columns=['Predicted'])], axis=1)\n",
    "print(actual_vs_predicted_multiplelogisticreg.head(100))"
   ]
  },
  {
   "cell_type": "markdown",
   "metadata": {},
   "source": [
    "#### 3.5 Evaluation metrics based on training data\n",
    "- We will print the classification evaluation measures computed on the training set (e.g. Accuracy, Confusion matrix, Precision, Recall, F1)\n",
    "- We will discuss finding based on these measures"
   ]
  },
  {
   "cell_type": "code",
   "execution_count": 99,
   "metadata": {},
   "outputs": [
    {
     "name": "stdout",
     "output_type": "stream",
     "text": [
      "==================== Train Data =======================\n",
      "Accuracy:  0.970244113823487\n",
      "Confusion matrix: \n",
      " [[6657   42]\n",
      " [ 164   60]]\n",
      "Classification report:\n",
      "                precision    recall  f1-score   support\n",
      "\n",
      "           0       0.98      0.99      0.98      6699\n",
      "           1       0.59      0.27      0.37       224\n",
      "\n",
      "    accuracy                           0.97      6923\n",
      "   macro avg       0.78      0.63      0.68      6923\n",
      "weighted avg       0.96      0.97      0.96      6923\n",
      "\n",
      "======================================================\n"
     ]
    }
   ],
   "source": [
    "# Some more evaluation metrics.\n",
    "print(\"==================== Train Data =======================\")\n",
    "print(\"Accuracy: \", metrics.accuracy_score(y_train, multiple_logisticreg_predictions_train))\n",
    "print(\"Confusion matrix: \\n\", metrics.confusion_matrix(y_train, multiple_logisticreg_predictions_train))\n",
    "print(\"Classification report:\\n \", metrics.classification_report(y_train, multiple_logisticreg_predictions_train))\n",
    "print(\"======================================================\")"
   ]
  },
  {
   "cell_type": "markdown",
   "metadata": {},
   "source": [
    "Interpretation of results\n",
    "- Accuracy\n",
    "    - We have an accuracy of 97%\n",
    "    \n",
    "- Confusion Matrix\n",
    "    - [0][0] TRUE NEGATIVE - The number predicted 0 that was actually 0\n",
    "    - [0][1] FALSE POSITIVE - The number predicted 1 that is actually 0\n",
    "    - [1][0] FALSE NEGATIVE - The number predicted 0 that is actually 1\n",
    "    - [1][1] TRUE POSITIVE - The number predicted 1 that is actually 1\n",
    "    - We can see 164 false negatives from our confusion matrix. In real-world terms, this means we predicted 164 to live, where they actually died. This is quite high and is perhaps the most significant number in this confusion matrix.\n",
    "    - In addition to this, the misclassificaiton rate is approximately 1.5% ((False Positive + False Negative/Total) * 100)\n",
    "    - The prevalence (How often does the yes condition actually occur) is  3.2% ((Actual Yes/ Total) * 100)\n",
    "- Precision - How good model is a prediction the positive class\n",
    "    - What % of the predicted positive are actually positive\n",
    "    - It is the number values correctly predicted positive over the total number of  positive values\n",
    "    - In other words, it is true positives/(true positives + false negatives).\n",
    "    - Precision Positive is 0.59\n",
    "    - Precision Negative is 0.98\n",
    "- Recall - What % of the positive values did we predict\n",
    "    - What % of the positive values did we predict\n",
    "    - This relates to the the number of values which were correctly predicted positive over the total number of positive predictions that could have been made.\n",
    "    - In other words, it is true positives/(true positives + false negatives).\n",
    "    - Recall Positive is 0.27\n",
    "    - Recall Negative is 0.99\n",
    "- F1 Score - Is an a weighted average of Precision and recall\n",
    "    - Is an a weighted average of Precision and recall\n",
    "    - F1 Score Positive is 0.37\n",
    "    - F1 Score Negative is 0.98\n",
    "\n",
    "\n",
    "Summary\n",
    "- All results are higher than those achieved for linear regression on the training set above.\n",
    "- Recall and f1 scores are still slightly too low but this is understandable due to the imbalanced nature of our dataset. Despite this, it is still way better than linear's positive recall score of 0.07.\n",
    "- The logistic model is also a little better at predicting the negative class.\n",
    "- The down side being that if we try to make an assessment on the liklihood of death being yes, the model will not make a great prediction based off of the low recall score.\n"
   ]
  },
  {
   "cell_type": "markdown",
   "metadata": {},
   "source": [
    "#### 3.6 Evaluate the model using the hold-out (30% examples) test set\n",
    "- These results from the test data will be compared the results from the training data.\n",
    "- In addition they will be compared to the results from a cross-validated model (i.e., a new model trained and evaluated using cross-validation on the full dataset)."
   ]
  },
  {
   "cell_type": "markdown",
   "metadata": {},
   "source": [
    "Printing Actual Death_yn vs predicted based on test data"
   ]
  },
  {
   "cell_type": "code",
   "execution_count": 100,
   "metadata": {},
   "outputs": [
    {
     "name": "stdout",
     "output_type": "stream",
     "text": [
      "\n",
      "Predictions with multiple linear regression: \n",
      "\n",
      "    death_yn_1  Predicted\n",
      "0            0          0\n",
      "1            0          0\n",
      "2            0          0\n",
      "3            0          0\n",
      "4            0          0\n",
      "5            0          0\n",
      "6            0          0\n",
      "7            0          0\n",
      "8            0          0\n",
      "9            0          1\n",
      "10           0          0\n",
      "11           0          0\n",
      "12           0          0\n",
      "13           0          0\n",
      "14           0          0\n",
      "15           0          0\n",
      "16           0          0\n",
      "17           0          0\n",
      "18           0          0\n",
      "19           0          0\n"
     ]
    }
   ],
   "source": [
    "# calculate the prediction and threshold the value. If >= 0.5 its true\n",
    "multiple_logisticreg_predictions_test = multiple_logisticreg.predict(X_test)\n",
    "\n",
    "print(\"\\nPredictions with multiple linear regression: \\n\")\n",
    "actual_vs_predicted_multiplelogisticreg = pd.concat([y_test, pd.DataFrame(multiple_logisticreg_predictions_test, columns=['Predicted'])], axis=1)\n",
    "print(actual_vs_predicted_multiplelogisticreg.head(20))"
   ]
  },
  {
   "cell_type": "markdown",
   "metadata": {},
   "source": [
    "Evaluation based on test data"
   ]
  },
  {
   "cell_type": "code",
   "execution_count": 101,
   "metadata": {},
   "outputs": [
    {
     "name": "stdout",
     "output_type": "stream",
     "text": [
      "==================== Test Data =======================\n",
      "Accuracy:  0.9693396226415094\n",
      "Confusion matrix: \n",
      " [[2850   18]\n",
      " [  73   27]]\n",
      "Classification report:\n",
      "                precision    recall  f1-score   support\n",
      "\n",
      "           0       0.98      0.99      0.98      2868\n",
      "           1       0.60      0.27      0.37       100\n",
      "\n",
      "    accuracy                           0.97      2968\n",
      "   macro avg       0.79      0.63      0.68      2968\n",
      "weighted avg       0.96      0.97      0.96      2968\n",
      "\n",
      "==================== Train Data =======================\n",
      "Accuracy:  0.970244113823487\n",
      "Confusion matrix: \n",
      " [[6657   42]\n",
      " [ 164   60]]\n",
      "Classification report:\n",
      "                precision    recall  f1-score   support\n",
      "\n",
      "           0       0.98      0.99      0.98      6699\n",
      "           1       0.59      0.27      0.37       224\n",
      "\n",
      "    accuracy                           0.97      6923\n",
      "   macro avg       0.78      0.63      0.68      6923\n",
      "weighted avg       0.96      0.97      0.96      6923\n",
      "\n",
      "======================================================\n"
     ]
    }
   ],
   "source": [
    "# Some more evaluation metrics.\n",
    "print(\"==================== Test Data =======================\")\n",
    "print(\"Accuracy: \", metrics.accuracy_score(y_test, multiple_logisticreg_predictions_test))\n",
    "print(\"Confusion matrix: \\n\", metrics.confusion_matrix(y_test, multiple_logisticreg_predictions_test))\n",
    "print(\"Classification report:\\n \", metrics.classification_report(y_test, multiple_logisticreg_predictions_test))\n",
    "print(\"==================== Train Data =======================\")\n",
    "print(\"Accuracy: \", metrics.accuracy_score(y_train, multiple_logisticreg_predictions_train))\n",
    "print(\"Confusion matrix: \\n\", metrics.confusion_matrix(y_train, multiple_logisticreg_predictions_train))\n",
    "print(\"Classification report:\\n \", metrics.classification_report(y_train, multiple_logisticreg_predictions_train))\n",
    "print(\"======================================================\")"
   ]
  },
  {
   "cell_type": "markdown",
   "metadata": {},
   "source": [
    "Interpretation of test results and comparison with training results \n",
    "- Accuracy\n",
    "    - The accuracy of the test data has decreased from 97% to 96.9%. \n",
    "- Precision\n",
    "    - The precision score for predicting the positive case has increased from 59% to 60%.\n",
    "    - The precision score for predicting the negative case has remained the same at 98%.\n",
    "- Recall\n",
    "    - The recall score for predicting the positive case has remained the same at 27%.\n",
    "    - The recall score for predicting the negative case has remained the same at 99%.\n",
    "- F1\n",
    "    - The f1 score for predicting the positive case has remained the same at 37%.\n",
    "    - The f1 score for predicting the negative case has remained the same at 98%.\n",
    "\n",
    "Summary\n",
    "- We are satisfied with these results as we are now testing the predictive model on data that has not been seen before.\n",
    "- The majority of the values have remained the same and those that have changed have only done so by approximately 1%.\n",
    "- These results are good and are a sign that the model is generalising.\n",
    "- We will now investigate further with cross-validation.\n"
   ]
  },
  {
   "cell_type": "markdown",
   "metadata": {},
   "source": [
    "#### 3.7 Cross validation\n",
    "We will first create function to perform 10 fold cross validation and store results into dataframe\n",
    "- This will be used to simplify further analysis the dataset, looking at accuracy, precision, recall, f1."
   ]
  },
  {
   "cell_type": "code",
   "execution_count": 102,
   "metadata": {},
   "outputs": [],
   "source": [
    "def cross_val_LogReg_DF(X,y):\n",
    "    \"\"\"Function to perform cross validation and store results \n",
    "    in dataframe. Cross validation looks at accuracy, precision, \n",
    "    recall, f1. Returns a dataframe with results\"\"\"\n",
    "\n",
    "    logRegResults = {}\n",
    "    # metrics to test against\n",
    "    test_metrics = ['accuracy','precision','recall', 'f1']\n",
    "\n",
    "    for metric in test_metrics:\n",
    "        # generate test results\n",
    "        result = cross_val_score(LogisticRegression(), X, y, scoring=metric, cv=10)\n",
    "        # store result in dict\n",
    "        logRegResults[metric] = result.mean()\n",
    "        \n",
    "    # create dataframe with results\n",
    "    LogRegDF = pd.DataFrame.from_dict(logRegResults, orient='index', columns=['Logistic_Regression'])\n",
    "    \n",
    "    return LogRegDF"
   ]
  },
  {
   "cell_type": "markdown",
   "metadata": {},
   "source": [
    "Preform 10 fold cross validation using cross_val_LogReg_DF function\n",
    "- Results summarised below"
   ]
  },
  {
   "cell_type": "code",
   "execution_count": 103,
   "metadata": {},
   "outputs": [
    {
     "name": "stdout",
     "output_type": "stream",
     "text": [
      "Mean results from 10 fold cross validation are:\n"
     ]
    },
    {
     "data": {
      "text/html": [
       "<div>\n",
       "<style scoped>\n",
       "    .dataframe tbody tr th:only-of-type {\n",
       "        vertical-align: middle;\n",
       "    }\n",
       "\n",
       "    .dataframe tbody tr th {\n",
       "        vertical-align: top;\n",
       "    }\n",
       "\n",
       "    .dataframe thead th {\n",
       "        text-align: right;\n",
       "    }\n",
       "</style>\n",
       "<table border=\"1\" class=\"dataframe\">\n",
       "  <thead>\n",
       "    <tr style=\"text-align: right;\">\n",
       "      <th></th>\n",
       "      <th>Logistic_Regression</th>\n",
       "    </tr>\n",
       "  </thead>\n",
       "  <tbody>\n",
       "    <tr>\n",
       "      <th>accuracy</th>\n",
       "      <td>0.969366</td>\n",
       "    </tr>\n",
       "    <tr>\n",
       "      <th>precision</th>\n",
       "      <td>0.581270</td>\n",
       "    </tr>\n",
       "    <tr>\n",
       "      <th>recall</th>\n",
       "      <td>0.247064</td>\n",
       "    </tr>\n",
       "    <tr>\n",
       "      <th>f1</th>\n",
       "      <td>0.340756</td>\n",
       "    </tr>\n",
       "  </tbody>\n",
       "</table>\n",
       "</div>"
      ],
      "text/plain": [
       "           Logistic_Regression\n",
       "accuracy              0.969366\n",
       "precision             0.581270\n",
       "recall                0.247064\n",
       "f1                    0.340756"
      ]
     },
     "execution_count": 103,
     "metadata": {},
     "output_type": "execute_result"
    }
   ],
   "source": [
    "logRegDF = cross_val_LogReg_DF(X,y)\n",
    "print(f\"Mean results from 10 fold cross validation are:\")\n",
    "logRegDF"
   ]
  },
  {
   "cell_type": "markdown",
   "metadata": {},
   "source": [
    "These results are in line with the previous results. We have taken the mean of 10 sets of results. "
   ]
  },
  {
   "cell_type": "markdown",
   "metadata": {},
   "source": [
    "## 4. Predictive Modeling: Random Forest"
   ]
  },
  {
   "cell_type": "markdown",
   "metadata": {},
   "source": [
    "### 4.1 Train a random forest model using only the descriptive features selected from part 1 above \n",
    "- A random forest model will now be trained on our test data. \n",
    "- We use the RandomForestClassifier() function. \n",
    "- The random state will be set to 1 to allow the results to be repeated. This means that any ties between features will be split in the same way each time we run the code, thus giving us the same tree each time."
   ]
  },
  {
   "cell_type": "code",
   "execution_count": 104,
   "metadata": {},
   "outputs": [
    {
     "data": {
      "text/plain": [
       "RandomForestClassifier(oob_score=True, random_state=1)"
      ]
     },
     "execution_count": 104,
     "metadata": {},
     "output_type": "execute_result"
    }
   ],
   "source": [
    "# Train RF with 100 trees\n",
    "rfc = RandomForestClassifier(n_estimators=100, max_features='auto', oob_score=True, random_state=1)\n",
    "rfc.fit(X_train, y_train)"
   ]
  },
  {
   "cell_type": "markdown",
   "metadata": {},
   "source": [
    "### 4.2 Understanding the Random Forest model\n",
    "\n",
    "- We will now interpret and discuss how the random forest model works. We will begin by explaining how random forests and decision trees work. We will then print examples of decision trees and then interpret the results.\n",
    "- A random forest is an ensemble of decision trees and so we will begin our discussion by explaining a Decision Tree.\n",
    "\n",
    "<b>Decision trees</b>\n",
    "- A decision tree begins with a feature as a node at the top of the tree which splits or branches out into different outcomes. These splits are based on the information gain. By default, Scikit-Learn measures this information gain using the Gini impurity.\n",
    "- Gini Impurity of a node is the probability that a randomly chosen sample in a node would be incorrectly labeled if it was labeled by the distribution of samples within the node.\n",
    "- The feature with the lowest Gini impurity will sit at the root of each decision tree. The tree will then always split on the feature that gives the lowest Gini impurity. In other words, a decision tree tries to form nodes containing a high proportion of samples from a single class. It does this by finding values in the features that cleanly divide the data into classes.\n",
    "- The splitting process is repeated until a stopping criteria is met (such as a maximum depth of the tree or the minimum number of samples in the leaf).\n",
    "- The tree will always split on the feature that gives the highest information gain\n",
    "- The feature with the highest information gain will sit at the root of each decision tree\n",
    "\n",
    "\n",
    "<b>Random Forest</b>\n",
    "- The random forest is made up of a number of decision trees\n",
    "- Random forest uses two important concepts:\n",
    "        - When training, each tree in a random forest learns from a random sample of the data points.\n",
    "        - Only a subset of all the features are considered for splitting each node in each decision tree.\n",
    "- The output of the random forest is then based on the majority output of all combined decision trees.\n",
    "- The random forest will keep track of the importance of features in terms of the information gain described above.\n",
    " \n",
    "We will now look at an example of a single decision tree to get a better understanding"
   ]
  },
  {
   "cell_type": "markdown",
   "metadata": {},
   "source": [
    "####  4.2.1  Train Decision tree\n",
    "We will train 2 decision trees, with the same test data \n",
    "- One with max_depth=4 and the other max_depth=10\n",
    "- Max depth determines how deep a decision tree can go before it must give an answer"
   ]
  },
  {
   "cell_type": "code",
   "execution_count": 105,
   "metadata": {},
   "outputs": [
    {
     "name": "stdout",
     "output_type": "stream",
     "text": [
      "Max depth 4: \n",
      " DecisionTreeClassifier(max_depth=4, random_state=1)\n",
      "Max depth 10: \n",
      " DecisionTreeClassifier(max_depth=10, random_state=1)\n"
     ]
    }
   ],
   "source": [
    "dtc4 = DecisionTreeClassifier(max_depth=4, random_state=1)\n",
    "dtc10 = DecisionTreeClassifier(max_depth=10, random_state=1)\n",
    "dtc4.fit(X_train, y_train)\n",
    "dtc10.fit(X_train, y_train)\n",
    "print(\"Max depth 4: \\n\",dtc4)\n",
    "print(\"Max depth 10: \\n\",dtc10)"
   ]
  },
  {
   "cell_type": "markdown",
   "metadata": {},
   "source": [
    "####  4.2.2  Display Decision tree\n",
    "We will create graph of each tree and store as an image"
   ]
  },
  {
   "cell_type": "code",
   "execution_count": 106,
   "metadata": {},
   "outputs": [],
   "source": [
    "# create a Graphviz png\n",
    "with open(\"DecisionTree4.dot\", 'w') as f1:\n",
    "    f1 = export_graphviz(dtc4, out_file=f1, feature_names=X_train.columns)\n",
    "with open(\"DecisionTree10.dot\", 'w') as f2:\n",
    "    f2 = export_graphviz(dtc10, out_file=f2, feature_names=X_train.columns)\n",
    "!dot -Tpng DecisionTree4.dot -o DecisionTree4.png\n",
    "!dot -Tpng DecisionTree10.dot -o DecisionTree10.png"
   ]
  },
  {
   "cell_type": "markdown",
   "metadata": {},
   "source": [
    "We can see below the decision tree with max_depth=4\n",
    "- We can see the root is hosp_yn at value <=0.5 - This splits the data best i.e. has the highest information gain\n",
    "- For each split the the model selects the next best feature\n",
    "- This continues until it reaches a leaf node where the data cannot be split anymore\n",
    "- The output of this is the prediction\n",
    "- We can see one path below is resolved in 4 branches\n",
    "    - hosp_yn <= 0.5 -> age_group_80+ Years <= 0.5 -> age_group_70-79 Years <= 0.5 -> age_group_60-69 Years <= 0.5 -> Resolved to TRUE\n",
    "    - Note: only 1 entry meets this requirement.\n",
    "    - All other entries need additional branches to be resolved"
   ]
  },
  {
   "cell_type": "markdown",
   "metadata": {},
   "source": [
    "<img src=\"DecisionTree4.png\">"
   ]
  },
  {
   "cell_type": "markdown",
   "metadata": {},
   "source": [
    "Viewing a decision tree with maxdepth=10 shows how complicated this model becomes \n",
    "- This is only one example of a decision tree. \n",
    "- A Random forests has 100 decision trees by default\n",
    "- Each decision tree is given a slightly different view of the data"
   ]
  },
  {
   "cell_type": "markdown",
   "metadata": {},
   "source": [
    "<img src=\"DecisionTree10.png\">"
   ]
  },
  {
   "cell_type": "markdown",
   "metadata": {},
   "source": [
    "#### 4.2.3 Interpretation of the random forest model\n",
    "\n",
    "For simplicity, we will only discuss the decision tree above with max_depth=4:\n",
    "- We can see that the root node is hosp_yn with a gini impurity of 0.063. The Samples is equal to 6923 meaning that there are 6923 observations in this node. The value shows the number of samples in each class. We can see that there are 6699 in class 0 and 224 in class 1.\n",
    "\n",
    "- This feature splits the data best and has the highest information gain. We can see that one path is resolved from this one split alone. In this dataset, this feature is the strongest predictor of the outcome.\n",
    "\n",
    "- This is only one example of a decision tree. The random forest we have trained will be a combination of 100 decision trees.\n",
    "- As mentioned above, the random forest keeps track of the importance of features.\n",
    "- The list of importances are shown below.\n",
    "- The more important features are the features that the random forest has identified as having higher information gain.\n",
    "- The list is the combined result of the 100 decision trees which were used to train the random forest classifier.\n",
    "- This list will give us an idea of which features are the most important to keep as we move forward with our modelling."
   ]
  },
  {
   "cell_type": "code",
   "execution_count": 107,
   "metadata": {},
   "outputs": [
    {
     "data": {
      "text/html": [
       "<div>\n",
       "<style scoped>\n",
       "    .dataframe tbody tr th:only-of-type {\n",
       "        vertical-align: middle;\n",
       "    }\n",
       "\n",
       "    .dataframe tbody tr th {\n",
       "        vertical-align: top;\n",
       "    }\n",
       "\n",
       "    .dataframe thead th {\n",
       "        text-align: right;\n",
       "    }\n",
       "</style>\n",
       "<table border=\"1\" class=\"dataframe\">\n",
       "  <thead>\n",
       "    <tr style=\"text-align: right;\">\n",
       "      <th></th>\n",
       "      <th>feature</th>\n",
       "      <th>importance</th>\n",
       "    </tr>\n",
       "  </thead>\n",
       "  <tbody>\n",
       "    <tr>\n",
       "      <th>10</th>\n",
       "      <td>hosp_yn_Yes</td>\n",
       "      <td>0.338207</td>\n",
       "    </tr>\n",
       "    <tr>\n",
       "      <th>7</th>\n",
       "      <td>age_group_80+ Years</td>\n",
       "      <td>0.235084</td>\n",
       "    </tr>\n",
       "    <tr>\n",
       "      <th>12</th>\n",
       "      <td>icu_yn_Yes</td>\n",
       "      <td>0.098383</td>\n",
       "    </tr>\n",
       "    <tr>\n",
       "      <th>11</th>\n",
       "      <td>icu_yn_Unknown</td>\n",
       "      <td>0.072026</td>\n",
       "    </tr>\n",
       "    <tr>\n",
       "      <th>6</th>\n",
       "      <td>age_group_70 - 79 Years</td>\n",
       "      <td>0.066823</td>\n",
       "    </tr>\n",
       "    <tr>\n",
       "      <th>14</th>\n",
       "      <td>medcond_yn_Yes</td>\n",
       "      <td>0.035662</td>\n",
       "    </tr>\n",
       "    <tr>\n",
       "      <th>13</th>\n",
       "      <td>medcond_yn_Unknown</td>\n",
       "      <td>0.032589</td>\n",
       "    </tr>\n",
       "    <tr>\n",
       "      <th>9</th>\n",
       "      <td>hosp_yn_Unknown</td>\n",
       "      <td>0.026553</td>\n",
       "    </tr>\n",
       "    <tr>\n",
       "      <th>3</th>\n",
       "      <td>age_group_40 - 49 Years</td>\n",
       "      <td>0.025386</td>\n",
       "    </tr>\n",
       "    <tr>\n",
       "      <th>4</th>\n",
       "      <td>age_group_50 - 59 Years</td>\n",
       "      <td>0.022784</td>\n",
       "    </tr>\n",
       "    <tr>\n",
       "      <th>5</th>\n",
       "      <td>age_group_60 - 69 Years</td>\n",
       "      <td>0.016777</td>\n",
       "    </tr>\n",
       "    <tr>\n",
       "      <th>2</th>\n",
       "      <td>age_group_30 - 39 Years</td>\n",
       "      <td>0.012763</td>\n",
       "    </tr>\n",
       "    <tr>\n",
       "      <th>1</th>\n",
       "      <td>age_group_20 - 29 Years</td>\n",
       "      <td>0.011750</td>\n",
       "    </tr>\n",
       "    <tr>\n",
       "      <th>0</th>\n",
       "      <td>age_group_10 - 19 Years</td>\n",
       "      <td>0.005038</td>\n",
       "    </tr>\n",
       "    <tr>\n",
       "      <th>8</th>\n",
       "      <td>hosp_yn_OTH</td>\n",
       "      <td>0.000177</td>\n",
       "    </tr>\n",
       "  </tbody>\n",
       "</table>\n",
       "</div>"
      ],
      "text/plain": [
       "                    feature  importance\n",
       "10              hosp_yn_Yes    0.338207\n",
       "7       age_group_80+ Years    0.235084\n",
       "12               icu_yn_Yes    0.098383\n",
       "11           icu_yn_Unknown    0.072026\n",
       "6   age_group_70 - 79 Years    0.066823\n",
       "14           medcond_yn_Yes    0.035662\n",
       "13       medcond_yn_Unknown    0.032589\n",
       "9           hosp_yn_Unknown    0.026553\n",
       "3   age_group_40 - 49 Years    0.025386\n",
       "4   age_group_50 - 59 Years    0.022784\n",
       "5   age_group_60 - 69 Years    0.016777\n",
       "2   age_group_30 - 39 Years    0.012763\n",
       "1   age_group_20 - 29 Years    0.011750\n",
       "0   age_group_10 - 19 Years    0.005038\n",
       "8               hosp_yn_OTH    0.000177"
      ]
     },
     "execution_count": 107,
     "metadata": {},
     "output_type": "execute_result"
    }
   ],
   "source": [
    "importance = pd.DataFrame({'feature': X_train.columns, 'importance':rfc.feature_importances_})\n",
    "importance.sort_values('importance', ascending=False)"
   ]
  },
  {
   "cell_type": "markdown",
   "metadata": {},
   "source": [
    "We can see from the list above that many of the features provide little to no information gain. It is interesting to note that the categorical features are the worst preforming features "
   ]
  },
  {
   "cell_type": "markdown",
   "metadata": {},
   "source": [
    "### 4.4 Printing 100 predicted target features and evaluate the prediction \n",
    "- Here we will print the predicted target feature value for the first 100 training examples. "
   ]
  },
  {
   "cell_type": "code",
   "execution_count": 108,
   "metadata": {},
   "outputs": [
    {
     "data": {
      "text/html": [
       "<div>\n",
       "<style scoped>\n",
       "    .dataframe tbody tr th:only-of-type {\n",
       "        vertical-align: middle;\n",
       "    }\n",
       "\n",
       "    .dataframe tbody tr th {\n",
       "        vertical-align: top;\n",
       "    }\n",
       "\n",
       "    .dataframe thead th {\n",
       "        text-align: right;\n",
       "    }\n",
       "</style>\n",
       "<table border=\"1\" class=\"dataframe\">\n",
       "  <thead>\n",
       "    <tr style=\"text-align: right;\">\n",
       "      <th></th>\n",
       "      <th>ActualClass</th>\n",
       "      <th>PredictedClass</th>\n",
       "    </tr>\n",
       "  </thead>\n",
       "  <tbody>\n",
       "    <tr>\n",
       "      <th>0</th>\n",
       "      <td>0</td>\n",
       "      <td>0</td>\n",
       "    </tr>\n",
       "    <tr>\n",
       "      <th>1</th>\n",
       "      <td>0</td>\n",
       "      <td>0</td>\n",
       "    </tr>\n",
       "    <tr>\n",
       "      <th>2</th>\n",
       "      <td>0</td>\n",
       "      <td>0</td>\n",
       "    </tr>\n",
       "    <tr>\n",
       "      <th>3</th>\n",
       "      <td>0</td>\n",
       "      <td>0</td>\n",
       "    </tr>\n",
       "    <tr>\n",
       "      <th>4</th>\n",
       "      <td>0</td>\n",
       "      <td>0</td>\n",
       "    </tr>\n",
       "    <tr>\n",
       "      <th>...</th>\n",
       "      <td>...</td>\n",
       "      <td>...</td>\n",
       "    </tr>\n",
       "    <tr>\n",
       "      <th>95</th>\n",
       "      <td>0</td>\n",
       "      <td>0</td>\n",
       "    </tr>\n",
       "    <tr>\n",
       "      <th>96</th>\n",
       "      <td>0</td>\n",
       "      <td>0</td>\n",
       "    </tr>\n",
       "    <tr>\n",
       "      <th>97</th>\n",
       "      <td>0</td>\n",
       "      <td>0</td>\n",
       "    </tr>\n",
       "    <tr>\n",
       "      <th>98</th>\n",
       "      <td>0</td>\n",
       "      <td>0</td>\n",
       "    </tr>\n",
       "    <tr>\n",
       "      <th>99</th>\n",
       "      <td>0</td>\n",
       "      <td>0</td>\n",
       "    </tr>\n",
       "  </tbody>\n",
       "</table>\n",
       "<p>100 rows × 2 columns</p>\n",
       "</div>"
      ],
      "text/plain": [
       "    ActualClass  PredictedClass\n",
       "0             0               0\n",
       "1             0               0\n",
       "2             0               0\n",
       "3             0               0\n",
       "4             0               0\n",
       "..          ...             ...\n",
       "95            0               0\n",
       "96            0               0\n",
       "97            0               0\n",
       "98            0               0\n",
       "99            0               0\n",
       "\n",
       "[100 rows x 2 columns]"
      ]
     },
     "execution_count": 108,
     "metadata": {},
     "output_type": "execute_result"
    }
   ],
   "source": [
    "# Predicted class labels for all examples, \n",
    "# using the trained model, on in-sample data (same sample used for training and test)\n",
    "rfc_predictions_train = rfc.predict(X_train)\n",
    "df_true_vs_rfc_predicted = pd.DataFrame({'ActualClass': y_train, 'PredictedClass': rfc_predictions_train})\n",
    "df_true_vs_rfc_predicted.head(100)"
   ]
  },
  {
   "cell_type": "markdown",
   "metadata": {},
   "source": [
    "### 4.5 Evaluation metrics based on training data\n",
    "- We will print the classification evaluation measures computed on the training set (e.g. Accuracy, Confusion matrix, Precision, Recall, F1)\n",
    "- We will discuss finding based on these measures"
   ]
  },
  {
   "cell_type": "code",
   "execution_count": 109,
   "metadata": {},
   "outputs": [
    {
     "name": "stdout",
     "output_type": "stream",
     "text": [
      "==================== Train Data =======================\n",
      "Accuracy:  0.9716885743174924\n",
      "Confusion matrix: \n",
      " [[6677   22]\n",
      " [ 174   50]]\n",
      "Classification report:\n",
      "                precision    recall  f1-score   support\n",
      "\n",
      "           0       0.97      1.00      0.99      6699\n",
      "           1       0.69      0.22      0.34       224\n",
      "\n",
      "    accuracy                           0.97      6923\n",
      "   macro avg       0.83      0.61      0.66      6923\n",
      "weighted avg       0.97      0.97      0.96      6923\n",
      "\n"
     ]
    }
   ],
   "source": [
    "print(\"==================== Train Data =======================\")\n",
    "print(\"Accuracy: \", metrics.accuracy_score(y_train, rfc_predictions_train))\n",
    "print(\"Confusion matrix: \\n\", metrics.confusion_matrix(y_train, rfc_predictions_train))\n",
    "print(\"Classification report:\\n \", metrics.classification_report(y_train, rfc_predictions_train))"
   ]
  },
  {
   "cell_type": "markdown",
   "metadata": {},
   "source": [
    "<b>Interpretation of results</b>\n",
    "\n",
    "- Accuracy\n",
    "    - We have an accuracy of 97%\n",
    "    \n",
    "- Confusion Matrix\n",
    "    - [0][0] TRUE NEGATIVE - The number predicted 0 that was actually 0\n",
    "    - [0][1] FALSE POSITIVE - The number predicted 1 that is actually 0\n",
    "    - [1][0] FALSE NEGATIVE - The number predicted 0 that is actually 1\n",
    "    - [1][1] TRUE POSITIVE - The number predicted 1 that is actually 1\n",
    "    - We can see <b>174 false negatives</b> from our confusion matrix. In real-world terms, this means we predicted 174 to live, where they actually died. This is quite high and is perhaps the most significant number in this confusion matrix.\n",
    "    - In addition to this, the misclassificaiton rate is approximately 2.8% ((False Positive + False Negative/Total) * 100)\n",
    "    - The prevalence (How often does the yes condition actually occur) is  3.2% ((Actual Yes/ Total) * 100)\n",
    "- Precision - How good model is a prediction the positive class\n",
    "    - What % of the predicted positive are actually positive\n",
    "    - It is the number values correctly predicted positive over the total number of  positive values\n",
    "    - In other words, it is true positives/(true positives + false negatives).\n",
    "    - Precision Positive is 0.69\n",
    "    - Precision Negative is 0.97\n",
    "- Recall - What % of the positive values did we predict\n",
    "    - What % of the positive values did we predict\n",
    "    - This relates to the the number of values which were correctly predicted positive over the total number of positive predictions that could have been made.\n",
    "    - In other words, it is true positives/(true positives + false negatives).\n",
    "    - Recall Positive is 0.22\n",
    "    - Recall Negative is 1.00\n",
    "- F1 Score - Is an a weighted average of Precision and recall\n",
    "    - Is an a weighted average of Precision and recall\n",
    "    - F1 Score Positive is 0.34\n",
    "    - F1 Score Negative is 0.99\n",
    "\n",
    "Summary\n",
    "- Given the results we achieved for linear and logistic regression, these results show a large improvement in nearly all scores.\n",
    "- Recall and f1 scores are still slightly too low but this is understandable due to the imbalanced nature of our dataset. Despite this, it is still way better than linear's positive recall score of 0.07.\n",
    "- However, we must evaluate these results on test data in order to see how the model is generalising. Given how high these scores are, there is a risk that the model is overfitting which occurs when a model trains very well but does not generalise well to a new dataset.\n"
   ]
  },
  {
   "cell_type": "markdown",
   "metadata": {},
   "source": [
    "### 4.6 Evaluate the model using the hold-out (30% examples) test set\n",
    "- These results from the test data will be compared the results from the training data.\n",
    "- In addition they will be compared to the results from a cross-validated model (i.e., a new model trained and evaluated using cross-validation on the full dataset)."
   ]
  },
  {
   "cell_type": "markdown",
   "metadata": {},
   "source": [
    "Printing Actual death_yn vs predicted based on test data"
   ]
  },
  {
   "cell_type": "code",
   "execution_count": 110,
   "metadata": {},
   "outputs": [
    {
     "data": {
      "text/html": [
       "<div>\n",
       "<style scoped>\n",
       "    .dataframe tbody tr th:only-of-type {\n",
       "        vertical-align: middle;\n",
       "    }\n",
       "\n",
       "    .dataframe tbody tr th {\n",
       "        vertical-align: top;\n",
       "    }\n",
       "\n",
       "    .dataframe thead th {\n",
       "        text-align: right;\n",
       "    }\n",
       "</style>\n",
       "<table border=\"1\" class=\"dataframe\">\n",
       "  <thead>\n",
       "    <tr style=\"text-align: right;\">\n",
       "      <th></th>\n",
       "      <th>ActualClass</th>\n",
       "      <th>PredictedClass</th>\n",
       "    </tr>\n",
       "  </thead>\n",
       "  <tbody>\n",
       "    <tr>\n",
       "      <th>0</th>\n",
       "      <td>0</td>\n",
       "      <td>0</td>\n",
       "    </tr>\n",
       "    <tr>\n",
       "      <th>1</th>\n",
       "      <td>0</td>\n",
       "      <td>0</td>\n",
       "    </tr>\n",
       "    <tr>\n",
       "      <th>2</th>\n",
       "      <td>0</td>\n",
       "      <td>0</td>\n",
       "    </tr>\n",
       "    <tr>\n",
       "      <th>3</th>\n",
       "      <td>0</td>\n",
       "      <td>0</td>\n",
       "    </tr>\n",
       "    <tr>\n",
       "      <th>4</th>\n",
       "      <td>0</td>\n",
       "      <td>0</td>\n",
       "    </tr>\n",
       "    <tr>\n",
       "      <th>5</th>\n",
       "      <td>0</td>\n",
       "      <td>0</td>\n",
       "    </tr>\n",
       "    <tr>\n",
       "      <th>6</th>\n",
       "      <td>0</td>\n",
       "      <td>0</td>\n",
       "    </tr>\n",
       "    <tr>\n",
       "      <th>7</th>\n",
       "      <td>0</td>\n",
       "      <td>0</td>\n",
       "    </tr>\n",
       "    <tr>\n",
       "      <th>8</th>\n",
       "      <td>0</td>\n",
       "      <td>0</td>\n",
       "    </tr>\n",
       "    <tr>\n",
       "      <th>9</th>\n",
       "      <td>0</td>\n",
       "      <td>1</td>\n",
       "    </tr>\n",
       "    <tr>\n",
       "      <th>10</th>\n",
       "      <td>0</td>\n",
       "      <td>0</td>\n",
       "    </tr>\n",
       "    <tr>\n",
       "      <th>11</th>\n",
       "      <td>0</td>\n",
       "      <td>0</td>\n",
       "    </tr>\n",
       "    <tr>\n",
       "      <th>12</th>\n",
       "      <td>0</td>\n",
       "      <td>0</td>\n",
       "    </tr>\n",
       "    <tr>\n",
       "      <th>13</th>\n",
       "      <td>0</td>\n",
       "      <td>0</td>\n",
       "    </tr>\n",
       "    <tr>\n",
       "      <th>14</th>\n",
       "      <td>0</td>\n",
       "      <td>0</td>\n",
       "    </tr>\n",
       "    <tr>\n",
       "      <th>15</th>\n",
       "      <td>0</td>\n",
       "      <td>0</td>\n",
       "    </tr>\n",
       "    <tr>\n",
       "      <th>16</th>\n",
       "      <td>0</td>\n",
       "      <td>0</td>\n",
       "    </tr>\n",
       "    <tr>\n",
       "      <th>17</th>\n",
       "      <td>0</td>\n",
       "      <td>0</td>\n",
       "    </tr>\n",
       "    <tr>\n",
       "      <th>18</th>\n",
       "      <td>0</td>\n",
       "      <td>0</td>\n",
       "    </tr>\n",
       "    <tr>\n",
       "      <th>19</th>\n",
       "      <td>0</td>\n",
       "      <td>0</td>\n",
       "    </tr>\n",
       "  </tbody>\n",
       "</table>\n",
       "</div>"
      ],
      "text/plain": [
       "    ActualClass  PredictedClass\n",
       "0             0               0\n",
       "1             0               0\n",
       "2             0               0\n",
       "3             0               0\n",
       "4             0               0\n",
       "5             0               0\n",
       "6             0               0\n",
       "7             0               0\n",
       "8             0               0\n",
       "9             0               1\n",
       "10            0               0\n",
       "11            0               0\n",
       "12            0               0\n",
       "13            0               0\n",
       "14            0               0\n",
       "15            0               0\n",
       "16            0               0\n",
       "17            0               0\n",
       "18            0               0\n",
       "19            0               0"
      ]
     },
     "execution_count": 110,
     "metadata": {},
     "output_type": "execute_result"
    }
   ],
   "source": [
    "# Predicted class labels for all examples, \n",
    "# using the trained model, on in-sample data (same sample used for training and test)\n",
    "rfc_predictions_test = rfc.predict(X_test)\n",
    "df_true_vs_rfc_predicted_test = pd.DataFrame({'ActualClass': y_test, 'PredictedClass': rfc_predictions_test})\n",
    "df_true_vs_rfc_predicted_test.head(20)"
   ]
  },
  {
   "cell_type": "markdown",
   "metadata": {},
   "source": [
    "Evaluation metrics based on test data"
   ]
  },
  {
   "cell_type": "code",
   "execution_count": 111,
   "metadata": {},
   "outputs": [
    {
     "name": "stdout",
     "output_type": "stream",
     "text": [
      "==================== Test Data =======================\n",
      "Accuracy:  0.9639487870619946\n",
      "Confusion matrix: \n",
      " [[2847   21]\n",
      " [  86   14]]\n",
      "Classification report:\n",
      "                precision    recall  f1-score   support\n",
      "\n",
      "           0       0.97      0.99      0.98      2868\n",
      "           1       0.40      0.14      0.21       100\n",
      "\n",
      "    accuracy                           0.96      2968\n",
      "   macro avg       0.69      0.57      0.59      2968\n",
      "weighted avg       0.95      0.96      0.96      2968\n",
      "\n",
      "==================== Train Data =======================\n",
      "Accuracy:  0.9716885743174924\n",
      "Confusion matrix: \n",
      " [[6677   22]\n",
      " [ 174   50]]\n",
      "Classification report:\n",
      "                precision    recall  f1-score   support\n",
      "\n",
      "           0       0.97      1.00      0.99      6699\n",
      "           1       0.69      0.22      0.34       224\n",
      "\n",
      "    accuracy                           0.97      6923\n",
      "   macro avg       0.83      0.61      0.66      6923\n",
      "weighted avg       0.97      0.97      0.96      6923\n",
      "\n",
      "======================================================\n"
     ]
    }
   ],
   "source": [
    "print(\"==================== Test Data =======================\")\n",
    "print(\"Accuracy: \", metrics.accuracy_score(y_test, rfc_predictions_test))\n",
    "print(\"Confusion matrix: \\n\", metrics.confusion_matrix(y_test, rfc_predictions_test))\n",
    "print(\"Classification report:\\n \", metrics.classification_report(y_test, rfc_predictions_test))\n",
    "print(\"==================== Train Data =======================\")\n",
    "print(\"Accuracy: \", metrics.accuracy_score(y_train, rfc_predictions_train))\n",
    "print(\"Confusion matrix: \\n\", metrics.confusion_matrix(y_train, rfc_predictions_train))\n",
    "print(\"Classification report:\\n \", metrics.classification_report(y_train, rfc_predictions_train))\n",
    "print(\"======================================================\")"
   ]
  },
  {
   "cell_type": "markdown",
   "metadata": {},
   "source": [
    "Interpretation of test results and comparison with training results \n",
    "- The accuracy for the test is much lower as we are not testing the model with data it has not see before\n",
    "- The scores seem reasonable and are in line with the other models test results"
   ]
  },
  {
   "cell_type": "markdown",
   "metadata": {},
   "source": [
    "Interpretation of test results and comparison with training results \n",
    "- Accuracy\n",
    "    - The accuracy of the test data has decreased from 97% to 96.4%. \n",
    "- Precision\n",
    "    - The precision score for predicting the positive case decreased from 69% to 40%.\n",
    "    - The precision score for predicting the negative case has remained the same at 97%.\n",
    "- Recall\n",
    "    - The recall score for predicting the positive case has decreased from 22% to 14%.\n",
    "    - The recall score for predicting the negative case has decreased from 100% to 99%.\n",
    "- F1\n",
    "    - The f1 score for predicting the positive case has decreased from 34% to 21%.\n",
    "    - The f1 score for predicting the negative case has decreased from 99% to 98%.\n",
    "\n",
    "Summary\n",
    "- The accuracy for the test data is still high at 96.4%. However, most other scores have dropped considerably in comparison to the training data, in particular recall positive and f1 positive.\n",
    "- The results of test data are still reasonable considering that we are testing on data the model has not seen before. Most of the scores are in line or better than what we seen on test data for linear and logistic regression.\n",
    "- However, we were hoping for slightly higher scores given how high the training scores were. We will now perform cross-validation in order to further test the random forest model."
   ]
  },
  {
   "cell_type": "markdown",
   "metadata": {},
   "source": [
    "### 4.7 Cross validation\n",
    "- We will preform cross validation and store the results in a dictionary for later use"
   ]
  },
  {
   "cell_type": "code",
   "execution_count": 112,
   "metadata": {},
   "outputs": [],
   "source": [
    "def cross_val_RandomForest_DF(X,y, depth=None, estimators=100):\n",
    "    \"\"\"Function to perform cross validation and store results \n",
    "    in dataframe. Cross validation looks at accuracy, precision, \n",
    "    recall, f1. Returns a dataframe with results\"\"\"\n",
    "\n",
    "    # store results in dict\n",
    "    RandomForestResults = {}\n",
    "    # metrics to test against\n",
    "    test_metrics = ['accuracy','precision','recall', 'f1']\n",
    "\n",
    "    for metric in test_metrics:\n",
    "        # generate test results\n",
    "        result = cross_val_score(RandomForestClassifier(n_estimators=estimators, max_features='auto', oob_score=True, random_state=1, max_depth=depth), X, y, scoring=metric, cv=10)\n",
    "        # store result in dict\n",
    "        RandomForestResults[metric] = result.mean()\n",
    "    \n",
    "    # create dataframe with results\n",
    "    RandomForestDF = pd.DataFrame.from_dict(RandomForestResults, orient='index', columns=['Random_Forests'])\n",
    "\n",
    "    return RandomForestDF"
   ]
  },
  {
   "cell_type": "markdown",
   "metadata": {},
   "source": [
    "##### The results for Random Forests are summarized below"
   ]
  },
  {
   "cell_type": "code",
   "execution_count": 113,
   "metadata": {},
   "outputs": [
    {
     "name": "stdout",
     "output_type": "stream",
     "text": [
      "Mean results from 10 fold cross validation are:\n"
     ]
    },
    {
     "data": {
      "text/html": [
       "<div>\n",
       "<style scoped>\n",
       "    .dataframe tbody tr th:only-of-type {\n",
       "        vertical-align: middle;\n",
       "    }\n",
       "\n",
       "    .dataframe tbody tr th {\n",
       "        vertical-align: top;\n",
       "    }\n",
       "\n",
       "    .dataframe thead th {\n",
       "        text-align: right;\n",
       "    }\n",
       "</style>\n",
       "<table border=\"1\" class=\"dataframe\">\n",
       "  <thead>\n",
       "    <tr style=\"text-align: right;\">\n",
       "      <th></th>\n",
       "      <th>Random_Forests</th>\n",
       "    </tr>\n",
       "  </thead>\n",
       "  <tbody>\n",
       "    <tr>\n",
       "      <th>accuracy</th>\n",
       "      <td>0.968658</td>\n",
       "    </tr>\n",
       "    <tr>\n",
       "      <th>precision</th>\n",
       "      <td>0.552775</td>\n",
       "    </tr>\n",
       "    <tr>\n",
       "      <th>recall</th>\n",
       "      <td>0.262121</td>\n",
       "    </tr>\n",
       "    <tr>\n",
       "      <th>f1</th>\n",
       "      <td>0.349161</td>\n",
       "    </tr>\n",
       "  </tbody>\n",
       "</table>\n",
       "</div>"
      ],
      "text/plain": [
       "           Random_Forests\n",
       "accuracy         0.968658\n",
       "precision        0.552775\n",
       "recall           0.262121\n",
       "f1               0.349161"
      ]
     },
     "execution_count": 113,
     "metadata": {},
     "output_type": "execute_result"
    }
   ],
   "source": [
    "RandomForestDF = cross_val_RandomForest_DF(X,y)\n",
    "print(f\"Mean results from 10 fold cross validation are:\")\n",
    "RandomForestDF"
   ]
  },
  {
   "cell_type": "markdown",
   "metadata": {},
   "source": [
    "The results above are inline with expectation\n",
    "- The accuracy is approximately the same at 96.9%\n",
    "- The precision has slightly decreased, from 69% to 55%.\n",
    "- The positive recall has increased from 22% to 26%\n",
    "- The f1 score is approximately the same"
   ]
  },
  {
   "cell_type": "markdown",
   "metadata": {},
   "source": [
    "### 4.8 Out of bag accuracy\n",
    "- This is the out of bag error estimate \n",
    "- It is an internal error estimate of a random forest as it is being constructed.\n",
    "- It is used as an additional measure and should be line with the cross validation results\n",
    "- This is generally expected to be the lowest"
   ]
  },
  {
   "cell_type": "code",
   "execution_count": 114,
   "metadata": {},
   "outputs": [
    {
     "data": {
      "text/plain": [
       "0.9674996388848764"
      ]
     },
     "execution_count": 114,
     "metadata": {},
     "output_type": "execute_result"
    }
   ],
   "source": [
    "# compute the out-of-bag classification accuracy\n",
    "rfc.oob_score_"
   ]
  },
  {
   "cell_type": "markdown",
   "metadata": {},
   "source": [
    "This value is in line with the Cross validation results above. This is good news for our model."
   ]
  },
  {
   "cell_type": "markdown",
   "metadata": {},
   "source": [
    "## 5. Improving Predictive Models"
   ]
  },
  {
   "cell_type": "markdown",
   "metadata": {},
   "source": [
    "### 5.1 Which model of the ones trained above performs better at predicting the target feature? "
   ]
  },
  {
   "cell_type": "markdown",
   "metadata": {},
   "source": [
    "- In the cell below we will display a summary of the cross-validation results of all three models. We will then discuss the findings below the output of the concatenation.\n",
    "- A reminder that the results here are for predicting the positive class (binary_outcome = 1)"
   ]
  },
  {
   "cell_type": "code",
   "execution_count": 115,
   "metadata": {},
   "outputs": [
    {
     "data": {
      "text/html": [
       "<div>\n",
       "<style scoped>\n",
       "    .dataframe tbody tr th:only-of-type {\n",
       "        vertical-align: middle;\n",
       "    }\n",
       "\n",
       "    .dataframe tbody tr th {\n",
       "        vertical-align: top;\n",
       "    }\n",
       "\n",
       "    .dataframe thead th {\n",
       "        text-align: right;\n",
       "    }\n",
       "</style>\n",
       "<table border=\"1\" class=\"dataframe\">\n",
       "  <thead>\n",
       "    <tr style=\"text-align: right;\">\n",
       "      <th></th>\n",
       "      <th>Linear_Regression</th>\n",
       "      <th>Logistic_Regression</th>\n",
       "      <th>Random_Forests</th>\n",
       "    </tr>\n",
       "  </thead>\n",
       "  <tbody>\n",
       "    <tr>\n",
       "      <th>accuracy</th>\n",
       "      <td>0.966846</td>\n",
       "      <td>0.969366</td>\n",
       "      <td>0.968658</td>\n",
       "    </tr>\n",
       "    <tr>\n",
       "      <th>precision</th>\n",
       "      <td>0.450612</td>\n",
       "      <td>0.581270</td>\n",
       "      <td>0.552775</td>\n",
       "    </tr>\n",
       "    <tr>\n",
       "      <th>recall</th>\n",
       "      <td>0.042582</td>\n",
       "      <td>0.247064</td>\n",
       "      <td>0.262121</td>\n",
       "    </tr>\n",
       "    <tr>\n",
       "      <th>f1</th>\n",
       "      <td>0.077026</td>\n",
       "      <td>0.340756</td>\n",
       "      <td>0.349161</td>\n",
       "    </tr>\n",
       "  </tbody>\n",
       "</table>\n",
       "</div>"
      ],
      "text/plain": [
       "           Linear_Regression  Logistic_Regression  Random_Forests\n",
       "accuracy            0.966846             0.969366        0.968658\n",
       "precision           0.450612             0.581270        0.552775\n",
       "recall              0.042582             0.247064        0.262121\n",
       "f1                  0.077026             0.340756        0.349161"
      ]
     },
     "execution_count": 115,
     "metadata": {},
     "output_type": "execute_result"
    }
   ],
   "source": [
    "ResultsDF = pd.concat([linRegDF, logRegDF, RandomForestDF], axis=1)\n",
    "ResultsDF"
   ]
  },
  {
   "cell_type": "markdown",
   "metadata": {},
   "source": [
    "- There is quite a bit of variation in the values, especially between the recall and f1 scores.\n",
    "- Each of the models have a 96+% level of accuracy.\n",
    "- For precision, Logistic and Random Forest are performing the best with 58% and 55% respectively.\n",
    "- For recall, Logistic and Random Forest are performing the best again, with 24.7% and 26.2% respectively.\n",
    "- For the f1 scores, again, Logistic and Random Forest are performing the best with 34% and 34.9% respectively\n",
    "\n",
    "In conclusion, we determined that the best performing model out of those we have trained is <b>Random Forest</b>.\n",
    "Although it does not have as high a precision score as Logistic Regression, it has the highest recall and f1 and therefore is performing the best at predicting class 1.\n",
    "Logistic Regression is the second best model.\n",
    "Although linear regression has a high accuracy, the recall and f1 scores are lower than the other two models, telling us that it is not as good at predicting class 1."
   ]
  },
  {
   "cell_type": "markdown",
   "metadata": {},
   "source": [
    "### Is the model more accurate than a simple model that always predicts the majority class\n",
    "- We will compare our results above to a simple model which predicts for the majority class\n",
    "- First we will get the breakdown of the test dataset and see which is the majority class"
   ]
  },
  {
   "cell_type": "code",
   "execution_count": 116,
   "metadata": {},
   "outputs": [
    {
     "name": "stdout",
     "output_type": "stream",
     "text": [
      "From original dataset: \t\tCount 2968\n",
      "Total number of deaths:\t 100\t3.37%\n",
      "Total number of no deaths:\t 2868\t96.63%\n"
     ]
    }
   ],
   "source": [
    "good_count = y_test[y_test == 1].count()\n",
    "bad_count = y_test[y_test == 0].count()\n",
    "total = good_count+ bad_count\n",
    "print(f'From original dataset: \\t\\tCount {total}')\n",
    "print(f'Total number of deaths:\\t {good_count}\\t{round(good_count/len(y_test)*100,2)}%')\n",
    "print(f'Total number of no deaths:\\t {bad_count}\\t{round(bad_count/len(y_test)*100,2)}%')"
   ]
  },
  {
   "cell_type": "markdown",
   "metadata": {},
   "source": [
    "- We can see the majority class is 0 or death_yn=No \n",
    "- We will now generate scores for predicting the majority class"
   ]
  },
  {
   "cell_type": "code",
   "execution_count": 117,
   "metadata": {},
   "outputs": [
    {
     "name": "stdout",
     "output_type": "stream",
     "text": [
      "Accuracy:  0.9663072776280324\n",
      "Confusion matrix: \n",
      " [[2868    0]\n",
      " [ 100    0]]\n",
      "Classification report:\n",
      "                precision    recall  f1-score   support\n",
      "\n",
      "           0       0.97      1.00      0.98      2868\n",
      "           1       0.00      0.00      0.00       100\n",
      "\n",
      "    accuracy                           0.97      2968\n",
      "   macro avg       0.48      0.50      0.49      2968\n",
      "weighted avg       0.93      0.97      0.95      2968\n",
      "\n"
     ]
    }
   ],
   "source": [
    "# generate array of 2968 zeros (length of test dataset)\n",
    "majority = np.zeros(2968)\n",
    "# create dataframe \n",
    "df_majorityClass = pd.DataFrame(majority, columns=['prediction'])\n",
    "# calculate scores of simple predictin vs actual\n",
    "print(\"Accuracy: \", metrics.accuracy_score(y_test, df_majorityClass))\n",
    "print(\"Confusion matrix: \\n\", metrics.confusion_matrix(y_test, df_majorityClass))\n",
    "print(\"Classification report:\\n \", metrics.classification_report(y_test, df_majorityClass))"
   ]
  },
  {
   "cell_type": "markdown",
   "metadata": {},
   "source": [
    "- We can see that our majority class is class 0. When we create a simple model which always predicts the majority, the accuracy is 96.63%\n",
    "- Our precision is 97% and as expected, recall is 100% as we have predicted class 0 every time. f1 is 98% as expected, as this is the weighted average of precision and recall. \n",
    "- We have a high accuracy and precision due to the fact that our data is so heavily skewed towards a negative outcome, it creates a lot of false positives.\n",
    "- Despite this, if we compare our scores against our three models for class 0, we can see that all of our model's accuracy still performs better that this model which always predicts the majority.\n",
    "\n",
    " - Our results obtained were as followed:\n",
    " \n",
    " \n",
    "Linear regression:\n",
    "- Accuracy 96.7%\n",
    "\n",
    "Logistic regression:\n",
    "- Accuracy 97%\n",
    "\n",
    "Random Forests:\n",
    "- Accuracy 96.9%\n"
   ]
  },
  {
   "cell_type": "markdown",
   "metadata": {},
   "source": [
    "### 5.2 Summarise your understanding of the problem and of your predictive modeling results so far\n",
    "#### 5.2.1 Summary"
   ]
  },
  {
   "cell_type": "markdown",
   "metadata": {},
   "source": [
    "My understanding of this homework is that we are working towards finding a model which best predicts the binary outcome of our target feature, death in an individual with Covid-19. An outcome of 1 indicates that the individual dies, an outcome of 0 means the individual has lived. Based on this understanding, it is more important for our model to be able to predict the positive class (class 1) than the negative class. \n",
    "\n",
    "A critical point of note from our dataset is that it is heavily imbalanced. There is a much lower representation of class 1 than class 0. This makes it more difficult for us to predict death being \"Yes\". This has been reflected in our extremely low recall positive scores for each of our models. The feature that is most important for us to correctly to predict is also the feature with the last amount of data for us to model, which creates problems for us.\n",
    "\n",
    "We will now discuss each of the metrics we used to evaluate our models off of:\n",
    "\n",
    "<b>Accuracy:</b> This metric is straight forward in that it tells us how often the model is correct. It focusses on both the positive and negative class and so is more suited to a more balanced dataset. We will monitor and observe this metric but it will not be our focus.\n",
    "\n",
    "<b>Precision:</b> This metric illustrates the number of values which were correctly predicted positive over the total number of positive values predicted. This means that the precision takes into account the positive predicitons made that should have been negative. Again, we will monitor this metric but it will not be our main focus.\n",
    "\n",
    "<b>Recall:</b> This metric tells us the number of values which were correctly predicted positive over the total number of positive predictions that could have been made. It takes into account the negative predictions made that should have been positive. This means that this metric is extremely important to us in predicting if an individual who is going to survive. So far, our recall scores for each of our models has not been outstanding due to our models being trained with much more class 0 data. As we proceed with this question, we will be looking to increase our recall scores specifically.\n",
    "\n",
    "<b>f1:</b> This score is a weighted average of precision and recall. As we are looking to try increase our recall score while maintaining our precision scores, we will monitor this score throughout to ensure it does not drop significantly.\n",
    "\n",
    "\n",
    "If this was part of a larger project that includes a team of people, it would be important to have a discussion with the domain expert to ensure we are prioritising the correct metric in our analysis. Without the ability to have this discussion, we will assume that recall is the most important for us to improve our model and we will also ensure that f1 scores do not decrease in order to maintain a balance between precision and recall. We are confident that by focusing on these metrics, we can improve the ability of the models to predict death in an individual with Covid-19.\n"
   ]
  },
  {
   "cell_type": "markdown",
   "metadata": {},
   "source": [
    "#### 5.2.2 New Ideas to improve the best model"
   ]
  },
  {
   "cell_type": "markdown",
   "metadata": {},
   "source": [
    "##### All features\n",
    "- We will now repeat the tests using all features \n",
    "- First we set up the dataframe using the original features"
   ]
  },
  {
   "cell_type": "code",
   "execution_count": 118,
   "metadata": {},
   "outputs": [
    {
     "name": "stdout",
     "output_type": "stream",
     "text": [
      "number of features incl dummies:  31\n"
     ]
    }
   ],
   "source": [
    "# dataframe with all features = original dataframe\n",
    "df_all = pd.get_dummies(df)\n",
    "# set X,y\n",
    "y = df_all[\"death_yn\"]\n",
    "X = df_all.drop([\"death_yn\"],1)\n",
    "print(\"number of features incl dummies: \", len(X.columns))"
   ]
  },
  {
   "cell_type": "markdown",
   "metadata": {},
   "source": [
    "With the dataframe now setup we will generate new set of results based on all the features\n",
    "- This operation is simplified as we have set up functions in part 2,3,4 to allow cross validated scores to be returned in dataframes "
   ]
  },
  {
   "cell_type": "code",
   "execution_count": 119,
   "metadata": {},
   "outputs": [
    {
     "data": {
      "text/plain": [
       "death_yn                                                                        int64\n",
       "current_status_Laboratory-confirmed case                                        uint8\n",
       "current_status_Probable Case                                                    uint8\n",
       "sex_Female                                                                      uint8\n",
       "sex_Male                                                                        uint8\n",
       "age_group_0 - 9 Years                                                           uint8\n",
       "age_group_10 - 19 Years                                                         uint8\n",
       "age_group_20 - 29 Years                                                         uint8\n",
       "age_group_30 - 39 Years                                                         uint8\n",
       "age_group_40 - 49 Years                                                         uint8\n",
       "age_group_50 - 59 Years                                                         uint8\n",
       "age_group_60 - 69 Years                                                         uint8\n",
       "age_group_70 - 79 Years                                                         uint8\n",
       "age_group_80+ Years                                                             uint8\n",
       "race_ethnicity_combined_American Indian/Alaska Native, Non-Hispanic             uint8\n",
       "race_ethnicity_combined_Asian, Non-Hispanic                                     uint8\n",
       "race_ethnicity_combined_Black, Non-Hispanic                                     uint8\n",
       "race_ethnicity_combined_Hispanic/Latino                                         uint8\n",
       "race_ethnicity_combined_Multiple/Other, Non-Hispanic                            uint8\n",
       "race_ethnicity_combined_Native Hawaiian/Other Pacific Islander, Non-Hispanic    uint8\n",
       "race_ethnicity_combined_Unknown                                                 uint8\n",
       "race_ethnicity_combined_White, Non-Hispanic                                     uint8\n",
       "hosp_yn_No                                                                      uint8\n",
       "hosp_yn_OTH                                                                     uint8\n",
       "hosp_yn_Unknown                                                                 uint8\n",
       "hosp_yn_Yes                                                                     uint8\n",
       "icu_yn_No                                                                       uint8\n",
       "icu_yn_Unknown                                                                  uint8\n",
       "icu_yn_Yes                                                                      uint8\n",
       "medcond_yn_No                                                                   uint8\n",
       "medcond_yn_Unknown                                                              uint8\n",
       "medcond_yn_Yes                                                                  uint8\n",
       "dtype: object"
      ]
     },
     "execution_count": 119,
     "metadata": {},
     "output_type": "execute_result"
    }
   ],
   "source": [
    "df_all.dtypes"
   ]
  },
  {
   "cell_type": "code",
   "execution_count": 120,
   "metadata": {},
   "outputs": [
    {
     "data": {
      "text/html": [
       "<div>\n",
       "<style scoped>\n",
       "    .dataframe tbody tr th:only-of-type {\n",
       "        vertical-align: middle;\n",
       "    }\n",
       "\n",
       "    .dataframe tbody tr th {\n",
       "        vertical-align: top;\n",
       "    }\n",
       "\n",
       "    .dataframe thead th {\n",
       "        text-align: right;\n",
       "    }\n",
       "</style>\n",
       "<table border=\"1\" class=\"dataframe\">\n",
       "  <thead>\n",
       "    <tr style=\"text-align: right;\">\n",
       "      <th></th>\n",
       "      <th>Linear_Regression</th>\n",
       "      <th>Logistic_Regression</th>\n",
       "      <th>Random_Forests</th>\n",
       "    </tr>\n",
       "  </thead>\n",
       "  <tbody>\n",
       "    <tr>\n",
       "      <th>accuracy</th>\n",
       "      <td>0.966947</td>\n",
       "      <td>0.967849</td>\n",
       "      <td>0.966737</td>\n",
       "    </tr>\n",
       "    <tr>\n",
       "      <th>precision</th>\n",
       "      <td>0.483945</td>\n",
       "      <td>0.525733</td>\n",
       "      <td>0.495335</td>\n",
       "    </tr>\n",
       "    <tr>\n",
       "      <th>recall</th>\n",
       "      <td>0.044780</td>\n",
       "      <td>0.258807</td>\n",
       "      <td>0.283428</td>\n",
       "    </tr>\n",
       "    <tr>\n",
       "      <th>f1</th>\n",
       "      <td>0.081062</td>\n",
       "      <td>0.342245</td>\n",
       "      <td>0.358536</td>\n",
       "    </tr>\n",
       "  </tbody>\n",
       "</table>\n",
       "</div>"
      ],
      "text/plain": [
       "           Linear_Regression  Logistic_Regression  Random_Forests\n",
       "accuracy            0.966947             0.967849        0.966737\n",
       "precision           0.483945             0.525733        0.495335\n",
       "recall              0.044780             0.258807        0.283428\n",
       "f1                  0.081062             0.342245        0.358536"
      ]
     },
     "execution_count": 120,
     "metadata": {},
     "output_type": "execute_result"
    }
   ],
   "source": [
    "# calculate Linear regression, logistic regression, random forest results again using all features\n",
    "linRegDF = cross_val_LinReg_DF(X,y)\n",
    "logRegDF = cross_val_LogReg_DF(X,y)\n",
    "RandomForestDF = cross_val_RandomForest_DF(X,y)\n",
    "# merge all 3 models into dataframe\n",
    "ResultsDF_allFeatures = pd.concat([linRegDF, logRegDF, RandomForestDF], axis=1)\n",
    "ResultsDF_allFeatures"
   ]
  },
  {
   "cell_type": "markdown",
   "metadata": {},
   "source": [
    "#### High correlation features only\n",
    "- We will now repeat the tests using the high correlation features identified in part (1.2.3)\n",
    "- Again we set up the dataframe but now we use the list of high_correlation_features only"
   ]
  },
  {
   "cell_type": "code",
   "execution_count": 121,
   "metadata": {},
   "outputs": [
    {
     "name": "stdout",
     "output_type": "stream",
     "text": [
      "Number of features:  19\n"
     ]
    }
   ],
   "source": [
    "df_highcorr = pd.get_dummies(dfhighfeatuers)\n",
    "y = df_highcorr[\"death_yn\"]\n",
    "X = df_highcorr.drop([\"death_yn\"],1)\n",
    "# X = dfhighcorr[high_correlation_features]\n",
    "print(\"Number of features: \", len(X.columns))"
   ]
  },
  {
   "cell_type": "code",
   "execution_count": 122,
   "metadata": {},
   "outputs": [
    {
     "data": {
      "text/html": [
       "<div>\n",
       "<style scoped>\n",
       "    .dataframe tbody tr th:only-of-type {\n",
       "        vertical-align: middle;\n",
       "    }\n",
       "\n",
       "    .dataframe tbody tr th {\n",
       "        vertical-align: top;\n",
       "    }\n",
       "\n",
       "    .dataframe thead th {\n",
       "        text-align: right;\n",
       "    }\n",
       "</style>\n",
       "<table border=\"1\" class=\"dataframe\">\n",
       "  <thead>\n",
       "    <tr style=\"text-align: right;\">\n",
       "      <th></th>\n",
       "      <th>Linear_Regression</th>\n",
       "      <th>Logistic_Regression</th>\n",
       "      <th>Random_Forests</th>\n",
       "    </tr>\n",
       "  </thead>\n",
       "  <tbody>\n",
       "    <tr>\n",
       "      <th>accuracy</th>\n",
       "      <td>0.966846</td>\n",
       "      <td>0.969568</td>\n",
       "      <td>0.968658</td>\n",
       "    </tr>\n",
       "    <tr>\n",
       "      <th>precision</th>\n",
       "      <td>0.450612</td>\n",
       "      <td>0.585394</td>\n",
       "      <td>0.552775</td>\n",
       "    </tr>\n",
       "    <tr>\n",
       "      <th>recall</th>\n",
       "      <td>0.042582</td>\n",
       "      <td>0.256155</td>\n",
       "      <td>0.262121</td>\n",
       "    </tr>\n",
       "    <tr>\n",
       "      <th>f1</th>\n",
       "      <td>0.077026</td>\n",
       "      <td>0.349773</td>\n",
       "      <td>0.349161</td>\n",
       "    </tr>\n",
       "  </tbody>\n",
       "</table>\n",
       "</div>"
      ],
      "text/plain": [
       "           Linear_Regression  Logistic_Regression  Random_Forests\n",
       "accuracy            0.966846             0.969568        0.968658\n",
       "precision           0.450612             0.585394        0.552775\n",
       "recall              0.042582             0.256155        0.262121\n",
       "f1                  0.077026             0.349773        0.349161"
      ]
     },
     "execution_count": 122,
     "metadata": {},
     "output_type": "execute_result"
    }
   ],
   "source": [
    "# calculate Linear regression, logistic regression, random forest results again\n",
    "linRegDF = cross_val_LinReg_DF(X,y)\n",
    "logRegDF = cross_val_LogReg_DF(X,y)\n",
    "RandomForestDF = cross_val_RandomForest_DF(X,y)\n",
    "# merge all 3 models into dataframe\n",
    "ResultsDF_HighCorrFeatures = pd.concat([linRegDF, logRegDF, RandomForestDF], axis=1)\n",
    "ResultsDF_HighCorrFeatures"
   ]
  },
  {
   "cell_type": "markdown",
   "metadata": {},
   "source": [
    "### Comparison of feature set so far"
   ]
  },
  {
   "cell_type": "code",
   "execution_count": 123,
   "metadata": {},
   "outputs": [
    {
     "name": "stdout",
     "output_type": "stream",
     "text": [
      "\n",
      "Scores using all features: 31 features (0 features dropped)\n",
      "===================================================================\n",
      "           Linear_Regression  Logistic_Regression  Random_Forests\n",
      "accuracy            0.966947             0.967849        0.966737\n",
      "precision           0.483945             0.525733        0.495335\n",
      "recall              0.044780             0.258807        0.283428\n",
      "f1                  0.081062             0.342245        0.358536\n",
      "\n",
      "Scores using subset of features: 16 features (15 features dropped - from part 1)\n",
      "===================================================================\n",
      "           Linear_Regression  Logistic_Regression  Random_Forests\n",
      "accuracy            0.966846             0.969366        0.968658\n",
      "precision           0.450612             0.581270        0.552775\n",
      "recall              0.042582             0.247064        0.262121\n",
      "f1                  0.077026             0.340756        0.349161\n",
      "\n",
      "Scores using high Correlation features only: 19 features (12 features dropped)\n",
      "===================================================================\n",
      "           Linear_Regression  Logistic_Regression  Random_Forests\n",
      "accuracy            0.966846             0.969568        0.968658\n",
      "precision           0.450612             0.585394        0.552775\n",
      "recall              0.042582             0.256155        0.262121\n",
      "f1                  0.077026             0.349773        0.349161\n"
     ]
    }
   ],
   "source": [
    "print(\"\\nScores using all features: 31 features (0 features dropped)\")\n",
    "print(\"===================================================================\")\n",
    "print(ResultsDF_allFeatures)\n",
    "print(\"\\nScores using subset of features: 16 features (15 features dropped - from part 1)\")\n",
    "print(\"===================================================================\")\n",
    "print(ResultsDF)\n",
    "print(\"\\nScores using high Correlation features only: 19 features (12 features dropped)\")\n",
    "print(\"===================================================================\")\n",
    "print(ResultsDF_HighCorrFeatures)"
   ]
  },
  {
   "cell_type": "markdown",
   "metadata": {},
   "source": [
    "- <b>Linear Regression:</b> From the results, we can see accuracy has remained approximately the same. Precision, recall and f1 have all decreased.\n",
    "- <b>Logistic Regression:</b> We can see that accuracy has slightly increased, as has precision. Recall and f1 have decreased ever so slightly however. \n",
    "- <b>Random Forests:</b> Accuracy has remained approximately the same and precision has increased. However, recall and f1 have dropped slightly.\n",
    "\n",
    "There have been no major increases by implementing these ideas to improve the models. It is difficult to say that this implementation has improved our models.\n",
    "\n",
    "In order to investigate which feature subset we should use in order to improve our models, in the cells below we will investigate whether further optimisations could help us improve our models."
   ]
  },
  {
   "cell_type": "markdown",
   "metadata": {},
   "source": [
    "### Further optimisations\n",
    "- We will look at the following optimisation we can make for the random forest model :\n",
    "    1. Find best performing Max_Depth of decision tree while keeping accuracy high - reduce potential for overfitting and speed up model \n",
    "    2. Find lowest number estimators while keeping accuracy high- reduce unnecessary estimators as will slow down the model\n",
    "    3. Find best preforming list of features ranked by feature importance - As we know there are many feature that add little the the model. Removing them will help generalise the model\n",
    "        - Results here can be applied to all models "
   ]
  },
  {
   "cell_type": "markdown",
   "metadata": {},
   "source": [
    "#### Optimise Max Depth\n",
    "**Note: This calculation may take some time**"
   ]
  },
  {
   "cell_type": "code",
   "execution_count": 124,
   "metadata": {},
   "outputs": [
    {
     "data": {
      "text/html": [
       "<div>\n",
       "<style scoped>\n",
       "    .dataframe tbody tr th:only-of-type {\n",
       "        vertical-align: middle;\n",
       "    }\n",
       "\n",
       "    .dataframe tbody tr th {\n",
       "        vertical-align: top;\n",
       "    }\n",
       "\n",
       "    .dataframe thead th {\n",
       "        text-align: right;\n",
       "    }\n",
       "</style>\n",
       "<table border=\"1\" class=\"dataframe\">\n",
       "  <thead>\n",
       "    <tr style=\"text-align: right;\">\n",
       "      <th></th>\n",
       "      <th>depth=17</th>\n",
       "      <th>depth=18</th>\n",
       "      <th>depth=19</th>\n",
       "      <th>depth=20</th>\n",
       "      <th>no_max_depth</th>\n",
       "    </tr>\n",
       "  </thead>\n",
       "  <tbody>\n",
       "    <tr>\n",
       "      <th>accuracy</th>\n",
       "      <td>0.967142</td>\n",
       "      <td>0.967041</td>\n",
       "      <td>0.966838</td>\n",
       "      <td>0.966940</td>\n",
       "      <td>0.966737</td>\n",
       "    </tr>\n",
       "    <tr>\n",
       "      <th>precision</th>\n",
       "      <td>0.507876</td>\n",
       "      <td>0.505002</td>\n",
       "      <td>0.498691</td>\n",
       "      <td>0.499599</td>\n",
       "      <td>0.495335</td>\n",
       "    </tr>\n",
       "    <tr>\n",
       "      <th>recall</th>\n",
       "      <td>0.283617</td>\n",
       "      <td>0.280492</td>\n",
       "      <td>0.274242</td>\n",
       "      <td>0.286553</td>\n",
       "      <td>0.283428</td>\n",
       "    </tr>\n",
       "    <tr>\n",
       "      <th>f1</th>\n",
       "      <td>0.362167</td>\n",
       "      <td>0.358405</td>\n",
       "      <td>0.352093</td>\n",
       "      <td>0.361927</td>\n",
       "      <td>0.358536</td>\n",
       "    </tr>\n",
       "  </tbody>\n",
       "</table>\n",
       "</div>"
      ],
      "text/plain": [
       "           depth=17  depth=18  depth=19  depth=20  no_max_depth\n",
       "accuracy   0.967142  0.967041  0.966838  0.966940      0.966737\n",
       "precision  0.507876  0.505002  0.498691  0.499599      0.495335\n",
       "recall     0.283617  0.280492  0.274242  0.286553      0.283428\n",
       "f1         0.362167  0.358405  0.352093  0.361927      0.358536"
      ]
     },
     "execution_count": 124,
     "metadata": {},
     "output_type": "execute_result"
    }
   ],
   "source": [
    "# setup dataframe\n",
    "df_all = pd.get_dummies(df)\n",
    "y = df_all[\"death_yn\"]\n",
    "X = df_all.drop([\"death_yn\"],1)\n",
    "\n",
    "# initialised empty daraframe\n",
    "RandomForest_Depth = pd.DataFrame()\n",
    "\n",
    "# calculate cross val score incrementing max depth by 1 each iteration\n",
    "# append results to dataframe\n",
    "for i in range(17,21):\n",
    "    df1 = cross_val_RandomForest_DF(X,y,i)\n",
    "    df1.rename(columns={'Random_Forests':f'depth={i}'}, inplace=True)\n",
    "    RandomForest_Depth = pd.concat([RandomForest_Depth, df1], axis=1)\n",
    "\n",
    "# same calculation but use no max depth this time\n",
    "no_max_depth = cross_val_RandomForest_DF(X,y)\n",
    "no_max_depth.rename(columns={'Random_Forests':f'no_max_depth'}, inplace=True)\n",
    "RandomForest_Depth = pd.concat([RandomForest_Depth, no_max_depth], axis=1)\n",
    "RandomForest_Depth"
   ]
  },
  {
   "cell_type": "markdown",
   "metadata": {},
   "source": [
    "We can see from above that the sweet spot appears to be with a max depth of 20. This will vary between datasets but it does let us know that there is little to be gained by having max_depth=None. Max_depth=None will significantly increase the model size. "
   ]
  },
  {
   "cell_type": "markdown",
   "metadata": {},
   "source": [
    "#### Optimise Number of estimators\n",
    "**Note: This calculation may take some time**"
   ]
  },
  {
   "cell_type": "code",
   "execution_count": 125,
   "metadata": {},
   "outputs": [
    {
     "data": {
      "text/html": [
       "<div>\n",
       "<style scoped>\n",
       "    .dataframe tbody tr th:only-of-type {\n",
       "        vertical-align: middle;\n",
       "    }\n",
       "\n",
       "    .dataframe tbody tr th {\n",
       "        vertical-align: top;\n",
       "    }\n",
       "\n",
       "    .dataframe thead th {\n",
       "        text-align: right;\n",
       "    }\n",
       "</style>\n",
       "<table border=\"1\" class=\"dataframe\">\n",
       "  <thead>\n",
       "    <tr style=\"text-align: right;\">\n",
       "      <th></th>\n",
       "      <th>estimators=1</th>\n",
       "      <th>estimators=2</th>\n",
       "      <th>estimators=4</th>\n",
       "      <th>estimators=8</th>\n",
       "      <th>estimators=16</th>\n",
       "      <th>estimators=32</th>\n",
       "      <th>estimators=64</th>\n",
       "      <th>estimators=100</th>\n",
       "      <th>estimators=200</th>\n",
       "    </tr>\n",
       "  </thead>\n",
       "  <tbody>\n",
       "    <tr>\n",
       "      <th>accuracy</th>\n",
       "      <td>0.964311</td>\n",
       "      <td>0.966434</td>\n",
       "      <td>0.966838</td>\n",
       "      <td>0.965221</td>\n",
       "      <td>0.967041</td>\n",
       "      <td>0.966030</td>\n",
       "      <td>0.966434</td>\n",
       "      <td>0.966737</td>\n",
       "      <td>0.966838</td>\n",
       "    </tr>\n",
       "    <tr>\n",
       "      <th>precision</th>\n",
       "      <td>0.452751</td>\n",
       "      <td>0.479638</td>\n",
       "      <td>0.491862</td>\n",
       "      <td>0.452974</td>\n",
       "      <td>0.499204</td>\n",
       "      <td>0.473261</td>\n",
       "      <td>0.487774</td>\n",
       "      <td>0.495335</td>\n",
       "      <td>0.498710</td>\n",
       "    </tr>\n",
       "    <tr>\n",
       "      <th>recall</th>\n",
       "      <td>0.336553</td>\n",
       "      <td>0.270833</td>\n",
       "      <td>0.270739</td>\n",
       "      <td>0.224621</td>\n",
       "      <td>0.258996</td>\n",
       "      <td>0.252462</td>\n",
       "      <td>0.296023</td>\n",
       "      <td>0.283428</td>\n",
       "      <td>0.271212</td>\n",
       "    </tr>\n",
       "    <tr>\n",
       "      <th>f1</th>\n",
       "      <td>0.379212</td>\n",
       "      <td>0.342038</td>\n",
       "      <td>0.346446</td>\n",
       "      <td>0.297473</td>\n",
       "      <td>0.339341</td>\n",
       "      <td>0.326973</td>\n",
       "      <td>0.366090</td>\n",
       "      <td>0.358536</td>\n",
       "      <td>0.348372</td>\n",
       "    </tr>\n",
       "  </tbody>\n",
       "</table>\n",
       "</div>"
      ],
      "text/plain": [
       "           estimators=1  estimators=2  estimators=4  estimators=8  \\\n",
       "accuracy       0.964311      0.966434      0.966838      0.965221   \n",
       "precision      0.452751      0.479638      0.491862      0.452974   \n",
       "recall         0.336553      0.270833      0.270739      0.224621   \n",
       "f1             0.379212      0.342038      0.346446      0.297473   \n",
       "\n",
       "           estimators=16  estimators=32  estimators=64  estimators=100  \\\n",
       "accuracy        0.967041       0.966030       0.966434        0.966737   \n",
       "precision       0.499204       0.473261       0.487774        0.495335   \n",
       "recall          0.258996       0.252462       0.296023        0.283428   \n",
       "f1              0.339341       0.326973       0.366090        0.358536   \n",
       "\n",
       "           estimators=200  \n",
       "accuracy         0.966838  \n",
       "precision        0.498710  \n",
       "recall           0.271212  \n",
       "f1               0.348372  "
      ]
     },
     "execution_count": 125,
     "metadata": {},
     "output_type": "execute_result"
    }
   ],
   "source": [
    "# setup dataframe\n",
    "df_all = pd.get_dummies(df)\n",
    "y = df_all[\"death_yn\"]\n",
    "X = df_all.drop([\"death_yn\"],1)\n",
    "\n",
    "# initialised empty daraframe\n",
    "RandomForest_Estimators = pd.DataFrame()\n",
    "\n",
    "n_estimators = [1, 2, 4, 8, 16, 32, 64, 100, 200]\n",
    "\n",
    "for item in n_estimators:\n",
    "    df1 = cross_val_RandomForest_DF(X,y,estimators=item)\n",
    "    df1.rename(columns={'Random_Forests':f'estimators={item}'}, inplace=True)\n",
    "    RandomForest_Estimators = pd.concat([RandomForest_Estimators, df1], axis=1)\n",
    "\n",
    "RandomForest_Estimators"
   ]
  },
  {
   "cell_type": "markdown",
   "metadata": {},
   "source": [
    "We can see from the above dataframe that the accuracy appears to be best with estimator = 1. We will put the number of estimators to 1 as based on the above dataframe."
   ]
  },
  {
   "cell_type": "markdown",
   "metadata": {},
   "source": [
    "#### Optimise Number of features\n",
    "- First calculate feature order of importance using all features"
   ]
  },
  {
   "cell_type": "code",
   "execution_count": 126,
   "metadata": {},
   "outputs": [
    {
     "data": {
      "text/html": [
       "<div>\n",
       "<style scoped>\n",
       "    .dataframe tbody tr th:only-of-type {\n",
       "        vertical-align: middle;\n",
       "    }\n",
       "\n",
       "    .dataframe tbody tr th {\n",
       "        vertical-align: top;\n",
       "    }\n",
       "\n",
       "    .dataframe thead th {\n",
       "        text-align: right;\n",
       "    }\n",
       "</style>\n",
       "<table border=\"1\" class=\"dataframe\">\n",
       "  <thead>\n",
       "    <tr style=\"text-align: right;\">\n",
       "      <th></th>\n",
       "      <th>importance</th>\n",
       "    </tr>\n",
       "    <tr>\n",
       "      <th>feature</th>\n",
       "      <th></th>\n",
       "    </tr>\n",
       "  </thead>\n",
       "  <tbody>\n",
       "    <tr>\n",
       "      <th>age_group_80+ Years</th>\n",
       "      <td>0.189503</td>\n",
       "    </tr>\n",
       "    <tr>\n",
       "      <th>icu_yn_Yes</th>\n",
       "      <td>0.078975</td>\n",
       "    </tr>\n",
       "    <tr>\n",
       "      <th>age_group_70 - 79 Years</th>\n",
       "      <td>0.073890</td>\n",
       "    </tr>\n",
       "    <tr>\n",
       "      <th>icu_yn_No</th>\n",
       "      <td>0.069108</td>\n",
       "    </tr>\n",
       "    <tr>\n",
       "      <th>sex_Male</th>\n",
       "      <td>0.066514</td>\n",
       "    </tr>\n",
       "    <tr>\n",
       "      <th>race_ethnicity_combined_White, Non-Hispanic</th>\n",
       "      <td>0.059702</td>\n",
       "    </tr>\n",
       "    <tr>\n",
       "      <th>race_ethnicity_combined_Unknown</th>\n",
       "      <td>0.052482</td>\n",
       "    </tr>\n",
       "    <tr>\n",
       "      <th>race_ethnicity_combined_Hispanic/Latino</th>\n",
       "      <td>0.047388</td>\n",
       "    </tr>\n",
       "    <tr>\n",
       "      <th>hosp_yn_No</th>\n",
       "      <td>0.045528</td>\n",
       "    </tr>\n",
       "    <tr>\n",
       "      <th>hosp_yn_Yes</th>\n",
       "      <td>0.033279</td>\n",
       "    </tr>\n",
       "    <tr>\n",
       "      <th>hosp_yn_Unknown</th>\n",
       "      <td>0.026731</td>\n",
       "    </tr>\n",
       "    <tr>\n",
       "      <th>race_ethnicity_combined_Multiple/Other, Non-Hispanic</th>\n",
       "      <td>0.026230</td>\n",
       "    </tr>\n",
       "    <tr>\n",
       "      <th>age_group_60 - 69 Years</th>\n",
       "      <td>0.025337</td>\n",
       "    </tr>\n",
       "    <tr>\n",
       "      <th>age_group_40 - 49 Years</th>\n",
       "      <td>0.024389</td>\n",
       "    </tr>\n",
       "    <tr>\n",
       "      <th>current_status_Probable Case</th>\n",
       "      <td>0.024101</td>\n",
       "    </tr>\n",
       "    <tr>\n",
       "      <th>current_status_Laboratory-confirmed case</th>\n",
       "      <td>0.023521</td>\n",
       "    </tr>\n",
       "    <tr>\n",
       "      <th>sex_Female</th>\n",
       "      <td>0.021329</td>\n",
       "    </tr>\n",
       "    <tr>\n",
       "      <th>age_group_50 - 59 Years</th>\n",
       "      <td>0.021176</td>\n",
       "    </tr>\n",
       "    <tr>\n",
       "      <th>race_ethnicity_combined_Black, Non-Hispanic</th>\n",
       "      <td>0.018330</td>\n",
       "    </tr>\n",
       "    <tr>\n",
       "      <th>icu_yn_Unknown</th>\n",
       "      <td>0.015513</td>\n",
       "    </tr>\n",
       "    <tr>\n",
       "      <th>medcond_yn_Yes</th>\n",
       "      <td>0.012783</td>\n",
       "    </tr>\n",
       "    <tr>\n",
       "      <th>age_group_30 - 39 Years</th>\n",
       "      <td>0.010243</td>\n",
       "    </tr>\n",
       "    <tr>\n",
       "      <th>age_group_10 - 19 Years</th>\n",
       "      <td>0.008466</td>\n",
       "    </tr>\n",
       "    <tr>\n",
       "      <th>age_group_20 - 29 Years</th>\n",
       "      <td>0.006308</td>\n",
       "    </tr>\n",
       "    <tr>\n",
       "      <th>race_ethnicity_combined_American Indian/Alaska Native, Non-Hispanic</th>\n",
       "      <td>0.006050</td>\n",
       "    </tr>\n",
       "    <tr>\n",
       "      <th>race_ethnicity_combined_Asian, Non-Hispanic</th>\n",
       "      <td>0.005245</td>\n",
       "    </tr>\n",
       "    <tr>\n",
       "      <th>age_group_0 - 9 Years</th>\n",
       "      <td>0.002589</td>\n",
       "    </tr>\n",
       "    <tr>\n",
       "      <th>race_ethnicity_combined_Native Hawaiian/Other Pacific Islander, Non-Hispanic</th>\n",
       "      <td>0.002015</td>\n",
       "    </tr>\n",
       "    <tr>\n",
       "      <th>medcond_yn_Unknown</th>\n",
       "      <td>0.001753</td>\n",
       "    </tr>\n",
       "    <tr>\n",
       "      <th>medcond_yn_No</th>\n",
       "      <td>0.001522</td>\n",
       "    </tr>\n",
       "    <tr>\n",
       "      <th>hosp_yn_OTH</th>\n",
       "      <td>0.000000</td>\n",
       "    </tr>\n",
       "  </tbody>\n",
       "</table>\n",
       "</div>"
      ],
      "text/plain": [
       "                                                    importance\n",
       "feature                                                       \n",
       "age_group_80+ Years                                   0.189503\n",
       "icu_yn_Yes                                            0.078975\n",
       "age_group_70 - 79 Years                               0.073890\n",
       "icu_yn_No                                             0.069108\n",
       "sex_Male                                              0.066514\n",
       "race_ethnicity_combined_White, Non-Hispanic           0.059702\n",
       "race_ethnicity_combined_Unknown                       0.052482\n",
       "race_ethnicity_combined_Hispanic/Latino               0.047388\n",
       "hosp_yn_No                                            0.045528\n",
       "hosp_yn_Yes                                           0.033279\n",
       "hosp_yn_Unknown                                       0.026731\n",
       "race_ethnicity_combined_Multiple/Other, Non-His...    0.026230\n",
       "age_group_60 - 69 Years                               0.025337\n",
       "age_group_40 - 49 Years                               0.024389\n",
       "current_status_Probable Case                          0.024101\n",
       "current_status_Laboratory-confirmed case              0.023521\n",
       "sex_Female                                            0.021329\n",
       "age_group_50 - 59 Years                               0.021176\n",
       "race_ethnicity_combined_Black, Non-Hispanic           0.018330\n",
       "icu_yn_Unknown                                        0.015513\n",
       "medcond_yn_Yes                                        0.012783\n",
       "age_group_30 - 39 Years                               0.010243\n",
       "age_group_10 - 19 Years                               0.008466\n",
       "age_group_20 - 29 Years                               0.006308\n",
       "race_ethnicity_combined_American Indian/Alaska ...    0.006050\n",
       "race_ethnicity_combined_Asian, Non-Hispanic           0.005245\n",
       "age_group_0 - 9 Years                                 0.002589\n",
       "race_ethnicity_combined_Native Hawaiian/Other P...    0.002015\n",
       "medcond_yn_Unknown                                    0.001753\n",
       "medcond_yn_No                                         0.001522\n",
       "hosp_yn_OTH                                           0.000000"
      ]
     },
     "execution_count": 126,
     "metadata": {},
     "output_type": "execute_result"
    }
   ],
   "source": [
    "# setup dataframe\n",
    "df_all = pd.get_dummies(df)\n",
    "y = df_all[\"death_yn\"]\n",
    "X = df_all.drop([\"death_yn\"],1)\n",
    "X_train, X_test, y_train, y_test = train_test_split(X, y, random_state=1 , test_size=0.3)\n",
    "\n",
    "# Train RF with 100 trees\n",
    "rfc = RandomForestClassifier(n_estimators=1, max_features='auto', oob_score=True, random_state=1)\n",
    "rfc.fit(X_train, y_train)\n",
    "importance = pd.DataFrame({'feature': X_train.columns, 'importance':rfc.feature_importances_})\n",
    "importance.sort_values('importance', ascending=False, inplace=True)\n",
    "importance.set_index('feature',1, inplace=True)\n",
    "importance"
   ]
  },
  {
   "cell_type": "markdown",
   "metadata": {},
   "source": [
    "- Next calculate the optimum number of features\n",
    "- There are 31 features in total (more due to dummy features)\n",
    "- We will only calculate the top 22 features to keep the execution time down\n",
    "- After the top 22 features we can see from the importance list that any additional features add little to no value\n",
    "- We can see worst preforming features are the categorical which was not expected\n",
    "\n",
    "**Note: This calculation may take some time**"
   ]
  },
  {
   "cell_type": "code",
   "execution_count": 127,
   "metadata": {},
   "outputs": [
    {
     "data": {
      "text/html": [
       "<div>\n",
       "<style scoped>\n",
       "    .dataframe tbody tr th:only-of-type {\n",
       "        vertical-align: middle;\n",
       "    }\n",
       "\n",
       "    .dataframe tbody tr th {\n",
       "        vertical-align: top;\n",
       "    }\n",
       "\n",
       "    .dataframe thead th {\n",
       "        text-align: right;\n",
       "    }\n",
       "</style>\n",
       "<table border=\"1\" class=\"dataframe\">\n",
       "  <thead>\n",
       "    <tr style=\"text-align: right;\">\n",
       "      <th></th>\n",
       "      <th>features=1</th>\n",
       "      <th>features=2</th>\n",
       "      <th>features=3</th>\n",
       "      <th>features=4</th>\n",
       "      <th>features=5</th>\n",
       "      <th>features=6</th>\n",
       "      <th>features=7</th>\n",
       "      <th>features=8</th>\n",
       "      <th>features=9</th>\n",
       "      <th>features=10</th>\n",
       "      <th>...</th>\n",
       "      <th>features=13</th>\n",
       "      <th>features=14</th>\n",
       "      <th>features=15</th>\n",
       "      <th>features=16</th>\n",
       "      <th>features=17</th>\n",
       "      <th>features=18</th>\n",
       "      <th>features=19</th>\n",
       "      <th>features=20</th>\n",
       "      <th>features=21</th>\n",
       "      <th>features=22</th>\n",
       "    </tr>\n",
       "  </thead>\n",
       "  <tbody>\n",
       "    <tr>\n",
       "      <th>accuracy</th>\n",
       "      <td>0.967243</td>\n",
       "      <td>0.966737</td>\n",
       "      <td>0.967243</td>\n",
       "      <td>0.967243</td>\n",
       "      <td>0.967344</td>\n",
       "      <td>0.967647</td>\n",
       "      <td>0.966434</td>\n",
       "      <td>0.967243</td>\n",
       "      <td>0.966333</td>\n",
       "      <td>0.965423</td>\n",
       "      <td>...</td>\n",
       "      <td>0.965322</td>\n",
       "      <td>0.965423</td>\n",
       "      <td>0.965120</td>\n",
       "      <td>0.965120</td>\n",
       "      <td>0.964918</td>\n",
       "      <td>0.965423</td>\n",
       "      <td>0.965524</td>\n",
       "      <td>0.965626</td>\n",
       "      <td>0.965828</td>\n",
       "      <td>0.966030</td>\n",
       "    </tr>\n",
       "    <tr>\n",
       "      <th>precision</th>\n",
       "      <td>0.000000</td>\n",
       "      <td>0.083333</td>\n",
       "      <td>0.565000</td>\n",
       "      <td>0.565000</td>\n",
       "      <td>0.619524</td>\n",
       "      <td>0.588333</td>\n",
       "      <td>0.399167</td>\n",
       "      <td>0.488889</td>\n",
       "      <td>0.451947</td>\n",
       "      <td>0.449282</td>\n",
       "      <td>...</td>\n",
       "      <td>0.450609</td>\n",
       "      <td>0.455388</td>\n",
       "      <td>0.446725</td>\n",
       "      <td>0.446725</td>\n",
       "      <td>0.441295</td>\n",
       "      <td>0.454760</td>\n",
       "      <td>0.455108</td>\n",
       "      <td>0.456698</td>\n",
       "      <td>0.472788</td>\n",
       "      <td>0.482069</td>\n",
       "    </tr>\n",
       "    <tr>\n",
       "      <th>recall</th>\n",
       "      <td>0.000000</td>\n",
       "      <td>0.006155</td>\n",
       "      <td>0.040057</td>\n",
       "      <td>0.040057</td>\n",
       "      <td>0.049432</td>\n",
       "      <td>0.055587</td>\n",
       "      <td>0.049242</td>\n",
       "      <td>0.067614</td>\n",
       "      <td>0.197064</td>\n",
       "      <td>0.215720</td>\n",
       "      <td>...</td>\n",
       "      <td>0.237311</td>\n",
       "      <td>0.243466</td>\n",
       "      <td>0.249621</td>\n",
       "      <td>0.249621</td>\n",
       "      <td>0.246591</td>\n",
       "      <td>0.255777</td>\n",
       "      <td>0.261932</td>\n",
       "      <td>0.264962</td>\n",
       "      <td>0.274337</td>\n",
       "      <td>0.280492</td>\n",
       "    </tr>\n",
       "    <tr>\n",
       "      <th>f1</th>\n",
       "      <td>0.000000</td>\n",
       "      <td>0.011429</td>\n",
       "      <td>0.073443</td>\n",
       "      <td>0.073443</td>\n",
       "      <td>0.088485</td>\n",
       "      <td>0.100613</td>\n",
       "      <td>0.085873</td>\n",
       "      <td>0.115602</td>\n",
       "      <td>0.268383</td>\n",
       "      <td>0.287129</td>\n",
       "      <td>...</td>\n",
       "      <td>0.308244</td>\n",
       "      <td>0.313794</td>\n",
       "      <td>0.316992</td>\n",
       "      <td>0.316992</td>\n",
       "      <td>0.312888</td>\n",
       "      <td>0.324641</td>\n",
       "      <td>0.329992</td>\n",
       "      <td>0.333013</td>\n",
       "      <td>0.344395</td>\n",
       "      <td>0.351500</td>\n",
       "    </tr>\n",
       "  </tbody>\n",
       "</table>\n",
       "<p>4 rows × 22 columns</p>\n",
       "</div>"
      ],
      "text/plain": [
       "           features=1  features=2  features=3  features=4  features=5  \\\n",
       "accuracy     0.967243    0.966737    0.967243    0.967243    0.967344   \n",
       "precision    0.000000    0.083333    0.565000    0.565000    0.619524   \n",
       "recall       0.000000    0.006155    0.040057    0.040057    0.049432   \n",
       "f1           0.000000    0.011429    0.073443    0.073443    0.088485   \n",
       "\n",
       "           features=6  features=7  features=8  features=9  features=10  ...  \\\n",
       "accuracy     0.967647    0.966434    0.967243    0.966333     0.965423  ...   \n",
       "precision    0.588333    0.399167    0.488889    0.451947     0.449282  ...   \n",
       "recall       0.055587    0.049242    0.067614    0.197064     0.215720  ...   \n",
       "f1           0.100613    0.085873    0.115602    0.268383     0.287129  ...   \n",
       "\n",
       "           features=13  features=14  features=15  features=16  features=17  \\\n",
       "accuracy      0.965322     0.965423     0.965120     0.965120     0.964918   \n",
       "precision     0.450609     0.455388     0.446725     0.446725     0.441295   \n",
       "recall        0.237311     0.243466     0.249621     0.249621     0.246591   \n",
       "f1            0.308244     0.313794     0.316992     0.316992     0.312888   \n",
       "\n",
       "           features=18  features=19  features=20  features=21  features=22  \n",
       "accuracy      0.965423     0.965524     0.965626     0.965828     0.966030  \n",
       "precision     0.454760     0.455108     0.456698     0.472788     0.482069  \n",
       "recall        0.255777     0.261932     0.264962     0.274337     0.280492  \n",
       "f1            0.324641     0.329992     0.333013     0.344395     0.351500  \n",
       "\n",
       "[4 rows x 22 columns]"
      ]
     },
     "execution_count": 127,
     "metadata": {},
     "output_type": "execute_result"
    }
   ],
   "source": [
    "# set up empty list to store features\n",
    "list_features = []\n",
    "\n",
    "# set up empty dataframe to store results\n",
    "RandomForest_Features = pd.DataFrame()\n",
    "count=0\n",
    "\n",
    "# loop over 'importance' dataframe adding 1 feature per loop (will be the next most important feature)\n",
    "# each loop calculates the score for the current number of features in the list_features\n",
    "# Each loop appends result to RandomForest_Features dataframe\n",
    "for index, row in importance.iterrows():\n",
    "    # only calculate the top 22 features to keep runtime down\n",
    "    if count < 22:\n",
    "        list_features.append(index)\n",
    "        X = df_all[list_features]\n",
    "        df1 = cross_val_RandomForest_DF(X,y, depth=20)\n",
    "        df1.rename(columns={'Random_Forests':f'features={len(list_features)}'}, inplace=True)\n",
    "        RandomForest_Features = pd.concat([RandomForest_Features, df1], axis=1)\n",
    "        count+=1\n",
    "    else:\n",
    "        break\n",
    "\n",
    "# to display all columns    \n",
    "#pd.set_option('display.max_columns', 40)\n",
    "RandomForest_Features  "
   ]
  },
  {
   "cell_type": "markdown",
   "metadata": {},
   "source": [
    "Here we see that after the top 10 features the accuracy of the model stabilises. Therefore was can trim the model to the optimum number of features i.e. 10 \n",
    "- It is interesting to note that we achieve reasonable accuracy using one feature only - age_group_80+ Years. This had the highest correlation with the target from part 1 and also the highest importance in the random forest model.\n",
    "\n",
    "We can now define our list of optimum features"
   ]
  },
  {
   "cell_type": "code",
   "execution_count": 128,
   "metadata": {},
   "outputs": [],
   "source": [
    "# set list of optimum features\n",
    "optimum_features = list_features[0:10]"
   ]
  },
  {
   "cell_type": "markdown",
   "metadata": {},
   "source": [
    "### Finally review performance of all models using what we have learned so far\n",
    "- For all models use optimum_features based on random forests feature importance evaluation\n",
    "- For random forests model use max_depth=20 and keep default number estimators=1"
   ]
  },
  {
   "cell_type": "code",
   "execution_count": 129,
   "metadata": {},
   "outputs": [
    {
     "name": "stdout",
     "output_type": "stream",
     "text": [
      "Number of features:  10\n"
     ]
    },
    {
     "data": {
      "text/html": [
       "<div>\n",
       "<style scoped>\n",
       "    .dataframe tbody tr th:only-of-type {\n",
       "        vertical-align: middle;\n",
       "    }\n",
       "\n",
       "    .dataframe tbody tr th {\n",
       "        vertical-align: top;\n",
       "    }\n",
       "\n",
       "    .dataframe thead th {\n",
       "        text-align: right;\n",
       "    }\n",
       "</style>\n",
       "<table border=\"1\" class=\"dataframe\">\n",
       "  <thead>\n",
       "    <tr style=\"text-align: right;\">\n",
       "      <th></th>\n",
       "      <th>Linear_Regression</th>\n",
       "      <th>Logistic_Regression</th>\n",
       "      <th>Random_Forests</th>\n",
       "    </tr>\n",
       "  </thead>\n",
       "  <tbody>\n",
       "    <tr>\n",
       "      <th>accuracy</th>\n",
       "      <td>0.966914</td>\n",
       "      <td>0.968557</td>\n",
       "      <td>0.963805</td>\n",
       "    </tr>\n",
       "    <tr>\n",
       "      <th>precision</th>\n",
       "      <td>0.461944</td>\n",
       "      <td>0.538379</td>\n",
       "      <td>0.417953</td>\n",
       "    </tr>\n",
       "    <tr>\n",
       "      <th>recall</th>\n",
       "      <td>0.042894</td>\n",
       "      <td>0.280398</td>\n",
       "      <td>0.258617</td>\n",
       "    </tr>\n",
       "    <tr>\n",
       "      <th>f1</th>\n",
       "      <td>0.077795</td>\n",
       "      <td>0.364906</td>\n",
       "      <td>0.316851</td>\n",
       "    </tr>\n",
       "  </tbody>\n",
       "</table>\n",
       "</div>"
      ],
      "text/plain": [
       "           Linear_Regression  Logistic_Regression  Random_Forests\n",
       "accuracy            0.966914             0.968557        0.963805\n",
       "precision           0.461944             0.538379        0.417953\n",
       "recall              0.042894             0.280398        0.258617\n",
       "f1                  0.077795             0.364906        0.316851"
      ]
     },
     "execution_count": 129,
     "metadata": {},
     "output_type": "execute_result"
    }
   ],
   "source": [
    "df_optimum_features = pd.get_dummies(df)\n",
    "y = df_optimum_features[\"death_yn\"]\n",
    "X = df_optimum_features[optimum_features]\n",
    "print(\"Number of features: \", len(X.columns))\n",
    "\n",
    "# calculate Linear regression, logistic regression, random forest results again\n",
    "linRegDF = cross_val_LinReg_DF(X,y)\n",
    "logRegDF = cross_val_LogReg_DF(X,y)\n",
    "RandomForestDF = cross_val_RandomForest_DF(X,y,depth=20,estimators=1)\n",
    "# merge all 3 models into dataframe\n",
    "ResultsDF_optimum_features = pd.concat([linRegDF, logRegDF, RandomForestDF], axis=1)\n",
    "ResultsDF_optimum_features"
   ]
  },
  {
   "cell_type": "markdown",
   "metadata": {},
   "source": [
    "####  Comparison of all"
   ]
  },
  {
   "cell_type": "code",
   "execution_count": 130,
   "metadata": {},
   "outputs": [
    {
     "name": "stdout",
     "output_type": "stream",
     "text": [
      "\n",
      "Scores using all features: 31 features (0 features dropped)\n",
      "===================================================================\n",
      "           Linear_Regression  Logistic_Regression  Random_Forests\n",
      "accuracy            0.966947             0.967849        0.966737\n",
      "precision           0.483945             0.525733        0.495335\n",
      "recall              0.044780             0.258807        0.283428\n",
      "f1                  0.081062             0.342245        0.358536\n",
      "\n",
      "Scores using subset of features: 16 features (15 features dropped - from part 1)\n",
      "===================================================================\n",
      "           Linear_Regression  Logistic_Regression  Random_Forests\n",
      "accuracy            0.966846             0.969366        0.968658\n",
      "precision           0.450612             0.581270        0.552775\n",
      "recall              0.042582             0.247064        0.262121\n",
      "f1                  0.077026             0.340756        0.349161\n",
      "\n",
      "Scores using high Correlation features: 19 features (12 features dropped)\n",
      "===================================================================\n",
      "           Linear_Regression  Logistic_Regression  Random_Forests\n",
      "accuracy            0.966846             0.969568        0.968658\n",
      "precision           0.450612             0.585394        0.552775\n",
      "recall              0.042582             0.256155        0.262121\n",
      "f1                  0.077026             0.349773        0.349161\n",
      "\n",
      "Scores using optimum features: 10 features (21 features dropped)\n",
      "===================================================================\n",
      "           Linear_Regression  Logistic_Regression  Random_Forests\n",
      "accuracy            0.966914             0.968557        0.963805\n",
      "precision           0.461944             0.538379        0.417953\n",
      "recall              0.042894             0.280398        0.258617\n",
      "f1                  0.077795             0.364906        0.316851\n"
     ]
    }
   ],
   "source": [
    "print(\"\\nScores using all features: 31 features (0 features dropped)\")\n",
    "print(\"===================================================================\")\n",
    "print(ResultsDF_allFeatures)\n",
    "print(\"\\nScores using subset of features: 16 features (15 features dropped - from part 1)\")\n",
    "print(\"===================================================================\")\n",
    "print(ResultsDF)\n",
    "print(\"\\nScores using high Correlation features: 19 features (12 features dropped)\")\n",
    "print(\"===================================================================\")\n",
    "print(ResultsDF_HighCorrFeatures)\n",
    "print(\"\\nScores using optimum features: 10 features (21 features dropped)\")\n",
    "print(\"===================================================================\")\n",
    "print(ResultsDF_optimum_features)"
   ]
  },
  {
   "cell_type": "markdown",
   "metadata": {},
   "source": [
    "- We can see from the comparison above that using random forest evaluation performs best for nearly all models.\n",
    "- We cannot say this is the best result as we did not get greatly improved results by trimming the number of features we were examining in our models. \n",
    "- We did however make some efficiency gains for our best performing model, random forest model.\n",
    "    - Finding sweet spot for the max depth (=20), which will in turn limit the chances of overfitting\n",
    "    - Finding the optimum number of estimators (=1)\n",
    "- The random forest model performs the best out of our models tested.\n",
    "- The logistic regression performs almost as well as random forest, but not quite. This could be substituted for the random forest. \n",
    "- The linear regression is the least computational expensive model but as a result performs the worst."
   ]
  },
  {
   "cell_type": "markdown",
   "metadata": {},
   "source": [
    "### 5.3 Testing best trained model and evaluating on new test dataset provided"
   ]
  },
  {
   "cell_type": "code",
   "execution_count": 131,
   "metadata": {},
   "outputs": [],
   "source": [
    "# Reading in the test dataset provided for evaluation\n",
    "dfTest = pd.read_csv(\"24032021-covid19-cdc-deathyn-recent-10k.csv\", keep_default_na=True, sep=',\\s+', delimiter=',', skipinitialspace=True)"
   ]
  },
  {
   "cell_type": "code",
   "execution_count": 132,
   "metadata": {},
   "outputs": [
    {
     "data": {
      "text/plain": [
       "(10000, 12)"
      ]
     },
     "execution_count": 132,
     "metadata": {},
     "output_type": "execute_result"
    }
   ],
   "source": [
    "# Checking the rows and columns of this dataframe\n",
    "dfTest.shape"
   ]
  },
  {
   "cell_type": "code",
   "execution_count": 133,
   "metadata": {},
   "outputs": [
    {
     "data": {
      "text/html": [
       "<div>\n",
       "<style scoped>\n",
       "    .dataframe tbody tr th:only-of-type {\n",
       "        vertical-align: middle;\n",
       "    }\n",
       "\n",
       "    .dataframe tbody tr th {\n",
       "        vertical-align: top;\n",
       "    }\n",
       "\n",
       "    .dataframe thead th {\n",
       "        text-align: right;\n",
       "    }\n",
       "</style>\n",
       "<table border=\"1\" class=\"dataframe\">\n",
       "  <thead>\n",
       "    <tr style=\"text-align: right;\">\n",
       "      <th></th>\n",
       "      <th>cdc_case_earliest_dt</th>\n",
       "      <th>cdc_report_dt</th>\n",
       "      <th>pos_spec_dt</th>\n",
       "      <th>onset_dt</th>\n",
       "      <th>current_status</th>\n",
       "      <th>sex</th>\n",
       "      <th>age_group</th>\n",
       "      <th>race_ethnicity_combined</th>\n",
       "      <th>hosp_yn</th>\n",
       "      <th>icu_yn</th>\n",
       "      <th>death_yn</th>\n",
       "      <th>medcond_yn</th>\n",
       "    </tr>\n",
       "  </thead>\n",
       "  <tbody>\n",
       "    <tr>\n",
       "      <th>0</th>\n",
       "      <td>2021/01/22</td>\n",
       "      <td>2021/01/22</td>\n",
       "      <td>NaN</td>\n",
       "      <td>NaN</td>\n",
       "      <td>Probable Case</td>\n",
       "      <td>Female</td>\n",
       "      <td>0 - 9 Years</td>\n",
       "      <td>Asian, Non-Hispanic</td>\n",
       "      <td>No</td>\n",
       "      <td>Missing</td>\n",
       "      <td>No</td>\n",
       "      <td>Missing</td>\n",
       "    </tr>\n",
       "    <tr>\n",
       "      <th>1</th>\n",
       "      <td>2021/01/26</td>\n",
       "      <td>NaN</td>\n",
       "      <td>NaN</td>\n",
       "      <td>NaN</td>\n",
       "      <td>Laboratory-confirmed case</td>\n",
       "      <td>Female</td>\n",
       "      <td>30 - 39 Years</td>\n",
       "      <td>Unknown</td>\n",
       "      <td>Unknown</td>\n",
       "      <td>Missing</td>\n",
       "      <td>No</td>\n",
       "      <td>Missing</td>\n",
       "    </tr>\n",
       "    <tr>\n",
       "      <th>2</th>\n",
       "      <td>2021/02/03</td>\n",
       "      <td>2021/02/05</td>\n",
       "      <td>NaN</td>\n",
       "      <td>2021/02/03</td>\n",
       "      <td>Laboratory-confirmed case</td>\n",
       "      <td>Female</td>\n",
       "      <td>40 - 49 Years</td>\n",
       "      <td>Asian, Non-Hispanic</td>\n",
       "      <td>Missing</td>\n",
       "      <td>Missing</td>\n",
       "      <td>No</td>\n",
       "      <td>Missing</td>\n",
       "    </tr>\n",
       "    <tr>\n",
       "      <th>3</th>\n",
       "      <td>2021/02/05</td>\n",
       "      <td>2021/02/05</td>\n",
       "      <td>2021/02/07</td>\n",
       "      <td>2021/02/05</td>\n",
       "      <td>Laboratory-confirmed case</td>\n",
       "      <td>Male</td>\n",
       "      <td>40 - 49 Years</td>\n",
       "      <td>Hispanic/Latino</td>\n",
       "      <td>No</td>\n",
       "      <td>Unknown</td>\n",
       "      <td>No</td>\n",
       "      <td>No</td>\n",
       "    </tr>\n",
       "    <tr>\n",
       "      <th>4</th>\n",
       "      <td>2021/01/27</td>\n",
       "      <td>2021/01/27</td>\n",
       "      <td>NaN</td>\n",
       "      <td>NaN</td>\n",
       "      <td>Laboratory-confirmed case</td>\n",
       "      <td>Female</td>\n",
       "      <td>40 - 49 Years</td>\n",
       "      <td>White, Non-Hispanic</td>\n",
       "      <td>No</td>\n",
       "      <td>Missing</td>\n",
       "      <td>No</td>\n",
       "      <td>Missing</td>\n",
       "    </tr>\n",
       "  </tbody>\n",
       "</table>\n",
       "</div>"
      ],
      "text/plain": [
       "  cdc_case_earliest_dt cdc_report_dt pos_spec_dt    onset_dt  \\\n",
       "0           2021/01/22    2021/01/22         NaN         NaN   \n",
       "1           2021/01/26           NaN         NaN         NaN   \n",
       "2           2021/02/03    2021/02/05         NaN  2021/02/03   \n",
       "3           2021/02/05    2021/02/05  2021/02/07  2021/02/05   \n",
       "4           2021/01/27    2021/01/27         NaN         NaN   \n",
       "\n",
       "              current_status     sex      age_group race_ethnicity_combined  \\\n",
       "0              Probable Case  Female    0 - 9 Years     Asian, Non-Hispanic   \n",
       "1  Laboratory-confirmed case  Female  30 - 39 Years                 Unknown   \n",
       "2  Laboratory-confirmed case  Female  40 - 49 Years     Asian, Non-Hispanic   \n",
       "3  Laboratory-confirmed case    Male  40 - 49 Years         Hispanic/Latino   \n",
       "4  Laboratory-confirmed case  Female  40 - 49 Years     White, Non-Hispanic   \n",
       "\n",
       "   hosp_yn   icu_yn death_yn medcond_yn  \n",
       "0       No  Missing       No    Missing  \n",
       "1  Unknown  Missing       No    Missing  \n",
       "2  Missing  Missing       No    Missing  \n",
       "3       No  Unknown       No         No  \n",
       "4       No  Missing       No    Missing  "
      ]
     },
     "execution_count": 133,
     "metadata": {},
     "output_type": "execute_result"
    }
   ],
   "source": [
    "dfTest.head(5)"
   ]
  },
  {
   "cell_type": "markdown",
   "metadata": {},
   "source": [
    "### Cleaning Test Dataset"
   ]
  },
  {
   "cell_type": "markdown",
   "metadata": {},
   "source": [
    "### cdc_case_earliest_dt:\n",
    "- We will carry out general integrity tests and adjust the cdc_case_earliest date if any of the dates (cdc_report_dt, pos_spec_dt, onset_dt) precede cdc_case_earliest_dt (not possible).\n",
    "- We will use information from integrity tests to do imputation on cdc_case_earliest_dt where values are wrong if needed."
   ]
  },
  {
   "cell_type": "code",
   "execution_count": 134,
   "metadata": {},
   "outputs": [
    {
     "data": {
      "text/plain": [
       "25"
      ]
     },
     "execution_count": 134,
     "metadata": {},
     "output_type": "execute_result"
    }
   ],
   "source": [
    "# Checking if cdc_report_dt is earlier than cdc_case_earliest_dt for any rows (not possible)\n",
    "(dfTest['cdc_case_earliest_dt'] > dfTest[\"cdc_report_dt\"]).sum()"
   ]
  },
  {
   "cell_type": "markdown",
   "metadata": {},
   "source": [
    "- This is not possible, we will now replace these dates as cdc_case_earliest_dt should not be greater than cdc_report_dt for any rows"
   ]
  },
  {
   "cell_type": "code",
   "execution_count": 135,
   "metadata": {},
   "outputs": [],
   "source": [
    "dfTest['cdc_case_earliest_dt'].loc[(dfTest['cdc_case_earliest_dt'] > dfTest[\"cdc_report_dt\"])] = dfTest[\"cdc_report_dt\"]"
   ]
  },
  {
   "cell_type": "code",
   "execution_count": 136,
   "metadata": {},
   "outputs": [
    {
     "data": {
      "text/plain": [
       "0"
      ]
     },
     "execution_count": 136,
     "metadata": {},
     "output_type": "execute_result"
    }
   ],
   "source": [
    "# Rechecking if cdc_report_dt is earlier than cdc_case_earliest_dt for any rows after replacing the values\n",
    "(dfTest['cdc_case_earliest_dt'] > dfTest[\"cdc_report_dt\"]).sum()"
   ]
  },
  {
   "cell_type": "code",
   "execution_count": 137,
   "metadata": {},
   "outputs": [
    {
     "data": {
      "text/plain": [
       "13"
      ]
     },
     "execution_count": 137,
     "metadata": {},
     "output_type": "execute_result"
    }
   ],
   "source": [
    "# Checking if pos_spec_dt is earlier than cdc_case_earliest_dt for any rows (not possible)\n",
    "(dfTest['cdc_case_earliest_dt'] > dfTest[\"pos_spec_dt\"]).sum()"
   ]
  },
  {
   "cell_type": "markdown",
   "metadata": {},
   "source": [
    "- This is not possible, we will now replace these dates as cdc_case_earliest_dt should not be greater than pos_spec_dt"
   ]
  },
  {
   "cell_type": "code",
   "execution_count": 138,
   "metadata": {},
   "outputs": [],
   "source": [
    "dfTest['cdc_case_earliest_dt'].loc[(dfTest['cdc_case_earliest_dt'] > dfTest[\"pos_spec_dt\"])] = dfTest[\"pos_spec_dt\"]"
   ]
  },
  {
   "cell_type": "code",
   "execution_count": 139,
   "metadata": {},
   "outputs": [
    {
     "data": {
      "text/plain": [
       "0"
      ]
     },
     "execution_count": 139,
     "metadata": {},
     "output_type": "execute_result"
    }
   ],
   "source": [
    "# Rechecking if pos_spec_dt is earlier than cdc_case_earliest_dt for any rows after replacing the values\n",
    "(dfTest['cdc_case_earliest_dt'] > dfTest[\"pos_spec_dt\"]).sum()"
   ]
  },
  {
   "cell_type": "code",
   "execution_count": 140,
   "metadata": {},
   "outputs": [
    {
     "data": {
      "text/plain": [
       "0"
      ]
     },
     "execution_count": 140,
     "metadata": {},
     "output_type": "execute_result"
    }
   ],
   "source": [
    "# Checking if onset_dt is earlier than cdc_case_earliest_dt for any rows (not possible)\n",
    "(dfTest['cdc_case_earliest_dt'] > dfTest[\"onset_dt\"]).sum()"
   ]
  },
  {
   "cell_type": "markdown",
   "metadata": {},
   "source": [
    "No dates for onset_dt are earlier than cdc_case_earliest_dt, no data needs to be replaced here"
   ]
  },
  {
   "cell_type": "markdown",
   "metadata": {},
   "source": [
    "### cdc_report_dt:\n",
    "We will firstly check for % null values on cdc_report_dt"
   ]
  },
  {
   "cell_type": "code",
   "execution_count": 141,
   "metadata": {},
   "outputs": [
    {
     "data": {
      "text/plain": [
       "21.65"
      ]
     },
     "execution_count": 141,
     "metadata": {},
     "output_type": "execute_result"
    }
   ],
   "source": [
    "cdc_report_dt_missing_data = 100 * (dfTest['cdc_report_dt'].isnull().sum()/dfTest.shape[0])\n",
    "cdc_report_dt_missing_data"
   ]
  },
  {
   "cell_type": "markdown",
   "metadata": {},
   "source": [
    "We have used this column for comparison in our integrity checks, this column can be dropped as it has been depreciated according to <b>CDC guidelines</b>."
   ]
  },
  {
   "cell_type": "code",
   "execution_count": 142,
   "metadata": {},
   "outputs": [],
   "source": [
    "dfTest = dfTest.drop(\"cdc_report_dt\", 1)"
   ]
  },
  {
   "cell_type": "markdown",
   "metadata": {},
   "source": [
    "### pos_spec_dt:\n",
    "We will check the % of null values for pos_spec_dt then decide how to proceed with this column."
   ]
  },
  {
   "cell_type": "code",
   "execution_count": 143,
   "metadata": {},
   "outputs": [
    {
     "data": {
      "text/plain": [
       "74.45"
      ]
     },
     "execution_count": 143,
     "metadata": {},
     "output_type": "execute_result"
    }
   ],
   "source": [
    "pos_spec_dt_missing_data = 100 * (dfTest['pos_spec_dt'].isnull().sum()/dfTest.shape[0])\n",
    "pos_spec_dt_missing_data"
   ]
  },
  {
   "cell_type": "markdown",
   "metadata": {},
   "source": [
    "- There is over 74% null values for this column. \n",
    "- We have already used this column for comparison in our integrity checks. \n",
    "- We will now drop this column."
   ]
  },
  {
   "cell_type": "code",
   "execution_count": 144,
   "metadata": {},
   "outputs": [],
   "source": [
    "dfTest = dfTest.drop(\"pos_spec_dt\", 1)"
   ]
  },
  {
   "cell_type": "markdown",
   "metadata": {},
   "source": [
    "### onset_dt:\n",
    "We will check the % of null values for onset_dt then decide how to proceed with this column."
   ]
  },
  {
   "cell_type": "code",
   "execution_count": 145,
   "metadata": {},
   "outputs": [
    {
     "data": {
      "text/plain": [
       "58.379999999999995"
      ]
     },
     "execution_count": 145,
     "metadata": {},
     "output_type": "execute_result"
    }
   ],
   "source": [
    "onset_dt_null_data = 100 * (dfTest['onset_dt'].isnull().sum()/dfTest.shape[0])\n",
    "onset_dt_null_data"
   ]
  },
  {
   "cell_type": "markdown",
   "metadata": {},
   "source": [
    "- There is over 58% null values for this column. \n",
    "- We have already used this column for comparison in our integrity checks. \n",
    "- We will now drop this column."
   ]
  },
  {
   "cell_type": "code",
   "execution_count": 146,
   "metadata": {},
   "outputs": [],
   "source": [
    "dfTest = dfTest.drop(\"onset_dt\", 1)"
   ]
  },
  {
   "cell_type": "markdown",
   "metadata": {},
   "source": [
    "### current_status:\n",
    "We will check the % of null values for current_status then decide how to proceed with this column."
   ]
  },
  {
   "cell_type": "code",
   "execution_count": 147,
   "metadata": {},
   "outputs": [
    {
     "data": {
      "text/plain": [
       "0.0"
      ]
     },
     "execution_count": 147,
     "metadata": {},
     "output_type": "execute_result"
    }
   ],
   "source": [
    "current_status_null_data = 100 * (dfTest['current_status'].isnull().sum()/dfTest.shape[0])\n",
    "current_status_null_data"
   ]
  },
  {
   "cell_type": "markdown",
   "metadata": {},
   "source": [
    "- There is no null data in the current_status column.\n",
    "- We will check the contents of the current_status column."
   ]
  },
  {
   "cell_type": "code",
   "execution_count": 148,
   "metadata": {},
   "outputs": [
    {
     "name": "stdout",
     "output_type": "stream",
     "text": [
      "Laboratory-confirmed case    89.06\n",
      "Probable Case                10.94\n",
      "Name: current_status, dtype: float64\n"
     ]
    }
   ],
   "source": [
    "current_status_contents  = 100 * (dfTest['current_status'].value_counts()/dfTest.shape[0])\n",
    "print(current_status_contents)"
   ]
  },
  {
   "cell_type": "markdown",
   "metadata": {},
   "source": [
    "- There is no null data or no Unknown data, we will leave this column untouched."
   ]
  },
  {
   "cell_type": "markdown",
   "metadata": {},
   "source": [
    "### sex:\n",
    "We will check the % of null values for sex then decide how to proceed with this column."
   ]
  },
  {
   "cell_type": "code",
   "execution_count": 149,
   "metadata": {},
   "outputs": [
    {
     "data": {
      "text/plain": [
       "0.0"
      ]
     },
     "execution_count": 149,
     "metadata": {},
     "output_type": "execute_result"
    }
   ],
   "source": [
    "sex_null_data = 100 * (dfTest['sex'].isnull().sum()/dfTest.shape[0])\n",
    "sex_null_data"
   ]
  },
  {
   "cell_type": "markdown",
   "metadata": {},
   "source": [
    "- There is no null data in the sex column.\n",
    "- We will check the contents of the sex column."
   ]
  },
  {
   "cell_type": "code",
   "execution_count": 150,
   "metadata": {},
   "outputs": [
    {
     "name": "stdout",
     "output_type": "stream",
     "text": [
      "Female     51.27\n",
      "Male       47.88\n",
      "Unknown     0.73\n",
      "Missing     0.11\n",
      "Other       0.01\n",
      "Name: sex, dtype: float64\n"
     ]
    }
   ],
   "source": [
    "sex_contents  = 100 * (dfTest['sex'].value_counts()/dfTest.shape[0])\n",
    "print(sex_contents)"
   ]
  },
  {
   "cell_type": "markdown",
   "metadata": {},
   "source": [
    "- Very few rows have Missing or Unknown values, they combine for less than 1%\n",
    "- We will drop these rows"
   ]
  },
  {
   "cell_type": "code",
   "execution_count": 151,
   "metadata": {},
   "outputs": [],
   "source": [
    "dfTest = dfTest[~dfTest['sex'].isin(['Missing','Unknown'])]"
   ]
  },
  {
   "cell_type": "code",
   "execution_count": 152,
   "metadata": {},
   "outputs": [
    {
     "name": "stdout",
     "output_type": "stream",
     "text": [
      "Female    51.704316\n",
      "Male      48.285599\n",
      "Other      0.010085\n",
      "Name: sex, dtype: float64\n"
     ]
    }
   ],
   "source": [
    "# Rechecking to ensure the removal of these rows have taken place\n",
    "sex_contents  = 100 * (dfTest['sex'].value_counts()/dfTest.shape[0])\n",
    "print(sex_contents)"
   ]
  },
  {
   "cell_type": "markdown",
   "metadata": {},
   "source": [
    "### age_group\n",
    "We will check the % of null values for age_group then decide how to proceed with this column."
   ]
  },
  {
   "cell_type": "code",
   "execution_count": 153,
   "metadata": {},
   "outputs": [
    {
     "data": {
      "text/plain": [
       "0.0"
      ]
     },
     "execution_count": 153,
     "metadata": {},
     "output_type": "execute_result"
    }
   ],
   "source": [
    "age_group_data = 100 * (dfTest['age_group'].isnull().sum()/dfTest.shape[0])\n",
    "age_group_data"
   ]
  },
  {
   "cell_type": "markdown",
   "metadata": {},
   "source": [
    "- There is no null values in the age_group column.\n",
    "- We will check the contents of the age_group column."
   ]
  },
  {
   "cell_type": "code",
   "execution_count": 154,
   "metadata": {},
   "outputs": [
    {
     "name": "stdout",
     "output_type": "stream",
     "text": [
      "20 - 29 Years    17.285196\n",
      "30 - 39 Years    16.317063\n",
      "50 - 59 Years    13.997580\n",
      "40 - 49 Years    13.977410\n",
      "10 - 19 Years    12.918516\n",
      "60 - 69 Years    10.205728\n",
      "0 - 9 Years       5.939895\n",
      "70 - 79 Years     5.516337\n",
      "80+ Years         3.721259\n",
      "Missing           0.121017\n",
      "Name: age_group, dtype: float64\n"
     ]
    }
   ],
   "source": [
    "age_group_contents  = 100 * (dfTest['age_group'].value_counts()/dfTest.shape[0])\n",
    "print(age_group_contents)"
   ]
  },
  {
   "cell_type": "markdown",
   "metadata": {},
   "source": [
    "- As very few rows have Missing values (0.12%) we will drop these rows"
   ]
  },
  {
   "cell_type": "code",
   "execution_count": 155,
   "metadata": {},
   "outputs": [],
   "source": [
    "dfTest = dfTest[~dfTest['age_group'].isin(['Missing'])]"
   ]
  },
  {
   "cell_type": "code",
   "execution_count": 156,
   "metadata": {},
   "outputs": [
    {
     "name": "stdout",
     "output_type": "stream",
     "text": [
      "20 - 29 Years    17.306139\n",
      "30 - 39 Years    16.336834\n",
      "50 - 59 Years    14.014540\n",
      "40 - 49 Years    13.994346\n",
      "10 - 19 Years    12.934168\n",
      "60 - 69 Years    10.218094\n",
      "0 - 9 Years       5.947092\n",
      "70 - 79 Years     5.523021\n",
      "80+ Years         3.725767\n",
      "Name: age_group, dtype: float64\n"
     ]
    }
   ],
   "source": [
    "# Rechecking to ensure the removal of the rows has taken place\n",
    "age_group_contents  = 100 * (dfTest['age_group'].value_counts()/dfTest.shape[0])\n",
    "print(age_group_contents)"
   ]
  },
  {
   "cell_type": "markdown",
   "metadata": {},
   "source": [
    "### race_ethnicity_combined\n",
    "We will check the % of null values for age_group then decide how to proceed with this column."
   ]
  },
  {
   "cell_type": "code",
   "execution_count": 157,
   "metadata": {},
   "outputs": [
    {
     "data": {
      "text/plain": [
       "0.0"
      ]
     },
     "execution_count": 157,
     "metadata": {},
     "output_type": "execute_result"
    }
   ],
   "source": [
    "race_ethnicity_data = 100 * (dfTest['age_group'].isnull().sum()/dfTest.shape[0])\n",
    "race_ethnicity_data"
   ]
  },
  {
   "cell_type": "markdown",
   "metadata": {},
   "source": [
    "- There are no null values in the race_ethnicity_combined column.\n",
    "- We will check the contents of the race_ethnicity_combined column."
   ]
  },
  {
   "cell_type": "code",
   "execution_count": 158,
   "metadata": {},
   "outputs": [
    {
     "name": "stdout",
     "output_type": "stream",
     "text": [
      "Unknown                                                 41.084410\n",
      "White, Non-Hispanic                                     34.157916\n",
      "Black, Non-Hispanic                                      7.310178\n",
      "Multiple/Other, Non-Hispanic                             6.512520\n",
      "Hispanic/Latino                                          5.967286\n",
      "Asian, Non-Hispanic                                      3.291599\n",
      "American Indian/Alaska Native, Non-Hispanic              0.696688\n",
      "Missing                                                  0.656300\n",
      "Native Hawaiian/Other Pacific Islander, Non-Hispanic     0.323102\n",
      "Name: race_ethnicity_combined, dtype: float64\n"
     ]
    }
   ],
   "source": [
    "race_ethnicity_contents  = 100 * (dfTest['race_ethnicity_combined'].value_counts()/dfTest.shape[0])\n",
    "print(race_ethnicity_contents)"
   ]
  },
  {
   "cell_type": "markdown",
   "metadata": {},
   "source": [
    "- There is a large number of Unknown and Missing values, we will combine these into a single Unknown value and keep"
   ]
  },
  {
   "cell_type": "code",
   "execution_count": 159,
   "metadata": {},
   "outputs": [],
   "source": [
    "dfTest['race_ethnicity_combined'] = dfTest['race_ethnicity_combined'].replace(\"Missing\", \"Unknown\")"
   ]
  },
  {
   "cell_type": "code",
   "execution_count": 160,
   "metadata": {},
   "outputs": [
    {
     "name": "stdout",
     "output_type": "stream",
     "text": [
      "Unknown                                                 41.740711\n",
      "White, Non-Hispanic                                     34.157916\n",
      "Black, Non-Hispanic                                      7.310178\n",
      "Multiple/Other, Non-Hispanic                             6.512520\n",
      "Hispanic/Latino                                          5.967286\n",
      "Asian, Non-Hispanic                                      3.291599\n",
      "American Indian/Alaska Native, Non-Hispanic              0.696688\n",
      "Native Hawaiian/Other Pacific Islander, Non-Hispanic     0.323102\n",
      "Name: race_ethnicity_combined, dtype: float64\n"
     ]
    }
   ],
   "source": [
    "# Rechecking to ensure the replacing of the value has taken effect\n",
    "race_ethnicity_contents  = 100 * (dfTest['race_ethnicity_combined'].value_counts()/dfTest.shape[0])\n",
    "print(race_ethnicity_contents)"
   ]
  },
  {
   "cell_type": "markdown",
   "metadata": {},
   "source": [
    "### hosp_yn:\n",
    "We will check the % of null values for hosp_yn then decide how to proceed with this column."
   ]
  },
  {
   "cell_type": "code",
   "execution_count": 161,
   "metadata": {},
   "outputs": [
    {
     "data": {
      "text/plain": [
       "0.0"
      ]
     },
     "execution_count": 161,
     "metadata": {},
     "output_type": "execute_result"
    }
   ],
   "source": [
    "hosp_data = 100 * (dfTest['hosp_yn'].isnull().sum()/dfTest.shape[0])\n",
    "hosp_data"
   ]
  },
  {
   "cell_type": "markdown",
   "metadata": {},
   "source": [
    "- There are no null values in the hosp_yn column.\n",
    "- We will check the contents of the hosp_yn column."
   ]
  },
  {
   "cell_type": "code",
   "execution_count": 162,
   "metadata": {
    "scrolled": true
   },
   "outputs": [
    {
     "name": "stdout",
     "output_type": "stream",
     "text": [
      "No         46.748788\n",
      "Missing    27.564620\n",
      "Unknown    21.718498\n",
      "Yes         3.968094\n",
      "Name: hosp_yn, dtype: float64\n"
     ]
    }
   ],
   "source": [
    "hosp_contents  = 100 * (dfTest['hosp_yn'].value_counts()/dfTest.shape[0])\n",
    "print(hosp_contents)"
   ]
  },
  {
   "cell_type": "markdown",
   "metadata": {},
   "source": [
    "- There is a large number of Unknown and Missing values, we will combine these into a single Unknown value and keep"
   ]
  },
  {
   "cell_type": "code",
   "execution_count": 163,
   "metadata": {},
   "outputs": [],
   "source": [
    "dfTest['hosp_yn'] = dfTest['hosp_yn'].replace(\"Missing\", \"Unknown\")"
   ]
  },
  {
   "cell_type": "code",
   "execution_count": 164,
   "metadata": {},
   "outputs": [
    {
     "name": "stdout",
     "output_type": "stream",
     "text": [
      "Unknown    49.283118\n",
      "No         46.748788\n",
      "Yes         3.968094\n",
      "Name: hosp_yn, dtype: float64\n"
     ]
    }
   ],
   "source": [
    "# Rechecking to ensure the replacing of the value has taken effect\n",
    "hosp_contents  = 100 * (dfTest['hosp_yn'].value_counts()/dfTest.shape[0])\n",
    "print(hosp_contents)"
   ]
  },
  {
   "cell_type": "markdown",
   "metadata": {},
   "source": [
    "### icu_yn:\n",
    "- We will infer values from hosp_yn where possible as icu cannot equal yes while hospital equals no\n",
    "- A patient cannot attend the icu without attending the hospital"
   ]
  },
  {
   "cell_type": "code",
   "execution_count": 165,
   "metadata": {},
   "outputs": [
    {
     "data": {
      "text/html": [
       "<div>\n",
       "<style scoped>\n",
       "    .dataframe tbody tr th:only-of-type {\n",
       "        vertical-align: middle;\n",
       "    }\n",
       "\n",
       "    .dataframe tbody tr th {\n",
       "        vertical-align: top;\n",
       "    }\n",
       "\n",
       "    .dataframe thead th {\n",
       "        text-align: right;\n",
       "    }\n",
       "</style>\n",
       "<table border=\"1\" class=\"dataframe\">\n",
       "  <thead>\n",
       "    <tr style=\"text-align: right;\">\n",
       "      <th></th>\n",
       "      <th>hosp_yn</th>\n",
       "      <th>icu_yn</th>\n",
       "    </tr>\n",
       "  </thead>\n",
       "  <tbody>\n",
       "  </tbody>\n",
       "</table>\n",
       "</div>"
      ],
      "text/plain": [
       "Empty DataFrame\n",
       "Columns: [hosp_yn, icu_yn]\n",
       "Index: []"
      ]
     },
     "execution_count": 165,
     "metadata": {},
     "output_type": "execute_result"
    }
   ],
   "source": [
    "df_infer = dfTest.loc[(dfTest['hosp_yn'] != dfTest['icu_yn']) & (dfTest['icu_yn']=='Yes'), ['hosp_yn', 'icu_yn']]\n",
    "df_infer"
   ]
  },
  {
   "cell_type": "markdown",
   "metadata": {},
   "source": [
    "- There are no rows where hosp_yn is \"No\" while icu_yn is \"Yes\", no inferring needs to take place"
   ]
  },
  {
   "cell_type": "markdown",
   "metadata": {},
   "source": [
    "- We will check the % of null values for icu_yn"
   ]
  },
  {
   "cell_type": "code",
   "execution_count": 166,
   "metadata": {},
   "outputs": [
    {
     "data": {
      "text/plain": [
       "0.0"
      ]
     },
     "execution_count": 166,
     "metadata": {},
     "output_type": "execute_result"
    }
   ],
   "source": [
    "icu_data = 100 * (dfTest['icu_yn'].isnull().sum()/dfTest.shape[0])\n",
    "icu_data"
   ]
  },
  {
   "cell_type": "markdown",
   "metadata": {},
   "source": [
    "- There are no null values in the icu_yn column.\n",
    "- We will check the contents of the icu_yn column."
   ]
  },
  {
   "cell_type": "code",
   "execution_count": 167,
   "metadata": {},
   "outputs": [
    {
     "name": "stdout",
     "output_type": "stream",
     "text": [
      "Missing    80.563409\n",
      "Unknown    13.974152\n",
      "No          5.250404\n",
      "Yes         0.212036\n",
      "Name: icu_yn, dtype: float64\n"
     ]
    }
   ],
   "source": [
    "icu_contents  = 100 * (dfTest['icu_yn'].value_counts()/dfTest.shape[0])\n",
    "print(icu_contents)"
   ]
  },
  {
   "cell_type": "markdown",
   "metadata": {},
   "source": [
    "- There is a large number of Unknown and Missing values, we will combine these into a single Unknown value and keep"
   ]
  },
  {
   "cell_type": "code",
   "execution_count": 168,
   "metadata": {},
   "outputs": [],
   "source": [
    "dfTest['icu_yn'] = dfTest['icu_yn'].replace(\"Missing\", \"Unknown\")"
   ]
  },
  {
   "cell_type": "code",
   "execution_count": 169,
   "metadata": {},
   "outputs": [
    {
     "name": "stdout",
     "output_type": "stream",
     "text": [
      "Unknown    94.537561\n",
      "No          5.250404\n",
      "Yes         0.212036\n",
      "Name: icu_yn, dtype: float64\n"
     ]
    }
   ],
   "source": [
    "# Rechecking to ensure the replacing of the value has taken effect\n",
    "icu_contents  = 100 * (dfTest['icu_yn'].value_counts()/dfTest.shape[0])\n",
    "print(icu_contents)"
   ]
  },
  {
   "cell_type": "markdown",
   "metadata": {},
   "source": [
    "### medcond_yn:\n",
    "We will check the % of null values for hosp_yn then decide how to proceed with this column."
   ]
  },
  {
   "cell_type": "code",
   "execution_count": 170,
   "metadata": {},
   "outputs": [
    {
     "data": {
      "text/plain": [
       "0.0"
      ]
     },
     "execution_count": 170,
     "metadata": {},
     "output_type": "execute_result"
    }
   ],
   "source": [
    "medcond_data = 100 * (dfTest['medcond_yn'].isnull().sum()/dfTest.shape[0])\n",
    "medcond_data"
   ]
  },
  {
   "cell_type": "markdown",
   "metadata": {},
   "source": [
    "- There are no null values in the hosp_yn column.\n",
    "- We will check the contents of the hosp_yn column."
   ]
  },
  {
   "cell_type": "code",
   "execution_count": 171,
   "metadata": {},
   "outputs": [
    {
     "name": "stdout",
     "output_type": "stream",
     "text": [
      "Missing    79.311389\n",
      "Unknown    10.298869\n",
      "No          6.007674\n",
      "Yes         4.382068\n",
      "Name: medcond_yn, dtype: float64\n"
     ]
    }
   ],
   "source": [
    "medcond_contents  = 100 * (dfTest['medcond_yn'].value_counts()/dfTest.shape[0])\n",
    "print(medcond_contents)"
   ]
  },
  {
   "cell_type": "markdown",
   "metadata": {},
   "source": [
    "- There is a large number of Unknown and Missing values, we will combine these into a single Unknown value and keep"
   ]
  },
  {
   "cell_type": "code",
   "execution_count": 172,
   "metadata": {},
   "outputs": [],
   "source": [
    "dfTest['medcond_yn'] = dfTest['medcond_yn'].replace(\"Missing\", \"Unknown\")"
   ]
  },
  {
   "cell_type": "code",
   "execution_count": 173,
   "metadata": {},
   "outputs": [
    {
     "name": "stdout",
     "output_type": "stream",
     "text": [
      "Unknown    89.610258\n",
      "No          6.007674\n",
      "Yes         4.382068\n",
      "Name: medcond_yn, dtype: float64\n"
     ]
    }
   ],
   "source": [
    "# Rechecking contents to ensure the replacing of the value has taken effect\n",
    "medcond_contents  = 100 * (dfTest['medcond_yn'].value_counts()/dfTest.shape[0])\n",
    "print(medcond_contents)"
   ]
  },
  {
   "cell_type": "markdown",
   "metadata": {},
   "source": [
    "### death_yn:\n",
    "We will check the % of null values for death_yn then decide how to proceed with this column."
   ]
  },
  {
   "cell_type": "code",
   "execution_count": 174,
   "metadata": {},
   "outputs": [
    {
     "data": {
      "text/plain": [
       "0.0"
      ]
     },
     "execution_count": 174,
     "metadata": {},
     "output_type": "execute_result"
    }
   ],
   "source": [
    "death_data = 100 * (dfTest['death_yn'].isnull().sum()/dfTest.shape[0])\n",
    "death_data"
   ]
  },
  {
   "cell_type": "markdown",
   "metadata": {},
   "source": [
    "- There are no null values in the death_yn column.\n",
    "- We will check the contents of the death_yn column."
   ]
  },
  {
   "cell_type": "code",
   "execution_count": 175,
   "metadata": {},
   "outputs": [
    {
     "name": "stdout",
     "output_type": "stream",
     "text": [
      "No     98.788368\n",
      "Yes     1.211632\n",
      "Name: death_yn, dtype: float64\n"
     ]
    }
   ],
   "source": [
    "death_contents  = 100 * (dfTest['death_yn'].value_counts()/dfTest.shape[0])\n",
    "print(death_contents)"
   ]
  },
  {
   "cell_type": "markdown",
   "metadata": {},
   "source": [
    "- There is no Unknown, Missing or null values.\n",
    "- This data will be left untouched."
   ]
  },
  {
   "cell_type": "code",
   "execution_count": 176,
   "metadata": {},
   "outputs": [
    {
     "data": {
      "text/html": [
       "<div>\n",
       "<style scoped>\n",
       "    .dataframe tbody tr th:only-of-type {\n",
       "        vertical-align: middle;\n",
       "    }\n",
       "\n",
       "    .dataframe tbody tr th {\n",
       "        vertical-align: top;\n",
       "    }\n",
       "\n",
       "    .dataframe thead th {\n",
       "        text-align: right;\n",
       "    }\n",
       "</style>\n",
       "<table border=\"1\" class=\"dataframe\">\n",
       "  <thead>\n",
       "    <tr style=\"text-align: right;\">\n",
       "      <th></th>\n",
       "      <th>cdc_case_earliest_dt</th>\n",
       "      <th>current_status</th>\n",
       "      <th>sex</th>\n",
       "      <th>age_group</th>\n",
       "      <th>race_ethnicity_combined</th>\n",
       "      <th>hosp_yn</th>\n",
       "      <th>icu_yn</th>\n",
       "      <th>death_yn</th>\n",
       "      <th>medcond_yn</th>\n",
       "    </tr>\n",
       "  </thead>\n",
       "  <tbody>\n",
       "    <tr>\n",
       "      <th>0</th>\n",
       "      <td>2021/01/22</td>\n",
       "      <td>Probable Case</td>\n",
       "      <td>Female</td>\n",
       "      <td>0 - 9 Years</td>\n",
       "      <td>Asian, Non-Hispanic</td>\n",
       "      <td>No</td>\n",
       "      <td>Unknown</td>\n",
       "      <td>No</td>\n",
       "      <td>Unknown</td>\n",
       "    </tr>\n",
       "    <tr>\n",
       "      <th>1</th>\n",
       "      <td>2021/01/26</td>\n",
       "      <td>Laboratory-confirmed case</td>\n",
       "      <td>Female</td>\n",
       "      <td>30 - 39 Years</td>\n",
       "      <td>Unknown</td>\n",
       "      <td>Unknown</td>\n",
       "      <td>Unknown</td>\n",
       "      <td>No</td>\n",
       "      <td>Unknown</td>\n",
       "    </tr>\n",
       "    <tr>\n",
       "      <th>2</th>\n",
       "      <td>2021/02/03</td>\n",
       "      <td>Laboratory-confirmed case</td>\n",
       "      <td>Female</td>\n",
       "      <td>40 - 49 Years</td>\n",
       "      <td>Asian, Non-Hispanic</td>\n",
       "      <td>Unknown</td>\n",
       "      <td>Unknown</td>\n",
       "      <td>No</td>\n",
       "      <td>Unknown</td>\n",
       "    </tr>\n",
       "    <tr>\n",
       "      <th>3</th>\n",
       "      <td>2021/02/05</td>\n",
       "      <td>Laboratory-confirmed case</td>\n",
       "      <td>Male</td>\n",
       "      <td>40 - 49 Years</td>\n",
       "      <td>Hispanic/Latino</td>\n",
       "      <td>No</td>\n",
       "      <td>Unknown</td>\n",
       "      <td>No</td>\n",
       "      <td>No</td>\n",
       "    </tr>\n",
       "    <tr>\n",
       "      <th>4</th>\n",
       "      <td>2021/01/27</td>\n",
       "      <td>Laboratory-confirmed case</td>\n",
       "      <td>Female</td>\n",
       "      <td>40 - 49 Years</td>\n",
       "      <td>White, Non-Hispanic</td>\n",
       "      <td>No</td>\n",
       "      <td>Unknown</td>\n",
       "      <td>No</td>\n",
       "      <td>Unknown</td>\n",
       "    </tr>\n",
       "  </tbody>\n",
       "</table>\n",
       "</div>"
      ],
      "text/plain": [
       "  cdc_case_earliest_dt             current_status     sex      age_group  \\\n",
       "0           2021/01/22              Probable Case  Female    0 - 9 Years   \n",
       "1           2021/01/26  Laboratory-confirmed case  Female  30 - 39 Years   \n",
       "2           2021/02/03  Laboratory-confirmed case  Female  40 - 49 Years   \n",
       "3           2021/02/05  Laboratory-confirmed case    Male  40 - 49 Years   \n",
       "4           2021/01/27  Laboratory-confirmed case  Female  40 - 49 Years   \n",
       "\n",
       "  race_ethnicity_combined  hosp_yn   icu_yn death_yn medcond_yn  \n",
       "0     Asian, Non-Hispanic       No  Unknown       No    Unknown  \n",
       "1                 Unknown  Unknown  Unknown       No    Unknown  \n",
       "2     Asian, Non-Hispanic  Unknown  Unknown       No    Unknown  \n",
       "3         Hispanic/Latino       No  Unknown       No         No  \n",
       "4     White, Non-Hispanic       No  Unknown       No    Unknown  "
      ]
     },
     "execution_count": 176,
     "metadata": {},
     "output_type": "execute_result"
    }
   ],
   "source": [
    "# Write the test dataframe to a new csv file\n",
    "dfTest.to_csv('CleanedTestData.csv', index=False)\n",
    "dfTest.head()"
   ]
  },
  {
   "cell_type": "markdown",
   "metadata": {},
   "source": [
    "### Test Dataset Has Been Cleaned"
   ]
  },
  {
   "cell_type": "code",
   "execution_count": 177,
   "metadata": {},
   "outputs": [
    {
     "data": {
      "text/html": [
       "<div>\n",
       "<style scoped>\n",
       "    .dataframe tbody tr th:only-of-type {\n",
       "        vertical-align: middle;\n",
       "    }\n",
       "\n",
       "    .dataframe tbody tr th {\n",
       "        vertical-align: top;\n",
       "    }\n",
       "\n",
       "    .dataframe thead th {\n",
       "        text-align: right;\n",
       "    }\n",
       "</style>\n",
       "<table border=\"1\" class=\"dataframe\">\n",
       "  <thead>\n",
       "    <tr style=\"text-align: right;\">\n",
       "      <th></th>\n",
       "      <th>cdc_case_earliest_dt</th>\n",
       "      <th>current_status</th>\n",
       "      <th>sex</th>\n",
       "      <th>age_group</th>\n",
       "      <th>race_ethnicity_combined</th>\n",
       "      <th>hosp_yn</th>\n",
       "      <th>icu_yn</th>\n",
       "      <th>death_yn</th>\n",
       "      <th>medcond_yn</th>\n",
       "    </tr>\n",
       "  </thead>\n",
       "  <tbody>\n",
       "    <tr>\n",
       "      <th>0</th>\n",
       "      <td>2021/01/22</td>\n",
       "      <td>Probable Case</td>\n",
       "      <td>Female</td>\n",
       "      <td>0 - 9 Years</td>\n",
       "      <td>Asian, Non-Hispanic</td>\n",
       "      <td>No</td>\n",
       "      <td>Unknown</td>\n",
       "      <td>No</td>\n",
       "      <td>Unknown</td>\n",
       "    </tr>\n",
       "    <tr>\n",
       "      <th>1</th>\n",
       "      <td>2021/01/26</td>\n",
       "      <td>Laboratory-confirmed case</td>\n",
       "      <td>Female</td>\n",
       "      <td>30 - 39 Years</td>\n",
       "      <td>Unknown</td>\n",
       "      <td>Unknown</td>\n",
       "      <td>Unknown</td>\n",
       "      <td>No</td>\n",
       "      <td>Unknown</td>\n",
       "    </tr>\n",
       "    <tr>\n",
       "      <th>2</th>\n",
       "      <td>2021/02/03</td>\n",
       "      <td>Laboratory-confirmed case</td>\n",
       "      <td>Female</td>\n",
       "      <td>40 - 49 Years</td>\n",
       "      <td>Asian, Non-Hispanic</td>\n",
       "      <td>Unknown</td>\n",
       "      <td>Unknown</td>\n",
       "      <td>No</td>\n",
       "      <td>Unknown</td>\n",
       "    </tr>\n",
       "    <tr>\n",
       "      <th>3</th>\n",
       "      <td>2021/02/05</td>\n",
       "      <td>Laboratory-confirmed case</td>\n",
       "      <td>Male</td>\n",
       "      <td>40 - 49 Years</td>\n",
       "      <td>Hispanic/Latino</td>\n",
       "      <td>No</td>\n",
       "      <td>Unknown</td>\n",
       "      <td>No</td>\n",
       "      <td>No</td>\n",
       "    </tr>\n",
       "    <tr>\n",
       "      <th>4</th>\n",
       "      <td>2021/01/27</td>\n",
       "      <td>Laboratory-confirmed case</td>\n",
       "      <td>Female</td>\n",
       "      <td>40 - 49 Years</td>\n",
       "      <td>White, Non-Hispanic</td>\n",
       "      <td>No</td>\n",
       "      <td>Unknown</td>\n",
       "      <td>No</td>\n",
       "      <td>Unknown</td>\n",
       "    </tr>\n",
       "  </tbody>\n",
       "</table>\n",
       "</div>"
      ],
      "text/plain": [
       "  cdc_case_earliest_dt             current_status     sex      age_group  \\\n",
       "0           2021/01/22              Probable Case  Female    0 - 9 Years   \n",
       "1           2021/01/26  Laboratory-confirmed case  Female  30 - 39 Years   \n",
       "2           2021/02/03  Laboratory-confirmed case  Female  40 - 49 Years   \n",
       "3           2021/02/05  Laboratory-confirmed case    Male  40 - 49 Years   \n",
       "4           2021/01/27  Laboratory-confirmed case  Female  40 - 49 Years   \n",
       "\n",
       "  race_ethnicity_combined  hosp_yn   icu_yn death_yn medcond_yn  \n",
       "0     Asian, Non-Hispanic       No  Unknown       No    Unknown  \n",
       "1                 Unknown  Unknown  Unknown       No    Unknown  \n",
       "2     Asian, Non-Hispanic  Unknown  Unknown       No    Unknown  \n",
       "3         Hispanic/Latino       No  Unknown       No         No  \n",
       "4     White, Non-Hispanic       No  Unknown       No    Unknown  "
      ]
     },
     "execution_count": 177,
     "metadata": {},
     "output_type": "execute_result"
    }
   ],
   "source": [
    "# read in the cleaned test data\n",
    "dfTest = pd.read_csv(\"CleanedTestData.csv\", keep_default_na=True, sep=',\\s+', delimiter=',', skipinitialspace=True)\n",
    "dfTest.head(5)"
   ]
  },
  {
   "cell_type": "code",
   "execution_count": 178,
   "metadata": {},
   "outputs": [
    {
     "data": {
      "text/plain": [
       "(9904, 9)"
      ]
     },
     "execution_count": 178,
     "metadata": {},
     "output_type": "execute_result"
    }
   ],
   "source": [
    "dfTest.shape"
   ]
  },
  {
   "cell_type": "code",
   "execution_count": 179,
   "metadata": {},
   "outputs": [
    {
     "data": {
      "text/plain": [
       "cdc_case_earliest_dt       object\n",
       "current_status             object\n",
       "sex                        object\n",
       "age_group                  object\n",
       "race_ethnicity_combined    object\n",
       "hosp_yn                    object\n",
       "icu_yn                     object\n",
       "death_yn                   object\n",
       "medcond_yn                 object\n",
       "dtype: object"
      ]
     },
     "execution_count": 179,
     "metadata": {},
     "output_type": "execute_result"
    }
   ],
   "source": [
    "dfTest.dtypes"
   ]
  },
  {
   "cell_type": "code",
   "execution_count": 180,
   "metadata": {},
   "outputs": [
    {
     "data": {
      "text/plain": [
       "cdc_case_earliest_dt       0\n",
       "current_status             0\n",
       "sex                        0\n",
       "age_group                  0\n",
       "race_ethnicity_combined    0\n",
       "hosp_yn                    0\n",
       "icu_yn                     0\n",
       "death_yn                   0\n",
       "medcond_yn                 0\n",
       "dtype: int64"
      ]
     },
     "execution_count": 180,
     "metadata": {},
     "output_type": "execute_result"
    }
   ],
   "source": [
    "dfTest.isna().sum()"
   ]
  },
  {
   "cell_type": "markdown",
   "metadata": {},
   "source": [
    "#### Convert datatypes\n",
    "We will now review the datatypes and convert if needed. This will help avoid plotting errors later in the notebook\n",
    "- The target feature \"death_yn\" is type object, with values \"Yes\" & \"No\". These will be mapped 'Yes': 1, \"No\": 0 and stored as \"int64\"\n",
    "##### Select all categorical columns and convert to categorical type\n",
    "- This will be needed later when it will be required to convert categorical features into dummy features\n",
    "\n",
    "###### Setup continuous columns and convert to datetime format\n",
    "\n",
    "###### Finally set the target feature \"death_yn\" to int64 "
   ]
  },
  {
   "cell_type": "code",
   "execution_count": 181,
   "metadata": {},
   "outputs": [],
   "source": [
    "# convert death_yn to 0,1\n",
    "dfTest['death_yn'] = dfTest['death_yn'].map({'Yes': 1, \"No\": 0})"
   ]
  },
  {
   "cell_type": "code",
   "execution_count": 182,
   "metadata": {},
   "outputs": [
    {
     "data": {
      "text/plain": [
       "current_status             category\n",
       "sex                        category\n",
       "age_group                  category\n",
       "race_ethnicity_combined    category\n",
       "hosp_yn                    category\n",
       "icu_yn                     category\n",
       "death_yn                   category\n",
       "medcond_yn                 category\n",
       "dtype: object"
      ]
     },
     "execution_count": 182,
     "metadata": {},
     "output_type": "execute_result"
    }
   ],
   "source": [
    "# Select columns containing categorical data\n",
    "categorical_columns = dfTest[[\"current_status\",\"sex\",\"age_group\",\"race_ethnicity_combined\",\"hosp_yn\", 'icu_yn', 'death_yn',\n",
    "       'medcond_yn']].columns\n",
    "\n",
    "# Convert data type to category for these columns\n",
    "for column in categorical_columns:\n",
    "    dfTest[column] = dfTest[column].astype('category')\n",
    "\n",
    "dfTest[categorical_columns].dtypes"
   ]
  },
  {
   "cell_type": "code",
   "execution_count": 183,
   "metadata": {},
   "outputs": [
    {
     "data": {
      "text/plain": [
       "cdc_case_earliest_dt    datetime64[ns]\n",
       "dtype: object"
      ]
     },
     "execution_count": 183,
     "metadata": {},
     "output_type": "execute_result"
    }
   ],
   "source": [
    "# Converting cdc_case_earliest_dt to datetime\n",
    "dfTest['cdc_case_earliest_dt'] = pd.to_datetime(dfTest['cdc_case_earliest_dt'], infer_datetime_format=True)\n",
    "\n",
    "continuous_columns = dfTest.select_dtypes(['datetime64[ns]']).columns\n",
    "dfTest[continuous_columns].dtypes"
   ]
  },
  {
   "cell_type": "code",
   "execution_count": 184,
   "metadata": {},
   "outputs": [],
   "source": [
    "# convert \"death_yn\" to int64\n",
    "dfTest['death_yn'] = dfTest['death_yn'].astype('int64')\n",
    "# categorical_columns are now....\n",
    "categorical_columns = dfTest[[\"current_status\",\"sex\",\"age_group\",\"race_ethnicity_combined\",\"hosp_yn\", 'icu_yn', 'medcond_yn']].columns"
   ]
  },
  {
   "cell_type": "code",
   "execution_count": 185,
   "metadata": {},
   "outputs": [
    {
     "data": {
      "text/plain": [
       "cdc_case_earliest_dt       datetime64[ns]\n",
       "current_status                   category\n",
       "sex                              category\n",
       "age_group                        category\n",
       "race_ethnicity_combined          category\n",
       "hosp_yn                          category\n",
       "icu_yn                           category\n",
       "death_yn                            int64\n",
       "medcond_yn                       category\n",
       "dtype: object"
      ]
     },
     "execution_count": 185,
     "metadata": {},
     "output_type": "execute_result"
    }
   ],
   "source": [
    "dfTest.dtypes"
   ]
  },
  {
   "cell_type": "markdown",
   "metadata": {},
   "source": [
    "###### Drop features\n",
    "- Before dropping, we will duplicate the original dataframe, df and label it dfhighfeatuers. This will store the high correlation features for future use.\n",
    "- We will also duplicate the original dataframe, df, and label it df_rev1\n",
    "- We will drop features from this copy only (df_rev1)\n",
    "- This will allow us to revert to the original dataset later if we decide to compare the performance of the reduced dataset (df_rev1) with the original dataset (df)"
   ]
  },
  {
   "cell_type": "code",
   "execution_count": 186,
   "metadata": {},
   "outputs": [],
   "source": [
    "# Before dropping, making a copy of original that contains the high correlation features\n",
    "dfhighfeatuers2 = dfTest.copy()\n",
    "# Dropping all the low correlation features\n",
    "dfhighfeatuers2 = dfhighfeatuers2.drop(['current_status','sex','race_ethnicity_combined','cdc_case_earliest_dt'],1)"
   ]
  },
  {
   "cell_type": "code",
   "execution_count": 187,
   "metadata": {},
   "outputs": [
    {
     "name": "stdout",
     "output_type": "stream",
     "text": [
      "\n",
      "Remaining columns: Index(['current_status', 'sex', 'age_group', 'race_ethnicity_combined',\n",
      "       'hosp_yn', 'icu_yn', 'death_yn', 'medcond_yn'],\n",
      "      dtype='object')\n",
      "\n",
      "New shape: (9904, 8)\n"
     ]
    }
   ],
   "source": [
    "# before dropping make copy of original\n",
    "df_rev2 = dfTest.copy()\n",
    "\n",
    "# dropping cdc_case_earliest_dt from provided dataset to mirror our existing df\n",
    "# dfTest = dfTest.drop(['cdc_case_earliest_dt'], 1)\n",
    "\n",
    "# drop low value features\n",
    "# df_rev2.drop(low_value_continuous_features, 1, inplace=True)\n",
    "# df_rev2.drop(low_value_categorical_features, 1, inplace=True)\n",
    "df_rev2 = dfTest.drop(['cdc_case_earliest_dt'], 1)\n",
    "print('\\nRemaining columns:', df_rev2.columns)\n",
    "print('\\nNew shape:', df_rev2.shape)"
   ]
  },
  {
   "cell_type": "code",
   "execution_count": 188,
   "metadata": {},
   "outputs": [
    {
     "data": {
      "text/html": [
       "<div>\n",
       "<style scoped>\n",
       "    .dataframe tbody tr th:only-of-type {\n",
       "        vertical-align: middle;\n",
       "    }\n",
       "\n",
       "    .dataframe tbody tr th {\n",
       "        vertical-align: top;\n",
       "    }\n",
       "\n",
       "    .dataframe thead th {\n",
       "        text-align: right;\n",
       "    }\n",
       "</style>\n",
       "<table border=\"1\" class=\"dataframe\">\n",
       "  <thead>\n",
       "    <tr style=\"text-align: right;\">\n",
       "      <th></th>\n",
       "      <th>current_status</th>\n",
       "      <th>sex</th>\n",
       "      <th>age_group</th>\n",
       "      <th>race_ethnicity_combined</th>\n",
       "      <th>hosp_yn</th>\n",
       "      <th>icu_yn</th>\n",
       "      <th>death_yn</th>\n",
       "      <th>medcond_yn</th>\n",
       "    </tr>\n",
       "  </thead>\n",
       "  <tbody>\n",
       "    <tr>\n",
       "      <th>0</th>\n",
       "      <td>Probable Case</td>\n",
       "      <td>Female</td>\n",
       "      <td>0 - 9 Years</td>\n",
       "      <td>Asian, Non-Hispanic</td>\n",
       "      <td>No</td>\n",
       "      <td>Unknown</td>\n",
       "      <td>0</td>\n",
       "      <td>Unknown</td>\n",
       "    </tr>\n",
       "    <tr>\n",
       "      <th>1</th>\n",
       "      <td>Laboratory-confirmed case</td>\n",
       "      <td>Female</td>\n",
       "      <td>30 - 39 Years</td>\n",
       "      <td>Unknown</td>\n",
       "      <td>Unknown</td>\n",
       "      <td>Unknown</td>\n",
       "      <td>0</td>\n",
       "      <td>Unknown</td>\n",
       "    </tr>\n",
       "    <tr>\n",
       "      <th>2</th>\n",
       "      <td>Laboratory-confirmed case</td>\n",
       "      <td>Female</td>\n",
       "      <td>40 - 49 Years</td>\n",
       "      <td>Asian, Non-Hispanic</td>\n",
       "      <td>Unknown</td>\n",
       "      <td>Unknown</td>\n",
       "      <td>0</td>\n",
       "      <td>Unknown</td>\n",
       "    </tr>\n",
       "    <tr>\n",
       "      <th>3</th>\n",
       "      <td>Laboratory-confirmed case</td>\n",
       "      <td>Male</td>\n",
       "      <td>40 - 49 Years</td>\n",
       "      <td>Hispanic/Latino</td>\n",
       "      <td>No</td>\n",
       "      <td>Unknown</td>\n",
       "      <td>0</td>\n",
       "      <td>No</td>\n",
       "    </tr>\n",
       "    <tr>\n",
       "      <th>4</th>\n",
       "      <td>Laboratory-confirmed case</td>\n",
       "      <td>Female</td>\n",
       "      <td>40 - 49 Years</td>\n",
       "      <td>White, Non-Hispanic</td>\n",
       "      <td>No</td>\n",
       "      <td>Unknown</td>\n",
       "      <td>0</td>\n",
       "      <td>Unknown</td>\n",
       "    </tr>\n",
       "    <tr>\n",
       "      <th>...</th>\n",
       "      <td>...</td>\n",
       "      <td>...</td>\n",
       "      <td>...</td>\n",
       "      <td>...</td>\n",
       "      <td>...</td>\n",
       "      <td>...</td>\n",
       "      <td>...</td>\n",
       "      <td>...</td>\n",
       "    </tr>\n",
       "    <tr>\n",
       "      <th>9899</th>\n",
       "      <td>Laboratory-confirmed case</td>\n",
       "      <td>Male</td>\n",
       "      <td>30 - 39 Years</td>\n",
       "      <td>Unknown</td>\n",
       "      <td>Unknown</td>\n",
       "      <td>Unknown</td>\n",
       "      <td>0</td>\n",
       "      <td>Unknown</td>\n",
       "    </tr>\n",
       "    <tr>\n",
       "      <th>9900</th>\n",
       "      <td>Laboratory-confirmed case</td>\n",
       "      <td>Female</td>\n",
       "      <td>50 - 59 Years</td>\n",
       "      <td>Unknown</td>\n",
       "      <td>No</td>\n",
       "      <td>Unknown</td>\n",
       "      <td>0</td>\n",
       "      <td>Unknown</td>\n",
       "    </tr>\n",
       "    <tr>\n",
       "      <th>9901</th>\n",
       "      <td>Laboratory-confirmed case</td>\n",
       "      <td>Female</td>\n",
       "      <td>10 - 19 Years</td>\n",
       "      <td>White, Non-Hispanic</td>\n",
       "      <td>Unknown</td>\n",
       "      <td>Unknown</td>\n",
       "      <td>0</td>\n",
       "      <td>Unknown</td>\n",
       "    </tr>\n",
       "    <tr>\n",
       "      <th>9902</th>\n",
       "      <td>Laboratory-confirmed case</td>\n",
       "      <td>Male</td>\n",
       "      <td>20 - 29 Years</td>\n",
       "      <td>Unknown</td>\n",
       "      <td>Unknown</td>\n",
       "      <td>Unknown</td>\n",
       "      <td>0</td>\n",
       "      <td>Unknown</td>\n",
       "    </tr>\n",
       "    <tr>\n",
       "      <th>9903</th>\n",
       "      <td>Laboratory-confirmed case</td>\n",
       "      <td>Male</td>\n",
       "      <td>40 - 49 Years</td>\n",
       "      <td>White, Non-Hispanic</td>\n",
       "      <td>No</td>\n",
       "      <td>Unknown</td>\n",
       "      <td>0</td>\n",
       "      <td>Unknown</td>\n",
       "    </tr>\n",
       "  </tbody>\n",
       "</table>\n",
       "<p>9904 rows × 8 columns</p>\n",
       "</div>"
      ],
      "text/plain": [
       "                 current_status     sex      age_group  \\\n",
       "0                 Probable Case  Female    0 - 9 Years   \n",
       "1     Laboratory-confirmed case  Female  30 - 39 Years   \n",
       "2     Laboratory-confirmed case  Female  40 - 49 Years   \n",
       "3     Laboratory-confirmed case    Male  40 - 49 Years   \n",
       "4     Laboratory-confirmed case  Female  40 - 49 Years   \n",
       "...                         ...     ...            ...   \n",
       "9899  Laboratory-confirmed case    Male  30 - 39 Years   \n",
       "9900  Laboratory-confirmed case  Female  50 - 59 Years   \n",
       "9901  Laboratory-confirmed case  Female  10 - 19 Years   \n",
       "9902  Laboratory-confirmed case    Male  20 - 29 Years   \n",
       "9903  Laboratory-confirmed case    Male  40 - 49 Years   \n",
       "\n",
       "     race_ethnicity_combined  hosp_yn   icu_yn  death_yn medcond_yn  \n",
       "0        Asian, Non-Hispanic       No  Unknown         0    Unknown  \n",
       "1                    Unknown  Unknown  Unknown         0    Unknown  \n",
       "2        Asian, Non-Hispanic  Unknown  Unknown         0    Unknown  \n",
       "3            Hispanic/Latino       No  Unknown         0         No  \n",
       "4        White, Non-Hispanic       No  Unknown         0    Unknown  \n",
       "...                      ...      ...      ...       ...        ...  \n",
       "9899                 Unknown  Unknown  Unknown         0    Unknown  \n",
       "9900                 Unknown       No  Unknown         0    Unknown  \n",
       "9901     White, Non-Hispanic  Unknown  Unknown         0    Unknown  \n",
       "9902                 Unknown  Unknown  Unknown         0    Unknown  \n",
       "9903     White, Non-Hispanic       No  Unknown         0    Unknown  \n",
       "\n",
       "[9904 rows x 8 columns]"
      ]
     },
     "execution_count": 188,
     "metadata": {},
     "output_type": "execute_result"
    }
   ],
   "source": [
    "df_rev2"
   ]
  },
  {
   "cell_type": "markdown",
   "metadata": {},
   "source": [
    "###### Preparing the dataset for modeling & Splitting the dataset\n",
    "- We will now convert the categorical variables into dummies variable to allow modeling\n",
    "- This is based on the dataset with dummy values\n",
    "- The Target is stored in dataframe \"y\"\n",
    "- The remaining features are stored in dataframe \"X\"\n",
    "- Both are split into training and test subsets"
   ]
  },
  {
   "cell_type": "code",
   "execution_count": 189,
   "metadata": {},
   "outputs": [
    {
     "data": {
      "text/plain": [
       "current_status_Probable Case                                                    uint8\n",
       "sex_Male                                                                        uint8\n",
       "sex_Other                                                                       uint8\n",
       "age_group_10 - 19 Years                                                         uint8\n",
       "age_group_20 - 29 Years                                                         uint8\n",
       "age_group_30 - 39 Years                                                         uint8\n",
       "age_group_40 - 49 Years                                                         uint8\n",
       "age_group_50 - 59 Years                                                         uint8\n",
       "age_group_60 - 69 Years                                                         uint8\n",
       "age_group_70 - 79 Years                                                         uint8\n",
       "age_group_80+ Years                                                             uint8\n",
       "race_ethnicity_combined_Asian, Non-Hispanic                                     uint8\n",
       "race_ethnicity_combined_Black, Non-Hispanic                                     uint8\n",
       "race_ethnicity_combined_Hispanic/Latino                                         uint8\n",
       "race_ethnicity_combined_Multiple/Other, Non-Hispanic                            uint8\n",
       "race_ethnicity_combined_Native Hawaiian/Other Pacific Islander, Non-Hispanic    uint8\n",
       "race_ethnicity_combined_Unknown                                                 uint8\n",
       "race_ethnicity_combined_White, Non-Hispanic                                     uint8\n",
       "hosp_yn_Unknown                                                                 uint8\n",
       "hosp_yn_Yes                                                                     uint8\n",
       "icu_yn_Unknown                                                                  uint8\n",
       "icu_yn_Yes                                                                      uint8\n",
       "death_yn_1                                                                      uint8\n",
       "medcond_yn_Unknown                                                              uint8\n",
       "medcond_yn_Yes                                                                  uint8\n",
       "dtype: object"
      ]
     },
     "execution_count": 189,
     "metadata": {},
     "output_type": "execute_result"
    }
   ],
   "source": [
    "df_rev2 = pd.get_dummies(df_rev2, columns=['current_status','sex','age_group','race_ethnicity_combined', 'hosp_yn','icu_yn', 'death_yn','medcond_yn'], drop_first=True)\n",
    "df_rev2.dtypes"
   ]
  },
  {
   "cell_type": "code",
   "execution_count": 190,
   "metadata": {},
   "outputs": [
    {
     "data": {
      "text/plain": [
       "current_status_Probable Case                                                    uint8\n",
       "sex_Male                                                                        uint8\n",
       "sex_Other                                                                       uint8\n",
       "age_group_10 - 19 Years                                                         uint8\n",
       "age_group_20 - 29 Years                                                         uint8\n",
       "age_group_30 - 39 Years                                                         uint8\n",
       "age_group_40 - 49 Years                                                         uint8\n",
       "age_group_50 - 59 Years                                                         uint8\n",
       "age_group_60 - 69 Years                                                         uint8\n",
       "age_group_70 - 79 Years                                                         uint8\n",
       "age_group_80+ Years                                                             uint8\n",
       "race_ethnicity_combined_Asian, Non-Hispanic                                     uint8\n",
       "race_ethnicity_combined_Black, Non-Hispanic                                     uint8\n",
       "race_ethnicity_combined_Hispanic/Latino                                         uint8\n",
       "race_ethnicity_combined_Multiple/Other, Non-Hispanic                            uint8\n",
       "race_ethnicity_combined_Native Hawaiian/Other Pacific Islander, Non-Hispanic    uint8\n",
       "race_ethnicity_combined_Unknown                                                 uint8\n",
       "race_ethnicity_combined_White, Non-Hispanic                                     uint8\n",
       "hosp_yn_Unknown                                                                 uint8\n",
       "hosp_yn_Yes                                                                     uint8\n",
       "icu_yn_Unknown                                                                  uint8\n",
       "icu_yn_Yes                                                                      uint8\n",
       "death_yn_1                                                                      uint8\n",
       "medcond_yn_Unknown                                                              uint8\n",
       "medcond_yn_Yes                                                                  uint8\n",
       "dtype: object"
      ]
     },
     "execution_count": 190,
     "metadata": {},
     "output_type": "execute_result"
    }
   ],
   "source": [
    "df_rev2 = pd.get_dummies(df_rev2, drop_first=True)\n",
    "df_rev2.dtypes"
   ]
  },
  {
   "cell_type": "code",
   "execution_count": 191,
   "metadata": {},
   "outputs": [],
   "source": [
    "# y is the target\n",
    "y = df_rev2[\"death_yn_1\"]\n",
    "# X is everything else\n",
    "X = df_rev2.drop([\"death_yn_1\"],1)\n",
    "\n",
    "# # Split the dataset into two datasets: 70% training and 30% test\n",
    "# X_train, X_test, y_train, y_test = train_test_split(X, y, random_state=1,  test_size=0.3)\n",
    "\n",
    "# print(\"original range is: \",df_rev2.shape[0])\n",
    "# print(\"training range (70%):\\t rows 0 to\", round(X_train.shape[0]))\n",
    "# print(\"test range (30%): \\t rows\", round(X_train.shape[0]), \"to\", round(X_train.shape[0]) + X_test.shape[0])"
   ]
  },
  {
   "cell_type": "markdown",
   "metadata": {},
   "source": [
    "###### Preparing the dataset for modeling & Splitting the datasetUsing Random Forest Prediction Modelling for evaluation"
   ]
  },
  {
   "cell_type": "code",
   "execution_count": 192,
   "metadata": {},
   "outputs": [
    {
     "data": {
      "text/plain": [
       "RandomForestClassifier(n_estimators=1, oob_score=True, random_state=1)"
      ]
     },
     "execution_count": 192,
     "metadata": {},
     "output_type": "execute_result"
    }
   ],
   "source": [
    "# Train RF with 100 trees\n",
    "rfc = RandomForestClassifier(n_estimators=1, max_features='auto', oob_score=True, random_state=1)\n",
    "rfc.fit(X, y)"
   ]
  },
  {
   "cell_type": "code",
   "execution_count": 193,
   "metadata": {},
   "outputs": [
    {
     "data": {
      "text/html": [
       "<div>\n",
       "<style scoped>\n",
       "    .dataframe tbody tr th:only-of-type {\n",
       "        vertical-align: middle;\n",
       "    }\n",
       "\n",
       "    .dataframe tbody tr th {\n",
       "        vertical-align: top;\n",
       "    }\n",
       "\n",
       "    .dataframe thead th {\n",
       "        text-align: right;\n",
       "    }\n",
       "</style>\n",
       "<table border=\"1\" class=\"dataframe\">\n",
       "  <thead>\n",
       "    <tr style=\"text-align: right;\">\n",
       "      <th></th>\n",
       "      <th>feature</th>\n",
       "      <th>importance</th>\n",
       "    </tr>\n",
       "  </thead>\n",
       "  <tbody>\n",
       "    <tr>\n",
       "      <th>19</th>\n",
       "      <td>hosp_yn_Yes</td>\n",
       "      <td>0.238867</td>\n",
       "    </tr>\n",
       "    <tr>\n",
       "      <th>10</th>\n",
       "      <td>age_group_80+ Years</td>\n",
       "      <td>0.144184</td>\n",
       "    </tr>\n",
       "    <tr>\n",
       "      <th>1</th>\n",
       "      <td>sex_Male</td>\n",
       "      <td>0.085774</td>\n",
       "    </tr>\n",
       "    <tr>\n",
       "      <th>23</th>\n",
       "      <td>medcond_yn_Yes</td>\n",
       "      <td>0.072689</td>\n",
       "    </tr>\n",
       "    <tr>\n",
       "      <th>8</th>\n",
       "      <td>age_group_60 - 69 Years</td>\n",
       "      <td>0.070628</td>\n",
       "    </tr>\n",
       "    <tr>\n",
       "      <th>21</th>\n",
       "      <td>icu_yn_Yes</td>\n",
       "      <td>0.066943</td>\n",
       "    </tr>\n",
       "    <tr>\n",
       "      <th>0</th>\n",
       "      <td>current_status_Probable Case</td>\n",
       "      <td>0.061377</td>\n",
       "    </tr>\n",
       "    <tr>\n",
       "      <th>14</th>\n",
       "      <td>race_ethnicity_combined_Multiple/Other, Non-Hi...</td>\n",
       "      <td>0.055714</td>\n",
       "    </tr>\n",
       "    <tr>\n",
       "      <th>18</th>\n",
       "      <td>hosp_yn_Unknown</td>\n",
       "      <td>0.049363</td>\n",
       "    </tr>\n",
       "    <tr>\n",
       "      <th>12</th>\n",
       "      <td>race_ethnicity_combined_Black, Non-Hispanic</td>\n",
       "      <td>0.034600</td>\n",
       "    </tr>\n",
       "    <tr>\n",
       "      <th>22</th>\n",
       "      <td>medcond_yn_Unknown</td>\n",
       "      <td>0.022967</td>\n",
       "    </tr>\n",
       "    <tr>\n",
       "      <th>20</th>\n",
       "      <td>icu_yn_Unknown</td>\n",
       "      <td>0.018687</td>\n",
       "    </tr>\n",
       "    <tr>\n",
       "      <th>9</th>\n",
       "      <td>age_group_70 - 79 Years</td>\n",
       "      <td>0.017270</td>\n",
       "    </tr>\n",
       "    <tr>\n",
       "      <th>17</th>\n",
       "      <td>race_ethnicity_combined_White, Non-Hispanic</td>\n",
       "      <td>0.010441</td>\n",
       "    </tr>\n",
       "    <tr>\n",
       "      <th>16</th>\n",
       "      <td>race_ethnicity_combined_Unknown</td>\n",
       "      <td>0.009637</td>\n",
       "    </tr>\n",
       "    <tr>\n",
       "      <th>7</th>\n",
       "      <td>age_group_50 - 59 Years</td>\n",
       "      <td>0.008654</td>\n",
       "    </tr>\n",
       "    <tr>\n",
       "      <th>5</th>\n",
       "      <td>age_group_30 - 39 Years</td>\n",
       "      <td>0.008350</td>\n",
       "    </tr>\n",
       "    <tr>\n",
       "      <th>11</th>\n",
       "      <td>race_ethnicity_combined_Asian, Non-Hispanic</td>\n",
       "      <td>0.007709</td>\n",
       "    </tr>\n",
       "    <tr>\n",
       "      <th>6</th>\n",
       "      <td>age_group_40 - 49 Years</td>\n",
       "      <td>0.007132</td>\n",
       "    </tr>\n",
       "    <tr>\n",
       "      <th>4</th>\n",
       "      <td>age_group_20 - 29 Years</td>\n",
       "      <td>0.005553</td>\n",
       "    </tr>\n",
       "    <tr>\n",
       "      <th>13</th>\n",
       "      <td>race_ethnicity_combined_Hispanic/Latino</td>\n",
       "      <td>0.002033</td>\n",
       "    </tr>\n",
       "    <tr>\n",
       "      <th>3</th>\n",
       "      <td>age_group_10 - 19 Years</td>\n",
       "      <td>0.001336</td>\n",
       "    </tr>\n",
       "    <tr>\n",
       "      <th>15</th>\n",
       "      <td>race_ethnicity_combined_Native Hawaiian/Other ...</td>\n",
       "      <td>0.000091</td>\n",
       "    </tr>\n",
       "    <tr>\n",
       "      <th>2</th>\n",
       "      <td>sex_Other</td>\n",
       "      <td>0.000002</td>\n",
       "    </tr>\n",
       "  </tbody>\n",
       "</table>\n",
       "</div>"
      ],
      "text/plain": [
       "                                              feature  importance\n",
       "19                                        hosp_yn_Yes    0.238867\n",
       "10                                age_group_80+ Years    0.144184\n",
       "1                                            sex_Male    0.085774\n",
       "23                                     medcond_yn_Yes    0.072689\n",
       "8                             age_group_60 - 69 Years    0.070628\n",
       "21                                         icu_yn_Yes    0.066943\n",
       "0                        current_status_Probable Case    0.061377\n",
       "14  race_ethnicity_combined_Multiple/Other, Non-Hi...    0.055714\n",
       "18                                    hosp_yn_Unknown    0.049363\n",
       "12        race_ethnicity_combined_Black, Non-Hispanic    0.034600\n",
       "22                                 medcond_yn_Unknown    0.022967\n",
       "20                                     icu_yn_Unknown    0.018687\n",
       "9                             age_group_70 - 79 Years    0.017270\n",
       "17        race_ethnicity_combined_White, Non-Hispanic    0.010441\n",
       "16                    race_ethnicity_combined_Unknown    0.009637\n",
       "7                             age_group_50 - 59 Years    0.008654\n",
       "5                             age_group_30 - 39 Years    0.008350\n",
       "11        race_ethnicity_combined_Asian, Non-Hispanic    0.007709\n",
       "6                             age_group_40 - 49 Years    0.007132\n",
       "4                             age_group_20 - 29 Years    0.005553\n",
       "13            race_ethnicity_combined_Hispanic/Latino    0.002033\n",
       "3                             age_group_10 - 19 Years    0.001336\n",
       "15  race_ethnicity_combined_Native Hawaiian/Other ...    0.000091\n",
       "2                                           sex_Other    0.000002"
      ]
     },
     "execution_count": 193,
     "metadata": {},
     "output_type": "execute_result"
    }
   ],
   "source": [
    "importance = pd.DataFrame({'feature': X.columns, 'importance':rfc.feature_importances_})\n",
    "importance.sort_values('importance', ascending=False)"
   ]
  },
  {
   "cell_type": "code",
   "execution_count": 194,
   "metadata": {},
   "outputs": [
    {
     "data": {
      "text/html": [
       "<div>\n",
       "<style scoped>\n",
       "    .dataframe tbody tr th:only-of-type {\n",
       "        vertical-align: middle;\n",
       "    }\n",
       "\n",
       "    .dataframe tbody tr th {\n",
       "        vertical-align: top;\n",
       "    }\n",
       "\n",
       "    .dataframe thead th {\n",
       "        text-align: right;\n",
       "    }\n",
       "</style>\n",
       "<table border=\"1\" class=\"dataframe\">\n",
       "  <thead>\n",
       "    <tr style=\"text-align: right;\">\n",
       "      <th></th>\n",
       "      <th>ActualClass</th>\n",
       "      <th>PredictedClass</th>\n",
       "    </tr>\n",
       "  </thead>\n",
       "  <tbody>\n",
       "    <tr>\n",
       "      <th>0</th>\n",
       "      <td>0</td>\n",
       "      <td>0</td>\n",
       "    </tr>\n",
       "    <tr>\n",
       "      <th>1</th>\n",
       "      <td>0</td>\n",
       "      <td>0</td>\n",
       "    </tr>\n",
       "    <tr>\n",
       "      <th>2</th>\n",
       "      <td>0</td>\n",
       "      <td>0</td>\n",
       "    </tr>\n",
       "    <tr>\n",
       "      <th>3</th>\n",
       "      <td>0</td>\n",
       "      <td>0</td>\n",
       "    </tr>\n",
       "    <tr>\n",
       "      <th>4</th>\n",
       "      <td>0</td>\n",
       "      <td>0</td>\n",
       "    </tr>\n",
       "    <tr>\n",
       "      <th>...</th>\n",
       "      <td>...</td>\n",
       "      <td>...</td>\n",
       "    </tr>\n",
       "    <tr>\n",
       "      <th>95</th>\n",
       "      <td>0</td>\n",
       "      <td>0</td>\n",
       "    </tr>\n",
       "    <tr>\n",
       "      <th>96</th>\n",
       "      <td>0</td>\n",
       "      <td>0</td>\n",
       "    </tr>\n",
       "    <tr>\n",
       "      <th>97</th>\n",
       "      <td>0</td>\n",
       "      <td>0</td>\n",
       "    </tr>\n",
       "    <tr>\n",
       "      <th>98</th>\n",
       "      <td>0</td>\n",
       "      <td>0</td>\n",
       "    </tr>\n",
       "    <tr>\n",
       "      <th>99</th>\n",
       "      <td>0</td>\n",
       "      <td>0</td>\n",
       "    </tr>\n",
       "  </tbody>\n",
       "</table>\n",
       "<p>100 rows × 2 columns</p>\n",
       "</div>"
      ],
      "text/plain": [
       "    ActualClass  PredictedClass\n",
       "0             0               0\n",
       "1             0               0\n",
       "2             0               0\n",
       "3             0               0\n",
       "4             0               0\n",
       "..          ...             ...\n",
       "95            0               0\n",
       "96            0               0\n",
       "97            0               0\n",
       "98            0               0\n",
       "99            0               0\n",
       "\n",
       "[100 rows x 2 columns]"
      ]
     },
     "execution_count": 194,
     "metadata": {},
     "output_type": "execute_result"
    }
   ],
   "source": [
    "# Predicted class labels for all examples, \n",
    "# using the trained model, on in-sample data (same sample used for training and test)\n",
    "rfc_predictions_train = rfc.predict(X)\n",
    "df_true_vs_rfc_predicted = pd.DataFrame({'ActualClass': y, 'PredictedClass': rfc_predictions_train})\n",
    "df_true_vs_rfc_predicted.head(100)"
   ]
  },
  {
   "cell_type": "code",
   "execution_count": 195,
   "metadata": {},
   "outputs": [
    {
     "name": "stdout",
     "output_type": "stream",
     "text": [
      "==================== Test Data Metrics =======================\n",
      "Accuracy:  0.9879846526655897\n",
      "Confusion matrix: \n",
      " [[9748   36]\n",
      " [  83   37]]\n",
      "Classification report:\n",
      "                precision    recall  f1-score   support\n",
      "\n",
      "           0       0.99      1.00      0.99      9784\n",
      "           1       0.51      0.31      0.38       120\n",
      "\n",
      "    accuracy                           0.99      9904\n",
      "   macro avg       0.75      0.65      0.69      9904\n",
      "weighted avg       0.99      0.99      0.99      9904\n",
      "\n",
      "======================================================\n"
     ]
    }
   ],
   "source": [
    "print(\"==================== Test Data Metrics =======================\")\n",
    "print(\"Accuracy: \", metrics.accuracy_score(y, rfc_predictions_train))\n",
    "print(\"Confusion matrix: \\n\", metrics.confusion_matrix(y, rfc_predictions_train))\n",
    "print(\"Classification report:\\n \", metrics.classification_report(y, rfc_predictions_train))\n",
    "print(\"======================================================\")"
   ]
  },
  {
   "cell_type": "markdown",
   "metadata": {},
   "source": [
    "Interpretation of results\n",
    "- Accuracy\n",
    "    - We have an accuracy of 98.8%\n",
    "    \n",
    "- Confusion Matrix\n",
    "    - [0][0] TRUE NEGATIVE - The number predicted 0 that was actually 0\n",
    "    - [0][1] FALSE POSITIVE - The number predicted 1 that is actually 0\n",
    "    - [1][0] FALSE NEGATIVE - The number predicted 0 that is actually 1\n",
    "    - [1][1] TRUE POSITIVE - The number predicted 1 that is actually 1\n",
    "    - We can see 83 false negatives from our confusion matrix. In real-world terms, this means we predicted 83 to live, where they actually died. This is quite a good score and is perhaps the most significant number in this confusion matrix.\n",
    "\n",
    "- Precision - How good model is a prediction the positive class\n",
    "    - What % of the predicted positive are actually positive\n",
    "    - It is the number values correctly predicted positive over the total number of  positive values\n",
    "    - In other words, it is true positives/(true positives + false negatives).\n",
    "    - Precision Positive is 0.51\n",
    "    - Precision Negative is 0.99\n",
    "- Recall - What % of the positive values did we predict\n",
    "    - What % of the positive values did we predict\n",
    "    - This relates to the the number of values which were correctly predicted positive over the total number of positive predictions that could have been made.\n",
    "    - In other words, it is true positives/(true positives + false negatives).\n",
    "    - Recall Positive is 0.31\n",
    "    - Recall Negative is 1.00\n",
    "- F1 Score - Is an a weighted average of Precision and recall\n",
    "    - Is an a weighted average of Precision and recall\n",
    "    - F1 Score Positive is 0.38\n",
    "    - F1 Score Negative is 0.99\n",
    "\n",
    "\n",
    "Summary\n",
    "- These results are higher than any previous results achieved by the linear regression, logistic regression or the random forest.\n",
    "- The recall and f1 scores are slightly low in the grand scheme, but are the highest figures we have obtained. This a great result considering the imbalanced nature of our dataset\n"
   ]
  },
  {
   "cell_type": "markdown",
   "metadata": {},
   "source": [
    "- Printing the results of our test data on our best trained model"
   ]
  },
  {
   "cell_type": "code",
   "execution_count": 196,
   "metadata": {},
   "outputs": [
    {
     "name": "stdout",
     "output_type": "stream",
     "text": [
      "Mean results from 10 fold cross validation are:\n"
     ]
    },
    {
     "data": {
      "text/html": [
       "<div>\n",
       "<style scoped>\n",
       "    .dataframe tbody tr th:only-of-type {\n",
       "        vertical-align: middle;\n",
       "    }\n",
       "\n",
       "    .dataframe tbody tr th {\n",
       "        vertical-align: top;\n",
       "    }\n",
       "\n",
       "    .dataframe thead th {\n",
       "        text-align: right;\n",
       "    }\n",
       "</style>\n",
       "<table border=\"1\" class=\"dataframe\">\n",
       "  <thead>\n",
       "    <tr style=\"text-align: right;\">\n",
       "      <th></th>\n",
       "      <th>Random_Forests</th>\n",
       "    </tr>\n",
       "  </thead>\n",
       "  <tbody>\n",
       "    <tr>\n",
       "      <th>accuracy</th>\n",
       "      <td>0.986874</td>\n",
       "    </tr>\n",
       "    <tr>\n",
       "      <th>precision</th>\n",
       "      <td>0.400606</td>\n",
       "    </tr>\n",
       "    <tr>\n",
       "      <th>recall</th>\n",
       "      <td>0.141667</td>\n",
       "    </tr>\n",
       "    <tr>\n",
       "      <th>f1</th>\n",
       "      <td>0.199789</td>\n",
       "    </tr>\n",
       "  </tbody>\n",
       "</table>\n",
       "</div>"
      ],
      "text/plain": [
       "           Random_Forests\n",
       "accuracy         0.986874\n",
       "precision        0.400606\n",
       "recall           0.141667\n",
       "f1               0.199789"
      ]
     },
     "execution_count": 196,
     "metadata": {},
     "output_type": "execute_result"
    }
   ],
   "source": [
    "RandomForestDF = cross_val_RandomForest_DF(X,y)\n",
    "print(f\"Mean results from 10 fold cross validation are:\")\n",
    "RandomForestDF"
   ]
  },
  {
   "cell_type": "markdown",
   "metadata": {},
   "source": [
    "- Comparing our test data to our previous best run metrics"
   ]
  },
  {
   "cell_type": "code",
   "execution_count": 197,
   "metadata": {},
   "outputs": [
    {
     "data": {
      "text/html": [
       "<div>\n",
       "<style scoped>\n",
       "    .dataframe tbody tr th:only-of-type {\n",
       "        vertical-align: middle;\n",
       "    }\n",
       "\n",
       "    .dataframe tbody tr th {\n",
       "        vertical-align: top;\n",
       "    }\n",
       "\n",
       "    .dataframe thead th {\n",
       "        text-align: right;\n",
       "    }\n",
       "</style>\n",
       "<table border=\"1\" class=\"dataframe\">\n",
       "  <thead>\n",
       "    <tr style=\"text-align: right;\">\n",
       "      <th></th>\n",
       "      <th>Linear_Regression</th>\n",
       "      <th>Logistic_Regression</th>\n",
       "      <th>Random_Forests</th>\n",
       "    </tr>\n",
       "  </thead>\n",
       "  <tbody>\n",
       "    <tr>\n",
       "      <th>accuracy</th>\n",
       "      <td>0.966947</td>\n",
       "      <td>0.967849</td>\n",
       "      <td>0.966737</td>\n",
       "    </tr>\n",
       "    <tr>\n",
       "      <th>precision</th>\n",
       "      <td>0.483945</td>\n",
       "      <td>0.525733</td>\n",
       "      <td>0.495335</td>\n",
       "    </tr>\n",
       "    <tr>\n",
       "      <th>recall</th>\n",
       "      <td>0.044780</td>\n",
       "      <td>0.258807</td>\n",
       "      <td>0.283428</td>\n",
       "    </tr>\n",
       "    <tr>\n",
       "      <th>f1</th>\n",
       "      <td>0.081062</td>\n",
       "      <td>0.342245</td>\n",
       "      <td>0.358536</td>\n",
       "    </tr>\n",
       "  </tbody>\n",
       "</table>\n",
       "</div>"
      ],
      "text/plain": [
       "           Linear_Regression  Logistic_Regression  Random_Forests\n",
       "accuracy            0.966947             0.967849        0.966737\n",
       "precision           0.483945             0.525733        0.495335\n",
       "recall              0.044780             0.258807        0.283428\n",
       "f1                  0.081062             0.342245        0.358536"
      ]
     },
     "execution_count": 197,
     "metadata": {},
     "output_type": "execute_result"
    }
   ],
   "source": [
    "ResultsDF_allFeatures"
   ]
  },
  {
   "cell_type": "markdown",
   "metadata": {},
   "source": [
    "- The test dataset did not perform as well as our best run metrics but still performed well, especially for accuracy and precision. It was difficult to find a balance between optimum precision and recall, given the limitations of our imbalanced dataset. Due to the lack of data on class 1 data, it made obtaining a high positive recall value very difficult for this task."
   ]
  },
  {
   "cell_type": "code",
   "execution_count": 198,
   "metadata": {},
   "outputs": [
    {
     "data": {
      "text/plain": [
       "0.9849555735056543"
      ]
     },
     "execution_count": 198,
     "metadata": {},
     "output_type": "execute_result"
    }
   ],
   "source": [
    "# compute the out-of-bag classification accuracy\n",
    "rfc.oob_score_"
   ]
  },
  {
   "cell_type": "markdown",
   "metadata": {},
   "source": [
    "Conclusion:\n",
    "\n",
    "The aim of this assignment was to find a model which best predicted the binary outcome of death, from an individual who has Covid-19. This was a difficult task, given the imbalanced cdc dataset. We achieved some good results despite this through exploring different models including linear regression, logistic regression and random forest. We then enhanced the random forest model even further through the optimatisations implemented in Part 5. Despite the low recall received on our test dataset, we are pleased with how well our random forest model performed throughout the course of this assignment."
   ]
  }
 ],
 "metadata": {
  "kernelspec": {
   "display_name": "Python 3",
   "language": "python",
   "name": "python3"
  },
  "language_info": {
   "codemirror_mode": {
    "name": "ipython",
    "version": 3
   },
   "file_extension": ".py",
   "mimetype": "text/x-python",
   "name": "python",
   "nbconvert_exporter": "python",
   "pygments_lexer": "ipython3",
   "version": "3.8.3"
  }
 },
 "nbformat": 4,
 "nbformat_minor": 4
}
